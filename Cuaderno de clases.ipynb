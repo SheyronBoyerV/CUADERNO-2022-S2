{
  "nbformat": 4,
  "nbformat_minor": 0,
  "metadata": {
    "colab": {
      "name": "Untitled0.ipynb",
      "provenance": [],
      "toc_visible": true,
      "authorship_tag": "ABX9TyMrsSgIjGHMDAsaiy9kYFKT",
      "include_colab_link": true
    },
    "kernelspec": {
      "name": "python3",
      "display_name": "Python 3"
    },
    "language_info": {
      "name": "python"
    }
  },
  "cells": [
    {
      "cell_type": "markdown",
      "metadata": {
        "id": "view-in-github",
        "colab_type": "text"
      },
      "source": [
        "<a href=\"https://colab.research.google.com/github/SheyronBoyerV/CUADERNO-2022-S2/blob/main/Cuaderno%20de%20clases.ipynb\" target=\"_parent\"><img src=\"https://colab.research.google.com/assets/colab-badge.svg\" alt=\"Open In Colab\"/></a>"
      ]
    },
    {
      "cell_type": "markdown",
      "source": [
        "### ***TAREA 1 TALLER 2023***"
      ],
      "metadata": {
        "id": "iSw76431qbMZ"
      }
    },
    {
      "cell_type": "code",
      "source": [
        "#TAREA 1 / TALLER DE PROGRAMACIÓN\n",
        "#BITÁCORA\n",
        "import time\n",
        "import datetime\n",
        "#---------------------------------------------------------------\n",
        "def esNumero(cadena):\n",
        "    for caracter in cadena:\n",
        "        if(caracter < '0' or caracter > '9'):\n",
        "            return False\n",
        "    return True\n",
        "#---------------------------------------------------------------\n",
        "def largoTexto(texto):\n",
        "    if(isinstance(texto, str)):\n",
        "        if(texto!=\"\"):\n",
        "            return largoTexto_Aux(texto)\n",
        "        else:\n",
        "            return \"𝑬𝑹𝑹𝑶𝑹: 𝑬𝒍 𝒕𝒆𝒙𝒕𝒐 𝒅𝒆𝒃𝒆 𝒔𝒆𝒓 𝒅𝒊𝒇𝒆𝒓𝒆𝒏𝒕𝒆 𝒂 𝒗𝒂𝒄í𝒐\"\n",
        "    else:\n",
        "        return \"𝑬𝑹𝑹𝑶𝑹: 𝑬𝒍 𝒕𝒆𝒙𝒕𝒐 𝒅𝒆𝒃𝒆 𝒔𝒆𝒓 𝒕𝒊𝒑𝒐 𝒔𝒕𝒓𝒊𝒏𝒈\"\n",
        "\n",
        "def largoTexto_Aux(texto):\n",
        "    res=0\n",
        "    for caracter in texto:\n",
        "        res+= 1\n",
        "    return res\n",
        "#----------------------------------------------------------------\n",
        "def largoLista(lista):\n",
        "    if(isinstance(lista, list)):\n",
        "        if(lista!=[]):\n",
        "            return largoLista_Aux(lista)\n",
        "        else:\n",
        "            return \"𝑬𝑹𝑹𝑶𝑹: 𝑳𝒂 𝒍𝒊𝒔𝒕𝒂 𝒏𝒐 𝒅𝒆𝒃𝒆 𝒔𝒆𝒓 𝒗𝒂𝒄í𝒂\"\n",
        "    else:\n",
        "        return \"𝑬𝑹𝑹𝑶𝑹: 𝑬𝒍 𝒑𝒂𝒓á𝒎𝒆𝒕𝒓𝒐 𝒍𝒊𝒔𝒕𝒂 𝒅𝒆𝒃𝒆 𝒔𝒆𝒓 𝒕𝒊𝒑𝒐 𝑳𝑰𝑺𝑻\"\n",
        "\n",
        "def largoLista_Aux(lista):\n",
        "    res=0\n",
        "    for elemento in lista:\n",
        "        res+=1\n",
        "    return res\n",
        "#----------------------------------------------------------------------------\n",
        "def Menu():\n",
        "    while(True):\n",
        "        print(\"𝑪𝒂𝒓𝒈𝒂𝒏𝒅𝒐 𝒎𝒆𝒏ú....❒❐❒❐❒\")\n",
        "        time.sleep(1.5)\n",
        "        print(\"\")\n",
        "        print(\"𝑬𝒍𝒊𝒈𝒆 𝒖𝒏𝒂 𝒅𝒆 𝒍𝒂𝒔 𝒔𝒊𝒈𝒖𝒊𝒆𝒏𝒕𝒆𝒔 𝒐𝒑𝒄𝒊𝒐𝒏𝒆𝒔 𝒑𝒐𝒓 𝒇𝒂𝒗𝒐𝒓:\")\n",
        "        print(\"\")\n",
        "        print(\"┏┉┅━━━━━━━━⊕━━━━━━━━┅┉┓\")\n",
        "        print(\"(𝟏) ► 𝑹𝒆𝒈𝒊𝒔𝒕𝒓𝒐 𝒅𝒆 𝑨𝒄𝒕𝒊𝒗𝒊𝒅𝒂𝒅\")\n",
        "        print(\"(𝟐) ► 𝑩𝒐𝒓𝒓𝒂𝒓 𝑨𝒄𝒕𝒊𝒗𝒊𝒅𝒂𝒅\")\n",
        "        print(\"(𝟑) ► 𝑴𝒐𝒅𝒊𝒇𝒊𝒄𝒂𝒓 𝑨𝒄𝒕𝒊𝒗𝒊𝒅𝒂𝒅\")\n",
        "        print(\"(𝟒) ► 𝑽𝒆𝒓 𝒕𝒐𝒅𝒐𝒔 𝒍𝒐𝒔 𝒎𝒆𝒏𝒔𝒂𝒋𝒆𝒔\")\n",
        "        print(\"(𝟓) ► 𝑩𝒖𝒔𝒒𝒖𝒆𝒅𝒂𝒔\")\n",
        "        print(\"(𝟔) ► 𝑪𝒂𝒏𝒕𝒊𝒅𝒂𝒅 𝒅𝒆 𝒎𝒆𝒏𝒔𝒂𝒋𝒆𝒔\")\n",
        "        print(\"(𝟕) ► 𝑮𝒖𝒂𝒓𝒅𝒂𝒓 𝒎𝒆𝒏𝒔𝒂𝒋𝒆𝒔\")\n",
        "        print(\"(𝟖) ► 𝑺𝑨𝑳𝑰𝑹\")\n",
        "        print(\"┗┉┅━━━━━━━━⊕━━━━━━━━┅┉┛\")\n",
        "        print(\"\")\n",
        "\n",
        "        select= int(input(\"𝒊𝒏𝒈𝒓𝒆𝒔𝒆 𝒍𝒂 𝒐𝒑𝒄𝒊ó𝒏 𝒆𝒍𝒆𝒈𝒊𝒅𝒂:  \"))\n",
        "        if(select>0 and select<=8):\n",
        "            if(select==1):\n",
        "                registrar_actividad()\n",
        "            elif(select==2):\n",
        "                borrar_Actividad()\n",
        "            elif(select==3):\n",
        "                modificar_Actividad()\n",
        "            elif(select==4):\n",
        "                ver_Mensajes()\n",
        "            elif(select==5):\n",
        "                busquedas()\n",
        "            elif(select==6):\n",
        "                cantidad_De_Mensajes()\n",
        "            elif(select==7):\n",
        "                guardar_Mensajes()\n",
        "            elif(select==8):\n",
        "                print(\"𝑪𝒆𝒓𝒓𝒂𝒏𝒅𝒐 𝑩𝒊𝒕á𝒄𝒐𝒓𝒂....❒❐❒❐❒\")\n",
        "                time.sleep(1.3)\n",
        "                print(\"𝑨𝒅𝒊ó𝒔\")\n",
        "                break\n",
        "        else:\n",
        "            return \"𝑬𝑹𝑹𝑶𝑹: 𝑬𝒍 𝒗𝒂𝒍𝒐𝒓 𝒊𝒏𝒈𝒓𝒆𝒔𝒂𝒅𝒐 𝒏𝒐 𝒅𝒆𝒃𝒆 𝒔𝒆𝒓 𝒎𝒆𝒏𝒐𝒓 𝒏𝒊 𝒔𝒖𝒑𝒆𝒓𝒂𝒓 𝒆𝒍 𝒓𝒂𝒏𝒈𝒐 𝒅𝒆 𝒐𝒑𝒄𝒊𝒐𝒏𝒆𝒔, 𝒑𝒐𝒓 𝒇𝒂𝒗𝒐𝒓 𝒊𝒏𝒈𝒓𝒆𝒔𝒆 𝒍𝒂 𝒐𝒑𝒄𝒊ó𝒏 𝒏𝒖𝒆𝒗𝒂𝒎𝒆𝒏𝒕𝒆\"\n",
        "        return Menu()\n",
        "#------------------------------------------------------------\n",
        "def guardar_Mensajes():\n",
        "    inicio = input(\"Ingrese la fecha de inicio: \")\n",
        "    final = input(\"Ingrese la fecha final: \")\n",
        "    nombre_Archivo = input(\"Ingrese el nombre del nuevo archivo a crear: \")\n",
        "    \n",
        "    archivo_Origen = open(\"Bitácora.txt\", \"r\")\n",
        "    archivo_Nuevo = open(nombre_Archivo, \"w\")\n",
        "    \n",
        "    linea = archivo_Origen.readline() # Leer el archivo Bitácora.txt línea por línea\n",
        "    while(linea != \"\"):\n",
        "        Indi1= linea.split(\";\") # Separar la línea en campos usando el separador ';'\n",
        "        Indi2= linea.split(\";\")\n",
        "        if(Indi1 [1]== inicio and Indi2[1]== final):\n",
        "            archivo_Nuevo.write(linea)\n",
        "        linea = archivo_Origen.readline()\n",
        "\n",
        "    archivo_Origen.close()\n",
        "    archivo_Nuevo.close()\n",
        "#------------------------------------------------------------\n",
        "def cantidad_De_Mensajes():\n",
        "    with open(\"Bitácora.txt\", \"r\") as archivo:\n",
        "        cont = 0\n",
        "        for linea in archivo:\n",
        "            campos = linea.split(';')\n",
        "            mensaje = campos[5].rstrip(\"\\n\")\n",
        "            cont+=1\n",
        "        print(\"\")\n",
        "        print(\" ► 𝑳𝒂 𝒄𝒂𝒏𝒕𝒊𝒅𝒂𝒅 𝒅𝒆 𝒎𝒆𝒏𝒔𝒂𝒋𝒆𝒔 𝒆𝒏 𝒍𝒂 𝒃𝒊𝒕á𝒄𝒐𝒓𝒂 𝒔𝒐𝒏: \", cont)\n",
        "        print(\"\")\n",
        "#------------------------------------------------------------\n",
        "def busquedas():\n",
        "    while(True):\n",
        "        print(\"\")\n",
        "        print(\"𝑺𝒆𝒍𝒆𝒄𝒊𝒐𝒏𝒆 𝒄ú𝒂𝒍 𝒆𝒔 𝒍𝒂 𝒇𝒐𝒓𝒎𝒂 𝒅𝒆 𝒃𝒖𝒔𝒒𝒖𝒆𝒅𝒂 𝒒𝒖𝒆 𝒒𝒖𝒊𝒆𝒓𝒆 𝒓𝒆𝒂𝒍𝒊𝒛𝒂𝒓\")\n",
        "        print(\"\")\n",
        "        print(\"┏┉┅━━━━━━━⊕━━━━━━━┅┉┓\")\n",
        "        print(\"(𝟏) ► 𝑩𝒖𝒔𝒄𝒂𝒓 𝒑𝒐𝒓 𝒖𝒔𝒖𝒂𝒓𝒊𝒐\")\n",
        "        print(\"(𝟐) ► 𝑩𝒖𝒔𝒄𝒂𝒓 𝒑𝒐𝒓 𝒂𝒑𝒍𝒊𝒄𝒂𝒄𝒊ó𝒏\")\n",
        "        print(\"(𝟑) ► 𝑩𝒖𝒔𝒄𝒂𝒓 𝒑𝒐𝒓 𝒇𝒆𝒄𝒉𝒂\")\n",
        "        print(\"(𝟒) ► 𝑹𝒆𝒕𝒐𝒓𝒏𝒂𝒓\")\n",
        "        print(\"┗┉┅━━━━━━━⊕━━━━━━━┅┉┛\")\n",
        "        print(\"\")\n",
        "        option= int(input(\"𝑺𝒆𝒍𝒆𝒄𝒊𝒐𝒏𝒆 𝒆𝒍 𝒎é𝒕𝒐𝒅𝒐 𝒅𝒆 𝒃𝒖𝒔𝒒𝒖𝒆𝒅𝒂:  \"))\n",
        "        if(option>0 and option<=4):\n",
        "            if(option==1):\n",
        "                buscar_Usuario()\n",
        "            elif(option==2):\n",
        "                buscar_App()\n",
        "            elif(option==3):\n",
        "                buscar_Fecha()\n",
        "            elif(option==4):\n",
        "                Menu()\n",
        "        else:\n",
        "            return \"𝑬𝑹𝑹𝑶𝑹: 𝑬𝒍 𝒗𝒂𝒍𝒐𝒓 𝒊𝒏𝒈𝒓𝒆𝒔𝒂𝒅𝒐 𝒏𝒐 𝒅𝒆𝒃𝒆 𝒔𝒆𝒓 𝒎𝒆𝒏𝒐𝒓 𝒏𝒊 𝒔𝒖𝒑𝒆𝒓𝒂𝒓 𝒆𝒍 𝒓𝒂𝒏𝒈𝒐 𝒅𝒆 𝒐𝒑𝒄𝒊𝒐𝒏𝒆𝒔, 𝒑𝒐𝒓 𝒇𝒂𝒗𝒐𝒓 𝒊𝒏𝒈𝒓𝒆𝒔𝒆 𝒍𝒂 𝒐𝒑𝒄𝒊ó𝒏 𝒏𝒖𝒆𝒗𝒂𝒎𝒆𝒏𝒕𝒆\"\n",
        "        return busquedas()\n",
        "#------------------------------------------------------------------------------------------------\n",
        "def buscar_Usuario():\n",
        "    nombreUsuario = \"\"\n",
        "    encontrado = False\n",
        "    while not encontrado:\n",
        "        nombreUsuario = input(\"𝑰𝒏𝒈𝒓𝒆𝒔𝒆 𝒆𝒍 𝒏𝒐𝒎𝒃𝒓𝒆 𝒅𝒆 𝒖𝒔𝒖𝒂𝒓𝒊𝒐 𝒂 𝒃𝒖𝒔𝒄𝒂𝒓: \")\n",
        "        with open(\"Bitácora.txt\", \"r\") as archivo:\n",
        "            for linea in archivo:\n",
        "                campos = linea.strip().split(\";\")\n",
        "                if(campos[3] == nombreUsuario):\n",
        "                    print(linea)\n",
        "                    encontrado = True\n",
        "            if not encontrado:\n",
        "                print(\"𝑵𝒐 𝒔𝒆 𝒆𝒏𝒄𝒐𝒏𝒕𝒓ó 𝒖𝒏 𝒖𝒔𝒖𝒂𝒓𝒊𝒐 𝒄𝒐𝒏 𝒆𝒍 𝒏𝒐𝒎𝒃𝒓𝒆 𝒊𝒏𝒈𝒓𝒆𝒔𝒂𝒅𝒐. 𝑰𝒏𝒕𝒆𝒏𝒕𝒆 𝒏𝒖𝒆𝒗𝒂𝒎𝒆𝒏𝒕𝒆\")\n",
        "    print(\"𝑩𝒖𝒔𝒒𝒖𝒆𝒅𝒂 𝒑𝒐𝒓 𝒖𝒔𝒖𝒂𝒓𝒊𝒐 𝒇𝒊𝒏𝒂𝒍𝒊𝒛𝒂𝒅𝒂\")\n",
        "    return busquedas()\n",
        "#-----------------------------------------------------------------------------------------------\n",
        "def buscar_App():\n",
        "    nombreApp = \"\"\n",
        "    encontrado= False\n",
        "    while not encontrado:\n",
        "        nombreApp = input(\"𝑰𝒏𝒈𝒓𝒆𝒔𝒆 𝒆𝒍 𝒏𝒐𝒎𝒃𝒓𝒆 𝒅𝒆 𝒍𝒂 𝒂𝒑𝒍𝒊𝒄𝒂𝒄𝒊ó𝒏 𝒂 𝒃𝒖𝒔𝒄𝒂𝒓: \")\n",
        "        with open(\"Bitácora.txt\", \"r\") as archivo:\n",
        "            for linea in archivo:\n",
        "                campos = linea.strip().split(\";\")\n",
        "                if(nombreApp in campos[4]):\n",
        "                    print(linea)\n",
        "                    encontrado= True\n",
        "            if not encontrado:\n",
        "                print(\"𝑵𝒐 𝒔𝒆 𝒆𝒏𝒄𝒐𝒏𝒕𝒓ó 𝒖𝒏𝒂 𝒂𝒑𝒍𝒊𝒄𝒂𝒄𝒊ó𝒏 𝒄𝒐𝒏 𝒆𝒍 𝒏𝒐𝒎𝒃𝒓𝒆 𝒊𝒏𝒈𝒓𝒆𝒔𝒂𝒅𝒐. 𝑰𝒏𝒕𝒆𝒏𝒕𝒆 𝒏𝒖𝒆𝒗𝒂𝒎𝒆𝒏𝒕𝒆\")\n",
        "    print(\"𝑩ú𝒔𝒒𝒖𝒆𝒅𝒂 𝒑𝒐𝒓 𝒂𝒑𝒍𝒊𝒄𝒂𝒄𝒊ó𝒏 𝒇𝒊𝒏𝒂𝒍𝒊𝒛𝒂𝒅𝒂.\")\n",
        "    return busquedas()\n",
        "#--------------------------------------------------------------------------------------------------\n",
        "def buscar_Fecha():\n",
        "    fecha=\"\"\n",
        "    encontrado= False\n",
        "    while not encontrado:\n",
        "        fecha = input(\"𝑰𝒏𝒈𝒓𝒆𝒔𝒆 𝒍𝒂 𝒇𝒆𝒄𝒉𝒂 𝒆𝒏 𝒇𝒐𝒓𝒎𝒂𝒕𝒐 DD/MM/YYYY: \")\n",
        "        with open(\"Bitácora.txt\", \"r\") as archivo:\n",
        "            for linea in archivo:\n",
        "                campos = linea.strip().split(\";\")\n",
        "                if(fecha in campos[1]):\n",
        "                    print(linea)\n",
        "                    encontrado= True\n",
        "            if not encontrado:\n",
        "                print(\"𝑵𝒐 𝒔𝒆 𝒆𝒏𝒄𝒐𝒏𝒕𝒓ó 𝒖𝒏𝒂 𝒇𝒆𝒄𝒉𝒂 𝒊𝒈𝒖𝒂𝒍 𝒂 𝒍𝒂 𝒊𝒏𝒈𝒓𝒆𝒔𝒂𝒅𝒂.𝑰𝒏𝒕𝒆𝒏𝒕𝒆 𝒏𝒖𝒆𝒗𝒂𝒎𝒆𝒏𝒕𝒆\")\n",
        "    print(\"𝑩ú𝒔𝒒𝒖𝒆𝒅𝒂 𝒑𝒐𝒓 𝒇𝒆𝒄𝒉𝒂 𝒇𝒊𝒏𝒂𝒍𝒊𝒛𝒂𝒅𝒂\")\n",
        "    return busquedas()\n",
        "#--------------------------------------------------------------------------------------------------\n",
        "def ver_Mensajes():\n",
        "    archivo = open(\"Bitácora.txt\", \"r\")\n",
        "    for linea in archivo:\n",
        "        campos = linea.split(\";\")\n",
        "        mensaje = campos[5].rstrip(\"\\n\")\n",
        "        print(mensaje)\n",
        "    archivo.close()\n",
        "    print(\"\")\n",
        "    print(\"[𝑳𝒐𝒔 𝒂𝒏𝒕𝒆𝒓𝒊𝒐𝒓𝒆𝒔 𝒓𝒆𝒔𝒖𝒍𝒕𝒂𝒅𝒐𝒔 𝒔𝒐𝒏 𝒕𝒐𝒅𝒐𝒔 𝒍𝒐𝒔 𝒎𝒆𝒏𝒔𝒂𝒋𝒆𝒔 𝒓𝒆𝒈𝒊𝒔𝒕𝒓𝒂𝒅𝒐𝒔 𝒉𝒂𝒔𝒕𝒂 𝒆𝒍 𝒎𝒐𝒎𝒆𝒏𝒕𝒐]\")\n",
        "    print(\"\")\n",
        "\n",
        "#---------------------------------------------------------------------------------------------------\n",
        "def modificar_Actividad():\n",
        "    archivo = open(\"Bitácora.txt\", \"r\")\n",
        "    lineas = archivo.readlines()\n",
        "    archivo.close()\n",
        "    codigo = input(\"𝑰𝒏𝒈𝒓𝒆𝒔𝒆 𝒆𝒍 𝒄ó𝒅𝒊𝒈𝒐 𝒅𝒆 𝒍𝒂 𝒂𝒄𝒕𝒊𝒗𝒊𝒅𝒂𝒅 𝒂 𝒎𝒐𝒅𝒊𝒇𝒊𝒄𝒂𝒓: \")  # Pedir código de actividad a modificar\n",
        "\n",
        "    linea_encontrada = False  # Buscar la línea correspondiente al código\n",
        "    indice_linea = None\n",
        "    for elemento in range(largoLista(lineas)):\n",
        "        partes = lineas[elemento].split(\";\")\n",
        "        if(partes[0] == codigo):\n",
        "            linea_encontrada = True\n",
        "            indice_linea = elemento\n",
        "            break\n",
        "\n",
        "    if linea_encontrada:  # Si se encontró la línea, proceder a modificar la información\n",
        "        newDate = input(\"𝑰𝒏𝒈𝒓𝒆𝒔𝒆 𝒍𝒂 𝒏𝒖𝒆𝒗𝒂 𝒇𝒆𝒄𝒉𝒂(DD/MM/YYYY):  \")\n",
        "        while not validarFecha(newDate):\n",
        "            newDate = input(\"𝑭𝒐𝒓𝒎𝒂𝒕𝒐 𝒅𝒆 𝒇𝒆𝒄𝒉𝒂 𝒊𝒏𝒗á𝒍𝒊𝒅𝒐. 𝑰𝒏𝒈𝒓𝒆𝒔𝒆 𝒍𝒂 𝒇𝒆𝒄𝒉𝒂 𝒆𝒏 𝒇𝒐𝒓𝒎𝒂𝒕𝒐 (DD/MM/YYYY):  \")\n",
        "\n",
        "        newHour = input(\"𝑰𝒏𝒈𝒓𝒆𝒔𝒆 𝒍𝒂 𝒏𝒖𝒆𝒗𝒂 𝒉𝒐𝒓𝒂(HH:MM:SS AM/PM): \")\n",
        "        while not validarHora(newHour):\n",
        "            newHour = input(\"𝑭𝒐𝒓𝒎𝒂𝒕𝒐 𝒅𝒆 𝒉𝒐𝒓𝒂 𝒊𝒏𝒗á𝒍𝒊𝒅𝒐. 𝑰𝒏𝒈𝒓𝒆𝒔𝒆 𝒍𝒂 𝒉𝒐𝒓𝒂 𝒆𝒏 𝒇𝒐𝒓𝒎𝒂𝒕𝒐(HH:MM:SS AM/PM):  \")\n",
        "\n",
        "        newUser= input(\"𝑰𝒏𝒈𝒓𝒆𝒔𝒆 𝒆𝒍 𝒏𝒖𝒆𝒗𝒐 𝒖𝒔𝒖𝒂𝒓𝒊𝒐(𝒎á𝒙𝒊𝒎𝒐 𝟖 𝒄𝒂𝒓𝒂𝒄𝒕𝒆𝒓𝒆𝒔): \")\n",
        "        while not validar_nombreUsuario(newUser):\n",
        "            newUser = input(\"𝑵𝒐𝒎𝒃𝒓𝒆 𝒅𝒆 𝒖𝒔𝒖𝒂𝒓𝒊𝒐 𝒊𝒏𝒗á𝒍𝒊𝒅𝒐. 𝑰𝒏𝒈𝒓𝒆𝒔𝒆 𝒆𝒍 𝒏𝒐𝒎𝒃𝒓𝒆 𝒅𝒆 𝒖𝒔𝒖𝒂𝒓𝒊𝒐 (𝒎á𝒙𝒊𝒎𝒐 𝟖 𝒄𝒂𝒓𝒂𝒄𝒕𝒆𝒓𝒆𝒔): \")\n",
        "\n",
        "        newApp = input(\"𝑰𝒏𝒈𝒓𝒆𝒔𝒆 𝒆𝒍 𝒏𝒐𝒎𝒃𝒓𝒆 𝒅𝒆 𝒍𝒂 𝒂𝒑𝒍𝒊𝒄𝒂𝒄𝒊ó𝒏(𝒎á𝒙𝒊𝒎𝒐 𝟏𝟔 𝒄𝒂𝒓𝒂𝒄𝒕𝒆𝒓𝒆𝒔): \")\n",
        "        while not validar_nombreApp(newApp):\n",
        "            newApp = input(\"𝑵𝒐𝒎𝒃𝒓𝒆 𝒅𝒆 𝒂𝒑𝒍𝒊𝒄𝒂𝒄𝒊ó𝒏 𝒊𝒏𝒗á𝒍𝒊𝒅𝒐.𝑰𝒏𝒈𝒓𝒆𝒔𝒆 𝒆𝒍 𝒏𝒐𝒎𝒃𝒓𝒆 𝒅𝒆 𝒍𝒂 𝒂𝒑𝒍𝒊𝒄𝒂𝒄𝒊ó𝒏(𝒎á𝒙𝒊𝒎𝒐 𝟏𝟔 𝒄𝒂𝒓𝒂𝒄𝒕𝒆𝒓𝒆𝒔): \")\n",
        "\n",
        "        newMSJ = input(\"𝑰𝒏𝒈𝒓𝒆𝒔𝒆 𝒆𝒍 𝒏𝒖𝒆𝒗𝒐 𝒎𝒆𝒏𝒔𝒂𝒋𝒆 (𝒎á𝒙𝒊𝒎𝒐 𝟓𝟎 𝒄𝒂𝒓𝒂𝒄𝒕𝒆𝒓𝒆𝒔): \")\n",
        "        while not validar_Mensaje(newMSJ):\n",
        "            newMSJ = input(\"𝑴𝒆𝒏𝒔𝒂𝒋𝒆 𝒊𝒏𝒗á𝒍𝒊𝒅𝒐. 𝑰𝒏𝒈𝒓𝒆𝒔𝒆 𝒔𝒖 𝒎𝒆𝒏𝒔𝒂𝒋𝒆(𝒎á𝒙𝒊𝒎𝒐 𝟓𝟎 𝒄𝒂𝒓𝒂𝒄𝒕𝒆𝒓𝒆𝒔\")\n",
        "\n",
        "        # Actualizar la línea correspondiente al código con los nuevos valores\n",
        "        newLine = codigo + \";\" + newDate + \";\" + newHour + \";\" + newUser + \";\" + newApp + \";\" + newMSJ + \"\\n\"\n",
        "        lineas[indice_linea] = newLine\n",
        "\n",
        "        # Guardar los cambios en el archivo\n",
        "        archivo = open(\"Bitácora.txt\", \"w\")\n",
        "        for linea in lineas:\n",
        "            archivo.write(linea)\n",
        "        archivo.close()\n",
        "        print(\"\")\n",
        "        print(\"𝑳𝒂 𝒂𝒄𝒕𝒊𝒗𝒊𝒅𝒂𝒅 𝒉𝒂 𝒔𝒊𝒅𝒐 𝒎𝒐𝒅𝒊𝒇𝒊𝒄𝒂𝒅𝒂 𝒆𝒙𝒊𝒕𝒐𝒔𝒂𝒎𝒆𝒏𝒕𝒆\")\n",
        "        print(\"\")\n",
        "    else:\n",
        "        print(\"𝑬𝑹𝑹𝑶𝑹: 𝑵𝒐 𝒔𝒆 𝒆𝒏𝒄𝒐𝒏𝒕𝒓ó 𝒏𝒊𝒏𝒈Ú𝑵 𝒓𝒆𝒈𝒊𝒔𝒕𝒓𝒐 𝒅𝒆 𝒂𝒄𝒕𝒊𝒗𝒊𝒅𝒂𝒅 𝒄𝒐𝒏 𝒆𝒍 𝒄ó𝒅𝒊𝒈𝒐 𝒊𝒏𝒈𝒓𝒆𝒔𝒂𝒅𝒐\")\n",
        "#------------------------------------------------------------------------------------------------------------------------------\n",
        "def borrar_Actividad():\n",
        "    archivo = open(\"Bitácora.txt\", \"r\")\n",
        "    lineas = archivo.readlines()\n",
        "    archivo.close()\n",
        "    buscar = input(\"𝑰𝒏𝒕𝒓𝒐𝒅𝒖𝒛𝒄𝒂 𝒆𝒍 𝒄ó𝒅𝒊𝒈𝒐 𝒅𝒆𝒍 𝒓𝒆𝒈𝒊𝒔𝒕𝒓𝒐 𝒅𝒆 𝒂𝒄𝒕𝒊𝒗𝒊𝒅𝒂𝒅 𝒒𝒖𝒆 𝒅𝒆𝒔𝒆𝒂 𝒃𝒐𝒓𝒓𝒂𝒓(𝟓 𝒅í𝒈𝒊𝒕𝒐𝒔): \")\n",
        "\n",
        "    encontrado = False\n",
        "    borrarI = None\n",
        "    for elemento in range(largoLista(lineas)):\n",
        "        linea = lineas[elemento]\n",
        "        codigo = linea[:5]\n",
        "        if(codigo == buscar):\n",
        "            encontrado = True\n",
        "            borrarI = elemento\n",
        "            break\n",
        "\n",
        "    if(encontrado):    # Abrimos el archivo en modo escritura y escribimos todas las líneas excepto la que queremos borrar\n",
        "        archivo = open(\"Bitácora.txt\", \"w\")\n",
        "        for elemento in range(largoLista(lineas)):\n",
        "            if(elemento != borrarI):\n",
        "                archivo.write(lineas[elemento])\n",
        "        archivo.close()\n",
        "\n",
        "        print(\"𝑬𝒍 𝒓𝒆𝒈𝒊𝒔𝒕𝒓𝒐 𝒅𝒆 𝒂𝒄𝒕𝒊𝒗𝒊𝒅𝒂𝒅 𝒄𝒐𝒏 𝒄ó𝒅𝒊𝒈𝒐\", buscar , \"𝒉𝒂 𝒔𝒊𝒅𝒐 𝒆𝒍𝒊𝒎𝒊𝒏𝒂𝒅𝒂 𝒄𝒐𝒓𝒓𝒆𝒄𝒕𝒂𝒎𝒆𝒏𝒕𝒆\")\n",
        "        print(\"\")\n",
        "        print(\"\")\n",
        "    else:\n",
        "        print(\"𝑬𝒍 𝒄ó𝒅𝒊𝒈𝒐 𝒊𝒏𝒈𝒓𝒆𝒔𝒂𝒅𝒐 𝒏𝒐 𝒆𝒙𝒊𝒔𝒕𝒆, 𝒑𝒐𝒓 𝒇𝒂𝒗𝒐𝒓 𝒊𝒏𝒈𝒓𝒆𝒔𝒆 𝒏𝒖𝒆𝒗𝒂𝒎𝒆𝒏𝒕𝒆 𝒆𝒍 𝒄ó𝒅𝒊𝒈𝒐 𝒂 𝒆𝒍𝒊𝒎𝒊𝒏𝒂𝒓\")\n",
        "        return borrar_Actividad()\n",
        "#------------------------------------------------------------------------------------------------------------------------------\n",
        "def validarCodigo(codigo):\n",
        "    numerosValidos = ['0','1','2','3','4','5','6','7','8','9']\n",
        "    if(largoLista(codigo) != 5):\n",
        "        return False\n",
        "    for caracter in codigo:\n",
        "        if caracter not in numerosValidos:\n",
        "            return False\n",
        "    return True\n",
        "#-------------------------------------------------\n",
        "def validarFecha(fecha):\n",
        "    fechaPartes = fecha.split('/')\n",
        "    if(largoLista(fechaPartes) != 3):\n",
        "        return False\n",
        "    dia = fechaPartes[0]\n",
        "    mes = fechaPartes[1]\n",
        "    year = fechaPartes[2]\n",
        "    try:\n",
        "        dia_Aux = int(dia)\n",
        "        mes_Aux = int(mes)\n",
        "        year_Aux = int(year)\n",
        "    except:\n",
        "        return False\n",
        "    if not (1 <= dia_Aux <= 31 and 1 <= mes_Aux <= 12 and 1900 <= year_Aux <= 9999):\n",
        "        return False\n",
        "    return True\n",
        "#------------------------------------------------\n",
        "def validarHora(hora):\n",
        "    horaPartes = hora.split(':')\n",
        "    if(largoLista(horaPartes) != 3):\n",
        "        return False\n",
        "    horas = horaPartes[0]\n",
        "    minutos = horaPartes[1]\n",
        "    segundos_ampm = horaPartes[2].split(' ')\n",
        "    if(largoLista(segundos_ampm) != 2):\n",
        "        return False\n",
        "    segundos = segundos_ampm[0]\n",
        "    ampm = segundos_ampm[1]\n",
        "    if not(esNumero(horas) and esNumero(minutos) and esNumero(segundos)):\n",
        "        return False\n",
        "    horas = int(horas)\n",
        "    minutos = int(minutos)\n",
        "    segundos = int(segundos)\n",
        "    if not(0 <= horas <= 24 and 0 <= minutos <= 59 and 0 <= segundos <= 59):\n",
        "        return False\n",
        "    if not(ampm == 'AM' or ampm == 'PM'):\n",
        "        return False\n",
        "    return True\n",
        "#-----------------------------------------------\n",
        "def validar_nombreUsuario(nombre):\n",
        "    if(largoTexto(nombre)> 8):\n",
        "        return False\n",
        "    return True\n",
        "#-----------------------------------------------\n",
        "def validar_nombreApp(nombre):\n",
        "    if(largoTexto(nombre)>16):\n",
        "        return False\n",
        "    return True\n",
        "#-----------------------------------------------\n",
        "def validar_Mensaje(mensaje):\n",
        "    if(largoTexto(mensaje)>50):\n",
        "        return False\n",
        "    return True\n",
        "#-----------------------------------------------\n",
        "def generarCodigo():\n",
        "    codigo = str(int(time.time() * 1000))\n",
        "    return codigo[-5:]\n",
        "#-----------------------------------------------\n",
        "def guardar_actividad(codigo, fecha, hora, nombreUsuario, nombreApp, mensaje):\n",
        "    with open(\"Bitácora.txt\", \"a\") as archivo:\n",
        "        registro = str(codigo) + \";\" + str(fecha) + \";\" + str(hora) + \";\" + str(nombreUsuario) + \";\" + str(nombreApp) + \";\" + str(mensaje) + \"\\n\"\n",
        "        archivo.write(registro)\n",
        "    print(\"\")\n",
        "    print(\"𝑺𝒖 𝒓𝒆𝒈𝒊𝒔𝒕𝒓ó 𝒅𝒆 𝒂𝒄𝒕𝒊𝒗𝒊𝒅𝒂𝒅 𝒂𝒄𝒂𝒃𝒂 𝒅𝒆 𝒔𝒆𝒓 𝒈𝒖𝒂𝒓𝒅𝒂𝒅𝒐 𝒅𝒆 𝒇𝒐𝒓𝒎𝒂 𝒆𝒙𝒊𝒕𝒐𝒔𝒂\")\n",
        "    print(\"\")\n",
        "    print(\"\")\n",
        "#---------------------------------------------------------------------------------------------------------------------------------------------------\n",
        "def registrar_actividad():\n",
        "    codigo = generarCodigo()\n",
        "\n",
        "    fecha = input(\"𝑰𝒏𝒈𝒓𝒆𝒔𝒆 𝒍𝒂 𝒇𝒆𝒄𝒉𝒂 𝒆𝒏 𝒇𝒐𝒓𝒎𝒂𝒕𝒐 DD/MM/YYYY: \")\n",
        "    while not validarFecha(fecha):\n",
        "        fecha = input(\"𝑭𝒐𝒓𝒎𝒂𝒕𝒐 𝒅𝒆 𝒇𝒆𝒄𝒉𝒂 𝒊𝒏𝒗á𝒍𝒊𝒅𝒐. 𝑰𝒏𝒈𝒓𝒆𝒔𝒆 𝒍𝒂 𝒇𝒆𝒄𝒉𝒂 𝒆𝒏 𝒇𝒐𝒓𝒎𝒂𝒕𝒐 DD/MM/YYYY: \")\n",
        "\n",
        "    hora = input(\"𝑰𝒏𝒈𝒓𝒆𝒔𝒆 𝒍𝒂 𝒉𝒐𝒓𝒂 𝒆𝒏 𝒇𝒐𝒓𝒎𝒂𝒕𝒐 HH:MM:SS AM/PM: \")\n",
        "    while not validarHora(hora):\n",
        "        hora = input(\"𝑭𝒐𝒓𝒎𝒂𝒕𝒐 𝒅𝒆 𝒉𝒐𝒓𝒂 𝒊𝒏𝒗á𝒍𝒊𝒅𝒐.𝑰𝒏𝒈𝒓𝒆𝒔𝒆 𝒍𝒂 𝒉𝒐𝒓𝒂 𝒆𝒏 𝒇𝒐𝒓𝒎𝒂𝒕𝒐 HH:MM:SS AM/PM: \")\n",
        "\n",
        "    nombreUsuario = input(\"𝑰𝒏𝒈𝒓𝒆𝒔𝒆 𝒆𝒍 𝒏𝒐𝒎𝒃𝒓𝒆 𝒅𝒆 𝑼𝒔𝒖𝒂𝒓𝒊𝒐(𝒎á𝒙𝒊𝒎𝒐 𝟖 𝒄𝒂𝒓𝒂𝒄𝒕𝒆𝒓𝒆𝒔): \")\n",
        "    while not validar_nombreUsuario(nombreUsuario):\n",
        "        nombreUsuario = input(\"𝑵𝒐𝒎𝒃𝒓𝒆 𝒅𝒆 𝒖𝒔𝒖𝒂𝒓𝒊𝒐 𝒊𝒏𝒗á𝒍𝒊𝒅𝒐. 𝑰𝒏𝒈𝒓𝒆𝒔𝒆 𝒆𝒍 𝒏𝒐𝒎𝒃𝒓𝒆 𝒅𝒆 𝑼𝒔𝒖𝒂𝒓𝒊𝒐(𝒎á𝒙𝒊𝒎𝒐 𝟖 𝒄𝒂𝒓𝒂𝒄𝒕𝒆𝒓𝒆𝒔): \")\n",
        "\n",
        "    nombreApp = input(\"𝑰𝒏𝒈𝒓𝒆𝒔𝒆 𝒆𝒍 𝒏𝒐𝒎𝒃𝒓𝒆 𝒅𝒆 𝒍𝒂 𝒂𝒑𝒍𝒊𝒄𝒂𝒄𝒊ón(𝒎á𝒙𝒊𝒎𝒐 𝟏𝟔 𝒄𝒂𝒓𝒂𝒄𝒕𝒆𝒓𝒆𝒔): \")\n",
        "    while not validar_nombreApp(nombreApp):\n",
        "        nombreApp = input(\"𝑵𝒐𝒎𝒃𝒓𝒆 𝒅𝒆 𝒂𝒑𝒍𝒊𝒄𝒂𝒄𝒊ó𝒏 𝒊𝒏𝒗á𝒍𝒊𝒅𝒐. 𝑰𝒏𝒈𝒓𝒆𝒔𝒆 𝒆𝒍 𝒏𝒐𝒎𝒃𝒓𝒆 𝒅𝒆 𝒍𝒂 𝒂𝒑𝒍𝒊𝒄𝒂𝒄𝒊ón(𝒎á𝒙𝒊𝒎𝒐 𝟏𝟔 𝒄𝒂𝒓𝒂𝒄𝒕𝒆𝒓𝒆𝒔): \")\n",
        "\n",
        "    mensaje = input(\"𝑰𝒏𝒈𝒓𝒆𝒔𝒆 𝒆𝒍 𝒎𝒆𝒏𝒔𝒂𝒋𝒆(𝒎á𝒙𝒊𝒎𝒐 𝟓𝟎 𝒄𝒂𝒓𝒂𝒄𝒕𝒆𝒓𝒆𝒔): \")\n",
        "    while not validar_Mensaje(mensaje):\n",
        "        mensaje= input(\"𝑴𝒆𝒏𝒔𝒂𝒋𝒆 𝒊𝒏𝒗á𝒍𝒊𝒅𝒐. 𝑰𝒏𝒈𝒓𝒆𝒔𝒆 𝒆𝒍 𝒎𝒆𝒏𝒔𝒂𝒋𝒆(𝒎á𝒙𝒊𝒎𝒐 𝟓𝟎 𝒄𝒂𝒓𝒂𝒄𝒕𝒆𝒓𝒆𝒔): \")\n",
        "\n",
        "    guardar_actividad(codigo, fecha, hora, nombreUsuario, nombreApp, mensaje)\n",
        "#FIN--------------------------------------------------------------------------------------------------------------------------------------------------------\n"
      ],
      "metadata": {
        "id": "pxTP41lSqiEi"
      },
      "execution_count": null,
      "outputs": []
    },
    {
      "cell_type": "markdown",
      "source": [
        "# **SEMANA 1**"
      ],
      "metadata": {
        "id": "DdYwAuabBSky"
      }
    },
    {
      "cell_type": "markdown",
      "source": [
        "## **Operadores**\n",
        "**Diagrama de Flujo**\n",
        "\n",
        "\n",
        "![v3.png](data:image/png;base64,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)"
      ],
      "metadata": {
        "id": "mV-MmwOFoSEc"
      }
    },
    {
      "cell_type": "markdown",
      "source": [
        "**Pseudocódigo**\n",
        "```\n",
        "Algoritmo operadores\n",
        "\tLeer a\n",
        "\tb <- a^2\n",
        "\tEscribir b\n",
        "\tc <-trunc(a/10)\n",
        "\tEscribir c\n",
        "\td = a MOD 10\n",
        "\tEscribir d\n",
        "FinAlgoritmo\n",
        "\n",
        "```\n",
        "\n"
      ],
      "metadata": {
        "id": "XWHMvMv0o4s-"
      }
    },
    {
      "cell_type": "markdown",
      "source": [
        "## **CalcularIVA**\n",
        "##**Diagrama de flujo**\n",
        "![V2.png](data:image/png;base64,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)"
      ],
      "metadata": {
        "id": "J4yyrgY-m4zE"
      }
    },
    {
      "cell_type": "markdown",
      "source": [
        "**Pseudocódigo**\n",
        "```\n",
        "# Algoritmo calcularIVA\n",
        "\tLeer precioProducto\n",
        "\tLeer cantidad\n",
        "\ttotal = precioProducto * cantidad\n",
        "\ttotal = total * 1.13\n",
        "\tEscribir total\n",
        "FinAlgoritmo\n",
        "\n",
        "```\n",
        "\n"
      ],
      "metadata": {
        "id": "seZWMzOqnagb"
      }
    },
    {
      "cell_type": "code",
      "source": [
        "#CÓDIGO EN PYTHON\n",
        "\n",
        "def calcularIVA(precio, cantidad):\n",
        "    if(isinstance(precio, int) and (cantidad, int)):\n",
        "        if((precio>0) and (cantidad>0)):\n",
        "            return calcularIVA_Aux(precio, cantidad)\n",
        "        else:\n",
        "            return \"Debe ser mayor a cero\"\n",
        "    else:\n",
        "        return \"Debe ser un valor entero\"\n",
        "\n",
        "def calcularIVA_Aux(precio, cantidad):\n",
        "    total=0\n",
        "    total= precio*cantidad\n",
        "    total=total*1.13\n",
        "    return total\n"
      ],
      "metadata": {
        "id": "gLIgRt-y1Ypq"
      },
      "execution_count": null,
      "outputs": []
    },
    {
      "cell_type": "markdown",
      "source": [
        "Semana 1- Pseudocódigo"
      ],
      "metadata": {
        "id": "2JZAPEYRWuGf"
      }
    },
    {
      "cell_type": "markdown",
      "source": [
        "##**ContadorDeDigitos**\n",
        "\n",
        "Usando Pseint para crear un diagrama de flujo para representar el y pseudocódigo para el algoritmo de contarDigitos.\n",
        "\n",
        "- Recibirá dos parámetros\n",
        "- Amboa mayores a cero\n"
      ],
      "metadata": {
        "id": "Z6jkvD00XOe2"
      }
    },
    {
      "cell_type": "markdown",
      "source": [
        "**Diagrama de Flujo**\n",
        "\n",
        "![Captura de pantalla 2022-08-07 162003.png](data:image/png;base64,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)"
      ],
      "metadata": {
        "id": "a4iYMAD-bZ86"
      }
    },
    {
      "cell_type": "markdown",
      "source": [
        "**Pseudocódigo**\n",
        "```\n",
        "Algoritmo contarDigitos\n",
        "\tLeer num\n",
        "\tSi num>0 Entonces\n",
        "\t\tMientras num>0 Hacer\n",
        "\t\t\tnum = trunc(num/10)\n",
        "\t\t\tres = res+1\n",
        "\t\tFinMientras\n",
        "\t\tEscribir res\n",
        "\tSiNo\n",
        "\t\tEscribir 0\n",
        "\tFinSi\n",
        "FinAlgoritmo\n",
        "\n",
        "```\n",
        "\n"
      ],
      "metadata": {
        "id": "2J9zF64HbiMo"
      }
    },
    {
      "cell_type": "code",
      "source": [
        "##**CÓDIGO EN PYTHON**\n",
        "\n",
        "def contarDigitos(num):\n",
        "    if(isinstance(num, int)):\n",
        "        if(num>0):\n",
        "            return contarDigitos_Aux(num)\n",
        "        else:\n",
        "            return \"Debe ser mayor a cero\"\n",
        "    else:\n",
        "        return \"Debe ser un valor entero\"\n",
        "\n",
        "def contarDigitos_Aux(num):\n",
        "    result=0\n",
        "    while(num>0):\n",
        "        num=num//10\n",
        "        result+=1\n",
        "    return result"
      ],
      "metadata": {
        "id": "7JmiVC_WxyYc"
      },
      "execution_count": null,
      "outputs": []
    },
    {
      "cell_type": "markdown",
      "source": [
        "## **CompararNumeros**\n",
        "##**Diagrama de flujo**\n",
        "![ComprarDigitos.png](data:image/png;base64,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)"
      ],
      "metadata": {
        "id": "O8VkYuMets3N"
      }
    },
    {
      "cell_type": "markdown",
      "source": [
        "**PSEUDOCÓDIGO**\n",
        "```\n",
        "#Algoritmo compararNumeros\n",
        "\tLeer num1\n",
        "\tLeer num2\n",
        "\tSi num1>num2 Entonces\n",
        "\t\tEscribir \"SI\"\n",
        "\tSiNo\n",
        "\t\tEscribir \"NO\"\n",
        "\tFinSi\n",
        "FinAlgoritmo\n",
        "\n",
        "\n",
        "```\n",
        "\n"
      ],
      "metadata": {
        "id": "txNWDts3t2SD"
      }
    },
    {
      "cell_type": "code",
      "source": [
        "#CÓDIGO EN PYTHON\n",
        "\n",
        "def compararDigitos(num1, num2):\n",
        "    if(isinstance(num1, int) and (num2, int)):\n",
        "        if(num1>=0) and (num2>0):\n",
        "            return compararDigitos_Aux(num1,num2)\n",
        "        else:\n",
        "            return \"Deben ser mayor o igual a cero\"\n",
        "    else:\n",
        "        return \"Numdebe ser entero\"\n",
        "\n",
        "def compararDigitos_Aux(num1,num2):\n",
        "    if(num1>num2):\n",
        "        return \"SI\"\n",
        "    else:\n",
        "        return \"NO\""
      ],
      "metadata": {
        "id": "cH5CuG9G5FzD"
      },
      "execution_count": null,
      "outputs": []
    },
    {
      "cell_type": "markdown",
      "source": [
        "# **SEMANA 2**"
      ],
      "metadata": {
        "id": "pksE6NLiQIrk"
      }
    },
    {
      "cell_type": "markdown",
      "source": [
        "## **Promedio 4 números**\n",
        "## **DIAGRAMA DE FLUJO**\n",
        "![CalcularPromedio.png](data:image/png;base64,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)"
      ],
      "metadata": {
        "id": "B2KxTDHQQpXh"
      }
    },
    {
      "cell_type": "markdown",
      "source": [
        "**Pseudocódigo**\n",
        "```\n",
        "#Algoritmo CalcularPromedio\n",
        "\tLeer num1,num2,num3,num4\n",
        "\tresultado <- num1+num2+num3+num4/4\n",
        "\tEscribir resultado\n",
        "FinAlgoritmo\n",
        "```\n",
        "\n"
      ],
      "metadata": {
        "id": "qZcf-Gb4RPOo"
      }
    },
    {
      "cell_type": "code",
      "source": [
        "#CÓDIGO EN PYTHON\n",
        "\"\"\"\n",
        "Nombre: CalcularPromedio\n",
        "Entrada: num1, num2, num3, num4\n",
        "Salida: promedio \n",
        "Restricciones: Deben ser enteros mayores a cero\n",
        "\"\"\"\n",
        "def calcularPromedio(num1, num2, num3, num4):\n",
        "    if(isinstance(num1, int) and (num2, int) and (num3, int) and (num4, int)):\n",
        "        if((num1>=0) and (num2>=0) and (num3>=0) and (num4>=0)):\n",
        "            return calcularPromedio_Aux(num1, num2, num3, num4)\n",
        "        else:\n",
        "            return \"ERROR: Num no debe ser menor a cero\"\n",
        "    else:\n",
        "        return \"ERROR: Num debe ser entero\"\n",
        "def calcularPromedio_Aux(num1, num2, num3, num4):\n",
        "    return (num1 + num2 + num3 + num4)/4"
      ],
      "metadata": {
        "id": "6RL96YjqRoZ8"
      },
      "execution_count": null,
      "outputs": []
    },
    {
      "cell_type": "markdown",
      "source": [
        "## **Volumen Caja**\n",
        "## **Diagrama de Flujo**\n",
        "![VolumenCaja.png](data:image/png;base64,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)"
      ],
      "metadata": {
        "id": "ucFApPs4PCPa"
      }
    },
    {
      "cell_type": "markdown",
      "source": [
        "**Pseudocódigo**\n",
        "```\n",
        "# Algoritmo VolumenCaja\n",
        "\tLeer largo\n",
        "\tLeer ancho\n",
        "\tLeer altura\n",
        "\tEscribir largo*ancho*altura\n",
        "FinAlgoritmo\n",
        "\n",
        "```\n",
        "\n"
      ],
      "metadata": {
        "id": "vLnmsBlzPeG0"
      }
    },
    {
      "cell_type": "code",
      "source": [
        "CÓDIGO EN PYTHON\n",
        "def volumen(largo, ancho, altura):\n",
        "    return largo*ancho*altura\n"
      ],
      "metadata": {
        "id": "TfIJ7ca0Pm6I"
      },
      "execution_count": null,
      "outputs": []
    },
    {
      "cell_type": "markdown",
      "source": [
        "## **Calcular Circunferencia**\n",
        "## **Diagrama de flujo**\n",
        "![CalcularCircunferencia.png](data:image/png;base64,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)"
      ],
      "metadata": {
        "id": "BeJfle6DPveL"
      }
    },
    {
      "cell_type": "markdown",
      "source": [
        "Pseudocódigo\n",
        "\n",
        "```\n",
        "# Algoritmo CalcularCircunferencia\n",
        "\tLeer radio\n",
        "\tEscribir PI*radio^2\n",
        "FinAlgoritmo\n",
        "\n",
        "```\n",
        "\n"
      ],
      "metadata": {
        "id": "g5aaXXt5RcXE"
      }
    },
    {
      "cell_type": "code",
      "source": [
        "def circulo(radio):\n",
        "    pi=3.1416\n",
        "    return pi*radio**2"
      ],
      "metadata": {
        "id": "d4nuATCERkA1"
      },
      "execution_count": null,
      "outputs": []
    },
    {
      "cell_type": "markdown",
      "source": [],
      "metadata": {
        "id": "vnMBfS0JRoQ-"
      }
    },
    {
      "cell_type": "markdown",
      "source": [
        "## **Verificar si puede votar**\n",
        "## **Diagrama de flujo**\n",
        "![Proximas Elecciones.png](data:image/png;base64,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)"
      ],
      "metadata": {
        "id": "zoPlM1fDSo4x"
      }
    },
    {
      "cell_type": "markdown",
      "source": [
        "**Pseudocódigo**\n",
        "```\n",
        "#Algoritmo proximasElecciones\n",
        "\tLeer edad\n",
        "\tSi edad>=18 Entonces\n",
        "\t\tEscribir \"SI puede votar\"\n",
        "\tSiNo\n",
        "\t\tEscribir \"NO puede votar\"\n",
        "\tFinSi\n",
        "FinAlgoritmo\n",
        "```"
      ],
      "metadata": {
        "id": "FnPqHlNKTB3y"
      }
    },
    {
      "cell_type": "code",
      "source": [
        "#CÓDIGO EN PYTHON\n",
        "\"\"\"\n",
        "Nombre: ProximasElecciones\n",
        "Entrada: Edad\n",
        "Salida: Si puede o no votar\n",
        "Retricciones: que sea entero y mayor a cero\n",
        "\"\"\"\n",
        "def proximasElecciones(edad):\n",
        "  if(isinstance(edad, int) and (edad>0)):\n",
        "    return proximasElecciones_Aux(edad)\n",
        "  else:\n",
        "    return \"ERROR: La edad debe ser un valor entero positivo\"\n",
        "def proximasElecciones_Aux(edad):\n",
        "  if(edad>=18):\n",
        "    return \"SI PUEDE VOTAR\"\n",
        "  else:\n",
        "    return \"NO PUEDE VOTAR\""
      ],
      "metadata": {
        "id": "sLZz-_PiTRLj"
      },
      "execution_count": null,
      "outputs": []
    },
    {
      "cell_type": "markdown",
      "source": [],
      "metadata": {
        "id": "FNAi-Oj8UzbM"
      }
    },
    {
      "cell_type": "markdown",
      "source": [
        "## **Precio de un traje**\n",
        "## **Diagrama de flujo**\n",
        "![PrecioTraje.png](data:image/png;base64,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)"
      ],
      "metadata": {
        "id": "1t8xRy78U0Bm"
      }
    },
    {
      "cell_type": "markdown",
      "source": [
        "**Pseudocódigo**\n",
        "```\n",
        "# Algoritmo precioTraje\n",
        "\tLeer precio\n",
        "\tres1 = 0.85 * precio \n",
        "\tres2 = 0.92 * precio\n",
        "\tSi precio>0 Entonces\n",
        "\t\tSi precio>2500 Entonces\n",
        "\t\t\tEscribir res1\n",
        "\t\tSiNo\n",
        "\t\t\tEscribir res2\n",
        "\t\tFinSi\n",
        "\tSiNo\n",
        "\t\tEscribir \"ERROR el valor no puede ser 0\"\n",
        "\tFinSi\n",
        "FinAlgoritmo\n",
        "\n",
        "```\n"
      ],
      "metadata": {
        "id": "JyW7280uVchP"
      }
    },
    {
      "cell_type": "code",
      "source": [
        "#CODIGO EN PYTHON\n",
        "def PrecioTraje(precio):\n",
        "    if(isinstance(precio, int)):\n",
        "        if(precio>0):\n",
        "            return precioTraje_Aux(precio)\n",
        "        else:\n",
        "            return \"ERROR: El parámetro precio debe ser mayor a 0\"\n",
        "    else:\n",
        "        return \"ERROR: El parámetro precio debe ser tipo entero positivo\"\n",
        "\n",
        "def precioTraje_Aux(precio):\n",
        "    precio=0\n",
        "    res1= 0.85* precio\n",
        "    res2= 0.92* precio\n",
        "    if(precio>2500):\n",
        "        return res1\n",
        "    else:\n",
        "        return res2"
      ],
      "metadata": {
        "id": "OoEu2xkBVm2y"
      },
      "execution_count": null,
      "outputs": []
    },
    {
      "cell_type": "markdown",
      "source": [
        "## **PresupuestoEvento**\n",
        "\n",
        "## **Diagrama de Flujo**\n",
        "![PS.png](data:image/png;base64,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)\n"
      ],
      "metadata": {
        "id": "2_6pBeWbvLxe"
      }
    },
    {
      "cell_type": "markdown",
      "source": [
        "**Pseudocódigo**\n",
        "```\n",
        "# Algoritmo PresupuestoEvento\n",
        "\tLeer numP\n",
        "\tSi numP>5 Y numP<10 Entonces\n",
        "\t\tEscribir numP*8500\n",
        "\t\tSi numP>11 Entonces\n",
        "\t\t\tEscribir numP*7500\n",
        "\t\t\tSi numP<=5 Y numP>0 Entonces\n",
        "\t\t\t\tEscribir numP*9500\n",
        "\t\t\tFinSi\n",
        "\t\tFinSi\n",
        "\tFinSi\n",
        "FinAlgoritmo\n",
        "```\n",
        "\n"
      ],
      "metadata": {
        "id": "lD94yQpyvUCb"
      }
    },
    {
      "cell_type": "code",
      "source": [
        "def presupuestoEvento(numPersonas):\n",
        "    if(isinstance(numPersonas,int)):\n",
        "        if(numPersonas>0):\n",
        "            return presupuestoEvento_Aux(numPersonas)\n",
        "        else:\n",
        "            return \"ERROR: numPersonas debe ser en valor entero positivo\"\n",
        "    else:\n",
        "        return \"ERROR: numPersonas debe tener un valor mayor a 0\"\n",
        "\n",
        "def presupuestoEvento_Aux(numPersonas):\n",
        "    if(numPersonas>5 and numPersonas <10):\n",
        "       return numPersonas * 8500\n",
        "    elif(numPersonas>11):\n",
        "        return numPersonas * 7500\n",
        "    elif(numPersonas <=5 and numPersonas>0):\n",
        "        return numPersonas * 9500"
      ],
      "metadata": {
        "id": "N4OzVObFvbss"
      },
      "execution_count": null,
      "outputs": []
    },
    {
      "cell_type": "markdown",
      "source": [
        "## **esPAR**\n",
        "## **Diagrama de flujo**\n",
        "![esPar.png](data:image/png;base64,iVBORw0KGgoAAAANSUhEUgAAA44AAAHMCAIAAAAVmmGNAAAAA3NCSVQICAjb4U/gAAAgAElEQVR4nO3dX3DT173v/a/25CbZxBdJ9oMTkYMmtiluUoojamaslrjeBDYG3MLwJEMjJUMa2RuY2O7TIfakMMgTwuBkcmLTAQ4WO57UajMwHpwasA9OHtWhtWdDo5iSpGZjO0ccEJhpkguHk9w8M3oufvpvWZasf0vS+zW+sKSffr8lCS99+P7WWj+d1+sVAAAAQD3/lO0GAAAAANERVQEAAKAooioAAAAURVQFAACAooiqAAAAUBRRFQAAAIoiqgIAAEBRRFUAAAAoiqgKAAAARd2T7QYAyJzh18uz3QQoqvo349luAgBEoePCqkAh0EJqdaMj2w2BioYPm7VfCKwAVENUBfLf8OvlhFTMSwuspFUASiGqAnmOnIqEDB82k1YBqINpVUA+I6ciUdWNDsY0A1AHURXIWwvNqXc7157VFQV/TEfvpr5xCzJ59IJS7clXpFUA6iCqAvkpjpx6t3Pt5GSGmpMSd8+dnhGR0dPTMZo9OXV3cOh2Tr2uOU0efVFXtCryZ+2LDUdH0v0CSasAFEFUBfJQXPXUqelTl26dm5r9wKKmDzd5ZzZ5ZzZNHCpKS/sWaNHGrUUiUrW1uHSuTYbGyiqGa8/JnBvkgUtXulqbyta+l4E4TloFkHVEVaBADR6+OiozzYdvZ7shCSjdtcY7s2lk16JsNySj6ns/9s4EfyZ6f10lIpfeeuHojbQel1HOAFRAVAXyTXxDVG+/3y0iIt3Tg2lvUeZMTn4jIlXfuz/bDUmj0nXbR8Z+XSUyevovFFYB5D2iKlCQhqa7ROp36EU87w8tcB+TQ2Mm/wQsU9PkpIhM3W5Ye1ZXdKEzMK5g6nZn04XgDK2mycHIIQfaLK6xQRGZmmwI7jBkvOnQ2DzTvKYmTUVndUVny1pnRGS0dTiwcYPv1d1uKDqra7rtP8QF7f7Jo2OmouDNuNscpxuDTS+a/GNMTWsPzt7P5NBB09rggNSo20RR8t+eiHwHRhrm2c+NzrWrdEUHB0Vk6r2Gtf4tm2INe6WwCiDriKpAIRo855HK5Xs6i+tFus4tZAzA5NELZds8o5d8N0e7r5atvWCqcHVdEpGZv2s5aWjMVOFq7p4JPGu0+2ptRXguDBgaM1Vc7Qru0FXWlPLZUdMNvkPMdG0bGxwaK2v1jIr/ZrAZcbc5lpGGoi213VdGA/u5dLq2YlXofiaPvli27fTopSsSuc18Z/an/vdnoTeHDuoqmrqi7Cfac4cOmireCnmfm8piplUAyC6iKlCAbr/frU1OevjnOxY2BuD2m60zIkUdvdW+CVi9erk0M1q5fGJmk3dm0/F1InK7YZtnVKRqh1G70ztTPbCjKCwXBn1z4A2P7Fg+MBbcsn7jw77ZUesqtKN4e/XRm1NSOhIyD6y+1zctzN8Sv27PZ4eq/Zt5ard56nurvTPVHTtE5JtrU4m2OYYbnWubumRFfW/fRHCM6dYqka5tB/37uXHu9BURqTrU6d+mTxuH2rWtJ8axJqfea2h4a1SkauuPtfdnUqT+UOfEWOR41pBjBZ994I3TsuPXA76N+wZ2rKjfaMrnWWgAchxRFSg4k0cnuqTomfWLRGTDRr2I50CiK5Vq4wd61zSt881wKl1XMbBD5NI3E2FHEdlhHOn0J05ZtKFzzcAOiXbEmdHHjSOdpRtKgluGpcz4TPzXjEjR90vmeLhy+bu7FolIaen9IiI7jMfXLRJZtPF7RQtq89yGepovSX3vO8fXPRpIgaXrXh3p3Spy2j/i4tFlj4vI1r27Aknx0dJ120fGOjt6X90QsrOubWGLVZVpNdHKX7+769HAno/vMpWGvGr/eNbTs0Z3XBl9vHOkc7v/fX50Q+c7C3ifASBjiKpAobl77vSMVD6yUQsr64rr51upNIqS+6viOYoUdTQ+HPHAhsblVVGOGGXL1Hv8n0PLh7NmXyXa5jlNTk7KrIipK1ql23ZaRD6b9J3f39DZWV95unbte2HjSktMTbGzY+WK+kOdEx9uDyuFTt0YPHrQtDZ4LFPDW6Mhx/Jb0dFoiu9FBDGzCkAWEVWBAjM1fepS6NKkD+85VCTRF1idW0nxM5XSte1C55Cv0Dg5NFbbLVJ5f5lvi2/+fklE7l82u8BZ8s9PSFj9VWSOLRN299rnyTw90TbPaeK/rsy/kYiI6fiHfROv/K8DDdrC/u9FnVMVsViV98N3ju8KP2U/dNBUsaW29XRg6LCIhP4eonQB73P1b8YTfg4ApMg92W4AgIyaPH9rVERah3WtYfefOn+3KYH1Shc1HV9+quJq87bh5pB7618pVWDUY0pSb/JWdIy90zR/Sx4tXffqyLpXRW5MDvW80LCqVrZ2HH81jif6Tb1n2nZ6VFbUH/rlnvUhwwCm3jNVvLWwpgOAOqiqAgVFmw4VxWjrREKTqybP3xqVoqpK/+1K/cBY6Bym+79fKf65SuGm/s9nElp/VUdq23zl74ktcfVo6bpXRz78eODx080VL3bG/dzBw2+NitT3vhMxXFWm/tfonE8CgJxBVAUKydC0Nm0oMEFe+9GmDSWywOrtN1tnqg49OeK/BKv3w4oNYYVA7SKoUa6GNXj46mjsi6MmK1rWjEvK2rxh41YR6XpjnmufDja9N/u/B2XfWyFy5dT5hK5EtWLWTLIbnW+cTmQPAKAooipQQAbPeaJPG9qol8QXWB1tnRicmnNSfOmusnoR6XaFLOZ/d7DpQm23iOj3puXiqIuWPS5a1vQdcep2w9oL8VcoU9bmdZaOSpFLb5WtPTg45Q+dUzcGm17UrfUvIDV0sLb7rdq1BztDVlGdHHrvhdYrIvJE6aPxHktE5Erz4eDaqJNTIw1rtzRHH6sKADmGsapAHho+bI52naHb73dLcO5/qHVlHZWe5u7pwc6HN8jthiJXV8iDo8GBrfqBmYoNIiIP/3yHdHV7ais8obupqix64pUnj/tWsHr4eK/+s22e0W5XWXfoVkX1vRWhizHNb2hMty14oEB76ns3RSy0tKFxeVX31Ygj1k/dlXiHfqaqzY82Hf/1qYq3Ri+drq0Iq25W7filbz/rLAM7Jmu7TzdvO90c8ezKX++JewGpDY2/rup+a7S7KazBlb8eOPRBbWucs7vmNHzYzJwqANlFVRXIN3NmC20x1Ogzn7Rz33GPAZi6/f7nUlWpr6osCr179NJM17bh4EWS1lWMjBk7dgS3qdqxfGBsIQumxquk9N1efWAhrapKfUdvtT86xydVbS7ZPjLTN3Boa8hw3hX1vX0jnYG1oh7d0PnOxFhnfeWK4LMqV9T39kUuRDXvgcY6O3YEdrKiakfnxIfb1RsKDAALofN6vdluA4AU0xbCTNsF3O92rh1uftzo7YwcSDA5NFa2zVN1qHokLef3kVGUVAGogAEAQB6q/s24fONK2+6/+fslkUsTDRvv37NuUbD+N3V34tw3aTsoAKAQUVUF8tbw6+VpKqwONp2t7Z7jscrlEx+qsLoqkkJJFYAiiKpAPktfWp0cmnzzjVufXZoJLt5ZWVS/tWzProfJqbmOnApAHURVIM+lL60iL5FTASiFqArkvzTPskKeIKQCUBBRFSgIWloVAiuiGT5slhjLnAFA9hBVgQISCKwaYmvB0rJpACEVgLKIqkBBiwivKBBkUwC5gqgKoBC5dDoRMdIBAoDauLAqAAAAFEVUBQAAgKKIqgAAAFAUURUAAACKIqoCAABAUURVAAAAKIqoCgAAAEURVQEAAKAooioAAAAURVQFAACAooiqAAAAUBRRFQAAAIoiqgIAAEBRRFUAAAAoiqgKAAAARRFVAQAAoCiiKgAAABRFVAWA9NLp2nS6tmy3AgBy0j3ZbgAAZIhLp4txj9HrTcdBCakAkAyqqgAKRYwwmu6c6vXuT8f+ASDvEVUBFJCokZScCgDKIqoCKCwRwZScCgAqI6oCKDiBeEpOBQDF6bzp6akBIE2Gn3s9200I+ukf/j8R+dMv7om4J+JOEan+/W8y2TAAyA+sAAAg91S/2ZjtJvj94b9LSHt0+v+u/eL1/D+hWw3vOZzhdgFAfmAAAIBcMvzc6wrl1HAxciolVQBYGKIqAKTAXDkVAJAMoiqAnKFsSTVGTqWkCgDJYKwqAKQMtVUASC2qqgAAAFAUi1UByA3Knv2PgbP/AJAkqqoAAABQFFEVQA6gpAoAhYmoCiD3uY+a9EW6liHt94a6Ip2+SKdf22CfCm7jbNLpi0yh94iIyGBLkU6/ttMtIkMN2k58e1jb4BQRmbQ3mfTBmwCATGIFAAB5xNmks3T7b1zqslV8JmMj1pJEdnGuwdTdpT3d0vTzHqm1dUvgpqdzQ0rbCwCIjaoqANXFe/Z//A2TpbvK1jvhmfF6ZiZslSIyeub8ZEIHc3R/ZhvzP7271tJd3zPm9Yx1mEXk82vuuNvM2X8ASAWiKoB84br0RM/MiHVdqYiIlFqPdxhFXKfPuRPZifHQu9YSESkteVxExNx7vKZEpGRjaWXK2wsAmBdRFYDSEphQZTy0pyb0dsmy8sSPV15aGnKrqjShwQM+lFQBIFWIqgDyRXjKBADkAaIqAAAAFEVUBaCulC+nOjoZuVhVynH2HwBSiKgKoDA89r0qERmfDFsQwH30gCNL7QEAxIGoCkBRKS6pGtY/YxRxtb7QMqSl1Un30QZTqxhTObWfkioApBZRFUCBKGlq3iEio45tZfoinb6ozNTaZTy0d3O22wUAmBtRFUDBqOmc6DlUb9RuVFaZeyf6d5WJiFz6+xfZbBcAYC46r9eb7TYAQKSUT6jKAM7+A0DKUVUFAACAooiqAJRDSRUAoCGqAgAAQFFEVQAAACiKqApALZz9BwAEEFUBAACgKKIqAIVQUgUAhGJdVQAKGX7u9Ww3IWHkVABIH6IqgELk0ulExEgHCABqYwAAAAAAFEVUBQAAgKKIqgAAAFAUURUAAACKIqoCAABAUURVAAAAKIqoCgAAAEURVQEAAKAooioAAAAURVQFAACAooiqAAAAUBRRFQAAAIoiqgIAAEBRRFUAAAAoiqgKAAAARRFVAQAAoCiiKgAAABRFVAUAAICidF6vN9ttAIBMcOl0MR410hkCgHqoqgIoFDHCKDkVANREVAVQQKJGUnIqACiLqAqgsEQEU3IqAKiMqAqg4ATiKTkVABTHtCoAhejHzw1rv/zl99XZbAcAIKZ7st0AAMgoLaT+x5vVoTcJrACgJqqqAApCoIwaCKmhfrnH9yiZFQCUQlQFkOciyqixaZmVwAoAiiCqAshbCYXUUARWAFAEURVAvol9rj9+jAoAgKwjqgLIHwsuo8ZGkRUAsoWoCiDnpaqMGhtFVgDIPKIqgByWpjJqbBRZASBjiKoAclJWQmooAisAZABRFUAuycy5/vgxKgAA0oqoCiA3ZL2MGhtFVgBIB6IqAKWpVkaNjSIrAKQWURWAohQvo8ZGkRUAUoKoChQ6l04X+N2oRoeQ0yE1FIEVAJJEVAUKV2hI1WQ3qubWuf74ZX1UgPZBh364s+8BADURVYHCpU5eyZsyamxZLLJGfNbqfPQAENs92W4AgMKVr2XUuWgvM/CqGRgAAPMiqgLIggIpo0YVeNXam0BgBYAYGAAAFK6sjFUt5JAaVcZGBQRO+nP2H0AOoaoKIBMK7Vx//BgVAAAxEFWBQpfu6lqellGvfz1kv3mm/1sRkfIHN+9asu6pe5PYHaMCACAqBgAAhSutJ4JzsIz65XW3LDU8FMeW179+d/O1j8PvW/XbH76QVFoNlab1rQJDPjj7DyBXUFUFkGK5W0b9qPHIQflB1+E1a2IH1iv2ax+LSN2yvQceWCxy56OJAy9/9fHLNyuulK1ITUsosgKAhqoqULhSXlXN3ZCquW4/3Wr7dExEjD/oOrx1jSH6Vp5Dm2945EFrSDC9svc/7f2i/9UPW3ekqrAaKlVTr6iqAsg5/5TtBgDIeT9+blj7+Y83q1OfU92d2/W65S2D2u/763TL9brletN++2RwG2fDcr1ue+g9IiJyoUW3XG/6nVtEBvdrO/HtwbTfKSJy3d6wXR+8udS69T3P7i7bDypcn9ab2rbXnb7gntWeO86vPCL6Xy0JLaAuLnlQRDz/8+s7KXzlQdobG3ifk9wbORVADmEAAFC4ko8sGS2jOhuWW7r8N0ZP2squycR71tJEdvH+flPXSe3ploZ/7ZF6W5cEbnqOrxEReWiNdesa65oL9gvHbJ/Wmz6tMNfs3PmTYIX1ztS3Ivc9WRNSPf1o4sDbX4mIjH97R2Txwl9ibMmPCiCkAsg5VFUBJCy9ZdSoxg9st3RV2AbOe7xXPd7ztioRGTtz7npCO3F0XbNN+J/eVW/perZn4qpn4lWziHzmdodu+tAaf4VVHM56U9v2lj9rFdbvpifCd3rdc+jlr1b99oeby0Xku+nEWrQwqS2yAoDKqKoCSEDWRqO6Rpf1eNtqfLeWWt999UzZQdepj9xNzxvi3omx45C1VESWljwhMirmgbaaUhF5qrTqYPQnBCqsvfU2Z73j81dH/v3/FhGRe4uXalt8/e7mG/KrH77w1L1XPhAZX+jLWwimXgEoBERVZNrsKyQhJzT94k+SxSlTxo4Xa0JvlxrKRVwJ7qR82dKQWxWlZfE86bpz/P89c0dExPi4wSByLfjQd0PPXvu4btlv0zKVKn6hFxHo/MNPs9oWqIvhH8hRRFVkDiE1R2U5pGrCU2aGuMd/d+yjg447YvzBqz1rnq95SES+ExHfiX77387Io3sPPOC7ZyLGnjJA+4B+KX8SAiuAPEJURabxP/uc8xcRyf2FqBL05YWW3nrHHZHFz9qeedFaHgjK9xaXiYzLJ69c8cije0/qwydRBQYGZF7Ygla/568MQZQJkNOIqgDiomUgla9BNTY5IZLQggBRfanN/R8TiZz7r1lccp/It57xB61XQnLq9a8/GRcpvy9t0//nkqbrWgGAIoiqABIQyENqFVkf+36FyNj4teuyIVjVdHcecyS2m+vO062W+S4BsLjmQf3b33rCU6lvsdV/eyCDUTVV1wUAAJURVQEsRGiRNfuB1bBxg7F5zNXc2rLsUPuGpSLX3Z3vmJrFWJXI1KvxdyyfjsniZ3u2tdXEuLDq0geeLL/hGb9xYO+9wQurvj1rsdU0IqQCKBxEVQALp8yogNLnm+sPWrrGHLXrA5VUY0fX5lP1iawSUGJ75nzIsNS53LvujUc/2XzD03/tQH/wXv2vytald6Aq5/oBFCCiKoBkKTEqoOb4+Z7vv9PRfNIlIlUV5r2H2jeI/ZTI6NQXIoZ4dlH+vDXOgy3Vt565991Xbn48/q2ISPl9q3aVvfBU+kqqlFEBFCydl+nYyBRtFiorAOQ9BYqseYIyKlKCvhc5jaiKzKG7LDSqjGTNQZRRkUL0vchpRFVkDt1lYSKwJoSQipSj70VOI6oic+guCxmjAmLjXD/Sh74XOY2oisyhu4RQZJ2FMirSjb4XOY2oisyhu0QARVbKqMgY+l7kNKIqMofuErMVYJGVMioyjL4XOY2oisyhu8RcCiSwElKRFfS9yGlEVWQO3SViy9dRAZzrR3bR9yKnEVWROXSXiFPeFFkpo0IF9L3IaURVZA7dJRKSu0VWyqhQCn0vchpRFZlDd4mFyaEiK2VUKIi+FzmNqIrMobtEMhQPrIRUKIu+FzmNqIrMobtE8lQbFcC5fqiPvhc5jaiKzKG7RAplvchKGRW5gr4XOY2oisyhu0TKZb7IShkVOYe+FzmNqIrMobtE+mSgyEoZFTmKvhc5jaiKzKG7RLqlKbASUpHT6HuR04iqyBy6S2RGqkYFcK4f+YG+FzmNqIrMobtEhi24yEoZFfmEvhc5jaiKzKG7RFbEX2SljIq8RN+LnEZURebQXSK7YhRZKaMij9H3IqcRVZE5dJdQQURgJaQi79H3IqcRVZE5dJdQR2BUACEVeY++FzmNqIrMobsEgMyj70VO+6dsNwAAAACIjqgKAAAARRFVAQAAoCiiKgAAABRFVAUAAICiiKoAAABQFFEVAAAAiiKqAgAAQFFEVQAAACiKqAoAAABFEVUBAACgKKIqAAAAFEVUBQAAgKKIqgAAAFAUURUAAACKIqoCAABAUfdkuwEAsHA6XVvEPV7v/qy0BACQDlRVAeSV2eEVAJC7dF6vN9ttQD5z6XQxHjXyzw+pEwipFFYB+l7kDaqqSK8YHSJ9JVKIYioQir4XeYOoirSL2i3SVyKFyKnAbPS9yA9EVWRCROdIX4kU4rw/MBf6XuQBoioyJNBF0lcihcipQGz0vch1CU+rem74uTQ1BQAS8oefLtN++cWfroXeQ2wFAn783HDozb/8vjo77QAWaiHrqr5Z/WbK2wEACdHr7NovHq81cOebXtkzvCdLLQKUEJFN/+PN6hiPklyhvsSqqs8NP0dOBZB1UXOqiOwZ3vP76t9no0VAdkRET5mVTWP75Z7IpxNeoRquVgUgx8yVU4FCELtomqjZT6fsCtUkUFWlpAog62LkVEqqyEupzaaJiii7klyReSmuqroH6kx9LuOWkf5aQ2r3jLS73KI/4oj/s+OzRqrE/2+JeioKQXazaQSGuiLrMjQAQPsqmutR7Ssq6jbGJebNP9tpXWmIsZ+IbXymnfazHbaLvo2Nq23Nm6w1xbHaE30/Bab8EUO2m4C84XYOHOvoc7hERIzmLc07a2sMqdgvORV5RqlsGhvJFZkXb1TN1tl/102H64jjzOqe/pdqEtjmckvdEUdoFHVdtFkunjHv7m9fmdSxAMTH7TxhslwM3HQ5+iyOWz0jLyWVVmOEVM7+I1ckORFKKbGTqxBekQoZnVZl3u2JkRSjbuO+3NJ4xOG62GHfVGMtjnMbZ8sRh0vEuLrnsO970e080Wi56HIcaVlvb69J5FgAFuLyMctFETH3vNZeUywy7WzZZ3FctBxbNX8nAOSZHCqaJolJWkiHuKJq/CVVwyPlIq4UnkQ2rGw/vGXc1Oc684nbOsc4toht3AMdDhEJK44aal7q7xG95aKjY2BnTXz7SdVLAAqP2/5Hh4iYd7f7Rt0U17TvNjuOOBx/tO9caTWEb518v0FJFUopnGw6LwYMIHk5cGFVwyPlIuK69UV827g/+KtLxGjbFHkSv2aTzSji+usH7uSOlbBpe51Vrz/h1H5vadPrrXq9ta5lIKQhl1v0Vn1d6D0iIuI8oddb6+zTIuJs0Xbi20Ndy2UREfdAS501eDORVjlb2ur0Vr3eqte3tTino27kdp6oq9O2serrYm7m31Vdy+XIVxH3fubhvtxSF2jznPuZ91hue5teb21xSujHoa874Zzd7jkk8lmEvs+z2uMeqNNb9bM/O+3+sH8P0077iZD9nLCn4XXF1eb49vDBmZsiS2w7QwuoxaVmEbl55oMFffqAyn783HDoz3+8WR36k+3WKSTinYl437LdOigq1QMAikuNYixN6dlz961xETE+8lhc2/i+Izc/PbsNxU9vXmJz3TzzwbT16cSO5bS3WWw3jbGHus7vcov+iMN/w+XoM41LotPnz7fsczi0px9pWb9bLH0OCdwMGdswb0vCxvLedFj2Sc/uiI2cLVaLI+S266bDss8xaxTHF/Y2i+1mYFcuxxHTeNhU7jj3M4/ZM+H8+xlpD86ES+RY4W+C66LFJAmNpIzjswj7xKO0x/DkZmOfa3ah8YtbLhHj5if99yU09jrJ1zVfm+MyPekSMf7o6ZCDOlv22bS3a3JaJOLPMw39BpBW1E1Tgpor4jF/VE1sQlWxtd+eysm57sstjX3hX9vxbKMviba1oUQvcjPKA/Mc6/J5200RcTk+dravXOiMK09H3UWXcUvP4doagz94uf76gbs28mRoLBcd41tGPL7VEhyWI2LePdK+UuwnTLaL41PTUhPXl702ltdo3n3YF/KmnS3HLZYjodu47W0WhxjNuw/vXGnQWqiN5Y3IxK4+i2uJfzyiuJ0DjZY+l6uv0f5kv7U4gf3MRyuWS+ANFHG7L3/QeMTmOHLMv5+EjjXe8UeXrLb1+NaFcDtPNJ5flciMnzg+C7eIeUvPzidrDIGlJy7bG4/Ygu0ptjavtlkunvlg2hoyPNp5/mLof7fiHXudktc1f5vj2cmt8Yg77G0Wx+qekUc6TH2u8VtuiVhnI7l+g7P/SLd8mgilMiZpIaqMTqtyHNE7Iu8z94R//0XbRoxbDofOc4q1zeXJOdfE8nFNTsvTcR9LRGTletsSh+2m0bwqiZUBbrrKQ+pShtrDtr+abDcjMsp8ltgO1xrEP7ZPVvdoWfPpR4y2uPehjeU1bjkcLEYW17Tv75HQeuTlY7abElG0M6xs798t+iOO85fba4L3G20N/vGIYqip7R+ROlOfy3bWaX2pJpH9xKb9N8PcHFztyGBYae1/rcQ+XVOTcJtFxOXS93jCRzMn9unG8VkYVrZHVCINK639r0ndPlugPTWrzHLRETY8+vJ5R0hJMsGx18m+rnjaHKfA2FPnCZNNbCMv1RgunxeZ7w8UUABFUxUwSQuaeaKqAleoCin+JbVNMseqse73JFsrjhi3N1+JN7rwanHsQRFziTy57FOzfrU4/EsLaVWxqFFeRMKqYqubI6K2dlLb5ZlyS43Ev5/51LzUY/ZYLG2lPQ3B9XGlOLhWQwJtFok6mjkxcX4W027nJ8c6/upw+T9r4xJxiUigPSt32pY4bH3HnLW+/7M5P3aEfEAxx15ftM0qzCf9uuJpcyLcA3WWi+YeeyJnDxJBSXUBXDpd4Hdj3BcszG9k05zAgIHCpPBiVdqYudXNs7NjrG2KS43z1G2MpcUit+I9VspEH5OQee4pj4iUl8wq5T72SPCd++JWvKWvKBGtuKTcv6P49xOHmvb9IzsvH2s8rreI0fyjzeuftIYOeEjwWFHegdSbNcZURFyR/z8xPP0jo/GdB08AAB+uSURBVO1moO4bcfb/i8mbc7RWe59vTn4hYgjem/TriqvNcRm/5RY5ZuoT22u+FD5rYAAyLTSkFjiyaR4guUbQ/sBD//85+55clNGomhit2hR7ldO5tvFMuWX2+DwtpS30WAXHaHutPxXvRqr2IyIGw8r2/pXtIm63L7OabQ3tITtP4bGSNm2v08YEb2kOHfop0/a6fbbQDQ21zeY+i29yVfjZ/0yLu82x+QZF/LWx7qbM/kS4IlrW5fr31sKQTfMeydXo9bp0OpdOl2d/47GiarbP/husPzPbjjh8ox7j3CZkmn9kZImxOEBcx0o7163wAllaaAMPoszBmlWVjDZTOx7TU+PiqyJ/kcx+YvFlVucJvWXfuATDUDqOtUDOszaXRI6dFfHPjg+7q2bnFqOj78wH09aSsLP/IvJY6ZLon5fvfV5SupBRICloc0zayY2bLvNuT8ifoW8wQwpn+nP2H3NhIhSYpJU31F5XdeVO2xKRix32GAsxRm5jePpHRhGX7awzYkPta3jOelU8x0qf4lKjaMXgENP2jovRN0+GdqJ/1vvjPB9yrJpVZhFx/NHulnm4+o5F7Mj9yRmXf2BA/PuZl/OEPfIT9b+WM5+4U3us1Jkdy3xr40cwPLnZKC7b2ZbzFyOG/y7033P62xxL8dObl8zaVaz/KwLJir2yKTkVs/9JsKprrpgzqma7pKoxWBtsxmjf0zG2MdQ2m0XkoiVk8XO380SddpnH5jnXMY1xLKe9bUHL7MdP+2q/aWv0t9k9bW/ZZ5MlCVSy4hR8fwb878+0094WthypL7jftJnaWpzTvq1k2u08Uadvawl/gxyWtsBy9G6nb/VT//ucwH5iutxiuWiztLXYQ64v4L5sb+xzSeCEcqqOlUou29ngCvzuaWdLm8kWddxnsbV5tchFh0MkYqGJhf57Tn+bY/En7H3+ywdMO1v2pThbU1JdMO0UofaT7bYsHKvuI0l5mVy1U//an3Z+DFQVBRarEok93cq38KSlJcalwyO3qWnfbR4/4nBdtJjCqpJG8+6YC0POdayUrKs6D98IhLA2L7H1/OiMZUEzWmLyvz99FlNf4E6zbcu4LbjGvsHaYDuzz6Yt/x76ZOPq5pC3wGjbvfnMEZslbCBj6Psc537ms3Jnz+pxy0WH7YjDFvFQcGmFFB0rRXwz9CP+ES6x9Ww5Y+mLMgNMW7VKxLw+8t/5Qv89p7/NMfiXYwv/LPwrfAELwGBTpBVDXZWl9gAAEfFfEDX2id3IbVa297/WYw4pSRqXmHtem/9aU9GPtXK9eYmIJLeu6rxWto/stpmXaDeMxtU9I/utj4n4xl+m+lih749xta3ntXbrI+Xim7UtItqq7CM9W8zGJf5nLTGad4/0h47lXbL56ZXWsF3Nfp/j2c/8DDUv9Y+Ef6bafkb2h6yClJpjpUixtf+1HtvqQINDP9NoVq43i8jq9VHaurI9fFfaR5bctdOiSrTNsRis+0d6Vhv9+/LtypCKZiJJRq838JPttsRC3VRkfL++bXndn69He+xCS9ty/ekLgdvu8d+1/I/l+jbtZ3vLny+4IzYO+9led/p3zi8X2rDrX7/77JWXV/znyyv+8+UVVw7t/frOQvcUz7GG9vqP9ezE0Effpe9QIfKy5pqjdN5oXZUaZ/+BAqJdwCzR680WLM7+L4zKJwSZCBXN+H79qZMiz/bsb4v4X6z7z9tNzjH5QZdn6xoRcZ7ebvl0LPLpi5/t+XftiRda2uqjntY01pzv/8nShBp1p/vKgbe/nXX3g9YrZSsS2lE8rn/97uZrH4fft+q3P3zhqXtTfqhE/HLPcMQ9SpVdA2N71PxjT5TCi1UB+c45YH+s1moIjLuNvE4EkM84oR+/kx1/frEmLFBeOOYMCabj+y2fjolUmJ851F6+VETkywstvfWOOyctp/9Vy7IiIotfHfn35w3a719ed15otXw65nKub3noant53G35aOLA29+K3Lfqt2X/9tS9i0Xk+tdDr1w7M/6Vfe+Dvz3wQFIvdJYr9msfi0jdsr0HHlgscuejiQMvf/Xxyzcr0hGLE8CVtDIpSlSlpApkwuWWjj6Hq88WuMP8M86Px4WSao4imy6cy/mO8yfBwqr7z8dCSqTX7R+dFBHzM+8FE+dDa9r/vUva6h2fHrOvWWN9aNYeH1pas/W9kX/ZbnKOOT763c5yf4Sdz5UPvhO5b/OZFesCyXnpA+tOLru94trH/V9dOfBAKhPkdc9Av4g8aD3wwGIREVn8VJm17it7/1cD3UtW7MhuYTUCQ13Th6oqkCUr2w9vkcY+h0tElphtP9tppaSK/JKT2dTdud3UPGYeuNq+Qdyd+xubT7pEpOpZ27tt1lLfNs6G5ZauCtvEe4F7RETkQouu3lH16sjI84bB/frak+aBqzuv7W9sPumqerZnpK1GrtsbWm1dY+K7GS/j4grXnZDC6pe/a3SOyeIK450xl4h8+dGZOyKLX90ZWRlds7OmwuEcOzN+3fqT6Hs2/OSQ7fP1tjuDH3z5fJQ4G82KAyv2Pv2dRA4ZuPfhchHtcnRf/q7uyMEY8zCNNef7yz+af5ufLL3j/Mojov/VktD4u7jkQZGvPP/z6zs79IvjanJWqJBc8+PsvxBVgSwy1Lb317ZnuxUoIOn+6srJbDoXZ8NyS5f/xuhJW9k1icym83l/v6nrpPZ0S8O/9ki9rUsCNz3H18R8cojHd9qk3uYvrDovHHTJsz3bSjqOjImIe3zQJWJ8/CnDrOcZyjcYnWOuzz9y/2T2g5qlTz9eYbszNvkPkfiiqogsjjJO9Lvb4yLl96U2O96Z+lbkvidrQg730cSBt78SERn/9o6IwlE1QoaTa96EVE1kVOXsPwCVcfZfHfk8EWr8wHbHaIVt4JB1w1KR63bTetvo2Jlz161NCcxAcnRds01ctZZet5vW27rqLfJsz0Rbjfyupeyg4zO3W9YY4t3TUutTz9pOnez484s15R91fCrGmhdr5KOOkC3KH4rWsIcM5SKxF5ozPLRMZGz8y+syq1KagOvf3RbR/9sDi0Xkoef79z8/3xPi2ea76YmIo3gOvfzVqt/+8OGjfzsz/t30dVmRRJOziitpJYSqKgAgLnlVNI3NNbqsxxs4R7/U+u6rZ8oOuk595G6Kd0yniBg7DllLRWRpyRMio2IeaKspFZGnSqsOJtyg8hdti0/anO+0/OOkS57t+clS8a8z9cU/Zk38j3Bn6osY1+z+lxKjiOsfyUTV74ZeueGRB61pGTx6b7GvXV+/u/mG/OqHLzx175UP/IMN8gSTtGILi6qUVAGojJJqQpK/GFXTL/4UejOfs2kEY8eLYWNJS+cvT85Wviw0/FWUliXTIl9h1eErqSrkTvfEmXFZ9Vv/lPyUjVX9v0Lu+G7o2Wsf1y37rVpTqdIndtm18w8/Tf4QOTRIILKqumd4T1baAQDzIqfGKcmQGkioBZRNI4SnTDVohVV59XD4MqiP/UuFSMzC6uKSWJfx+MeUS8T4Lwt8vdoaq/pf/fCFpxa2g3l9N31dxP63M/LoXt9KWLMGBuS/iL/EX4rvLzQlmVV9YVGVrwGklcrLjwP5Z8F/a3/x/1JAZ/xzwVLrtq6SOUa4Rh9s+qV73vPk7i+vyVxDXecTyKmtocXOlI1VleIykXH55JUrHnl078mI+f6BgQGFIOKKA8HxAL9fyN948udbMoyxqgCA6CJGyOXzPKrEjU1OiCS0IEDyHloz+9R/yDT/yHG0IYsDRL00q4hc/+DzMZFn18d/CQC/6Dk1pRaX3CfyrWf8QeuVkJx6/etP0rDagEoUvxRW5hFVAQBxmf19WaBl18e+XyEyNn7tumwIVvbcnceiXrk07R56avPig647B4+NPx9+0SntilYVm8uXyhxR1f3nVtsdkR/8a6KDX6/svWLvT29OFZHFNQ/q3/7WE55KfYut/tsDeRRV5yyaQkSIqgCABYtdds3b5GrYuMHYPOZqbm1Zdqh9w1KR6+7Od0zNYqxKeOpVKvhnXJ3aLhEXVhWRH+yMura/+8sLH1w4Zvt0TKTCtibuFV5FRL67svdv9n5Jd04VEVn6wJPlNzzjNw7svTd4YdW3Zy22mnvIpgkhqgIAUqNgkmvp8831By1dY47a9YFKqrGja/Op+mxEVZHytp4fXLN8OuY4tT6ssrv42Z6tITH0zkFTW8Q6WRXmZ96L8zpVvn10T9j7RUQ8b//t5bcjHnzQeqUslRdWlXvXvfHoJ5tvePqvHegP3qv/Vdm6HBuoSjZNBlEVAJAW+Zxca46f7/n+Ox2+y65WmPceat8g9lMio1NfSIxVTNPWnq3vjZTvb/zopOuOdkeF8Qc7D2+d+yoDiyvMj+/cWb7GkEhOzYKl+tYz9777ys2Px78VESm/b9WusheiXC5LNWTTFNJ5mY6NTGEFACAzcuJvjUlayBu5NREqJ/qHUFRVAQBZwCQt5C6KpplEVAUAKCGfBwwgx5FNs4ioCgBQEckVWUQ2VQdRFQCQA0iuSCuyqbKIqgCA3MOVtJCM3JoIVeCIqgCAnMckLcRG0TR3EVUBAHmIAQMFjmyaN4iqAID8R3LNe2TTfEVUBQAUHJJrHiCbFgiiKgCg0DFJS31MhCpYRFUAAMIwSUsFFE2hIaoCADAPBgxkANkUURFVAQBIDMk1JcimiAdRFQCApJBc40Q2xQIQVQEASCUmaWmYCIWUIKoCAJBGhTNJi6Ip0oGoCgBARuXNgAGyKTKAqAoAQDblUHIlmyLziKoAAChEqeRKNkXWEVUBAFBXJidpMREKCiKqAgCQM1I7SYuiKdRHVAUAIIclNGCAbIqcQ1QFACB/xE6uZFPkHKIqAAB5i2yKXPdP2W4AAAAAEB1RFQAAAIoiqgIAAEBRRFUAAAAoiqgKAAAARRFVAQAAoCiiKgAAABRFVAUAAICiiKoAAABQFFEVAAAAiiKqAgAAQFFEVQAAACiKqAoAAABFEVUBAACgKKIqAAAAFEVUBQAAgKLuyXYDAACFSKdri7jH692flZYAyK7YvQFVVQCAEmZ/XQEoTKG9AVVVAMgHLp0uxj1GrzezzZlfaNWEkAqkleL9Q+zegKoqAOSDGF82Wf8eio2cCqRbrvQPUXsDoioA5ImoXzlKfQ/NRk4FMkP9/mGu3oCoCgD5I+KLR6nvodkC30xMqAIyQOX+IUZvQFQFgLwS+PpR6ntoNnIqkHlq9g+xewOdV6W2Ir9pg7iV+vMAUuW54eey3YRc8oefLtN++cWfroXeQ2xFgaDHCJi3N2AFAABIjTer38x2E3KDXmfXfvF4rYE73/TKnuE9WWoRkAX0GBJfb8AAAABI1nPDz/GtE6eo30wismd4z++rf5+NFgGZRo+hibM3IKoCADJkrm8mAIUm/t6AqAoASaFAEqcY30yUVFE46DEkwd6AqAoAaeceqNNb9XUD7vQdwd6m11uDP+k8VshR435d1FOB+KW/x0i99PUGTKsCgCxytlgtjjkeM+/2tK/MaGvSjZwKLNy0vW6fzRVrC3OPvb0mU81JUvy9AVEVABZOmXN5But+j9bxuwfqTH0xv86yIcbXEmf/UTiU6TGyKdHegKgKANm2xDay32rIdisAKK3Y2m8PhjznCb3lYh6ee5mNsaoAsEDxF0gMj5SLSPkjhvQ2KOOSf12UVFE48rvHSF9vQFQFgFww7WxpqwvOmmprcU4vZDfuyy118+/H7TxRV5f0sQBkiTbPssUpItP2Fv+cy7oTTrf2+OWWqFOgnCf0emudPezvPfu9AVEVANKvuNQoxtLihT79cot+n8VxMzgC1XXTYdmnb7mc2G7cA3WmIw5XlP24Q7ZytlhNlosuV+Q20faY5OsCEFWq/rIut9Ttszlu+m65LlpMgbQaFyV6A8aqAsBCJDY9InyQWaSbNpPVFnZP+OhVt4h5S8/OJ2sM/q8B92V74xGb40jL+gQm/Lo/+KtLRIxbeg7X1hhERNzuyx80HrE5jhzz78dtb7M4xGjefXjnSoPBd6yWxiOO6MeK/brmw9l/FI5U9hjxGu/4o0tW23o2WWuKRcTtPNF4fpX2tx8PVXoDqqoAoDrDyvb22mBOFRHDSmv/azajOM4nUFg1lOhFxNxcG/iuMhhWWvtf67Ht9n/rXD5muynm3f3t/m8m7ej9u82S2LEAZJ3Lpe/pf0nLqSJiqHmpP4E5WMr0BlRVASBhKV5xJp4VAKbdzk+OdfzV4fKfyzMuEZeI3HLLynmeGlDzUo/ZY7G0lfY0BL69RIprrIFi7a1xEXEc0Udd6nU8kWPNi5IqCkeW1qgy2jYtfJVVdXoDoioAKO9yS90RR8RaqYHMmoia9v0jOy8fazyut4jR/KPN658MyawiX9xSbkFWAAtVXpLEyFF1egOiKgCobdped8ThEqN5S3PocFXt0jWJ785gWNnev7JdxO32ZVazraHdGvxKM9pe67cyUwqAGr0BY1UBIDEZPpfnPGtziZh390cMV5XpyeSKHgbDyvb+/Z4evcO2L3R5Gtdk+hej4ew/CoeyV6hy3fpi3k1U6A2IqgCgvtlLwLjtf4w6hCwW5wm7c9adjz1iFHGd+cQtIjWrzCLi+KPdvZBGAsgRxaVGEfFMuUPvnLZ3XAzeUqc3IKoCQAKyVCBx2c4GV0N0Tztb2ky2RMeqXm6xXLRZ2lrsIauoui/bG/tcErjGzMqdtiUiN22mthbntH+zabfzRJ2+rWV2zF0YSqooHIqWVIuf3rxE5Kat0b/Mqnva3rLPJkuMwW2U6Q0YqwoASqvZZDNetLkuWkwhBQ9ZYuvZcsbSFxgC4GyxWkKrrK4+k75P+9Xco62AuHJnz+pxy0WH7YjDFnGMJbadviVsDNYG25l9NtdNh2VfWNXWuLp54XOJAajFYP2Z2XbEEdaxLLH1/OiM5WbINmr0BlRVAUBtxdb+13psqwPVDqNxdc/IfutjCe/IUPNS/8hrPebQwskSo3n3SNhSWcXWfvtIzxazcUnYNv0vkVSBPLKyfWS3zez7Mw/tVULGp6rRG+i8Xm8mj4dC5tLpRMTIPznkLEXP5eUUzv6jcNBjxBZnb0BVFQAAAIoiqgJAXCiQJI+SKgoHPUZs8fcGRFUAAAAoiqgKAAAARRFVAWB+nMtLHmf/UTjoMWJLqDcgqgIAAEBRRFUAmAcFkuRRUkXhoMeILdHegKtVAcD89gzvyXYTchs5FQWFHiOGRHsDLgGAzOESAEBm8LcGYC451z8wAAAAAACKIqoCAABAUURVAAAAKIqoCgAAAEURVQEAAKAooioAAAAURVQFAACAooiqAAAAUBRRFQAAAIoiqgIAAEBRRFUAAAAoiqgKAAAARRFVAQAAoCiiKgAAABRFVAUAAICiiKoAAABQFFEVAAAAiiKqAgAAQFH3ZLsBAIAUcOl0Me4xer2ZbQ4AheR0/0BVFQDyQYwvG8W/hwCkW073D0RVAMgTUb9y1P8eApABuds/EFUBIH9EfPHkxPcQgMzI0f6BsaoAkFeMXm9gFNrsAWoAILmTU4WqKgAAAJRFVRUA8k0O1UuQAVpxnX8VyFFUVQEAAKAooioAAAAURVQFAACAooiqAAAAUBRRFQAAAIoiqgIAAEBRRFUAAAAoiqgKAAAARRFVAQAAoCiiKgAAABRFVAUAAICiiKoAAABQFFEVAAAAiiKqAgAAQFFEVQAAACiKqAoAAABFEVUBAACgKKIqAAAAFKXzer3ZbgPymUuni/GokX9+AJAG9L3IG1RVkV4xOkT6SgBIE/pe5A2iKtIuardIXwkAaUXfi/xAVEUmRHSO9JUAkAH0vcgDjFVF5sQeOwUASB9yKnIUVVUAAAAoiqoqgEKk1fipMwGA4qiqAgAAQFFEVQAAACiKqAoAAABFEVUBAACgKKIqAAAAFEVUBQAAgKKIqgAAAFAUURUAAACKIqoCAABAUURVAAAAKIqoCgAAAEURVQEAAKAooioAAAAURVQFAACAooiqAAAAUBRRFQAAAIoiqgIAAEBRRFUAAAAoSuf1erPdBgDIBJdOF+NRI50hAKiHqiqAQhEjjJJTAUBNRFUABSRqJCWnAoCyiKoACktEMCWnAoDKiKoACk4gnpJTAUBxTKsCMI/h18uz3QQkoPo349luAgCkDFEVwJy0kFrd6Mh2QxCv4cNm7RcCK4D8QFQFEN3w6+WE1BylBVbSKoA8QFQFEAU5NQ8MHzaTVgHkOqZVAYhETs0P1Y0OxhkDyHVEVQBhks+pk0cv6IrOmo7eTVWTZrnbufasrij4k85jJSb9rz0xpFUAuY6oCiBojpx6u6EoLBqG/jQMRWx899zpGREZPT09mWxz7naunUx6J5kU12ufnLo7OHQ7Y6+LtAogpxFVAfik6Lz/oo1bi0SkamtxaZJ7mpo+denWuakoh2j6cJN3ZpN3ZtPEoaIkD5JScbz2obGyiuHac5Lsm5Mg0iqAHHVPthsAIEdULp/4sDSegFW6a413VwoOOHj46qjI6OHbTZ0Pp2B3GZGq155a1Y2OwCJWAJBbqKoCEFFxKtXt97tFRKR7ejDLLUmlyclvRKTqe/dn/tAUVgHkIqIqgBQZGptnqtPUpKnorK7ptvZ7g29q1IWGqJOQhqa7ROp36EU870cOh43X5NCYyT8By9Q0OSkiU7cb1p7VFV3oDIwrmLrd2XQh2OymycHIIQfaLK6xwbBmnzU1hYw3jfO1F50ta50RkdHW4VmDfW83aG+O7xAXtPsnj46ZioI3425zJMX+HwIA8SKqAsi4oTFdxdWuS9qNma7W4dnZbvCcRyqX7+ksrhfpOnd7AQeZPHqhbJtn1HcUGe2+Wrb2gqnC1XVJRGb+PuVrianC1dw9E3jWaPfV2ooLs+aKBTYONFtGu11lTSmfHTXd4DvETNe2scGhsbJWz6j4bwabEXebASDHEVUBxOfS1bKI6f8R0/PXVWhTnby9+lj7+XzCtM1Tdcg4ETIvataU+dvvd2uTkx7++Y6FjQG4/WbrjEhRR2+1bwJWr14uzYxWLteOe3ydiNxu2OYZFana4WuMd6Z6YEdRWC4M+ubAGx7ZsXxgLLhl/caHS+N87SWlIyGvt77XNy3M3xK/bs9nh6r9m3lqt3nqe6u9M9UdO0Tkm2tTibYZAHIeURVAZl2aeaJ308guX8gr3fVkR6VI+Ez/yaMTXVL0zPpFIrJho17EcyDRlUq18QO9a5rWLdLuKF1XMbBD5NI3E2FHEdlhHOn0J05ZtKFzzcAOiXbEmdHHjSOdpRtKgluGpcz4TPzXjEjR90vmeLhy+bu7FolIaen9IiI7jMfXLRJZtPF7RQtqMwDkPKIqgPj465HBn/gWBJi9nz1hCW/Rsscjtrh77vSMVD6yUctz64rrF7BKa8n9VfNsoa2BWtTRGLm8wIbG5VVRjhhly9R7/J9D39JZs68SbTMA5DyiKoDMCk9jUUxNn7oUujTpw3sOFUn0BVbnVlL8TKV0bbvQOeQrNE4OjdV2i1TeX+bb4pu/XxKR+5fNLnCW/PMTElZ/FZljy4TdvfZ5Mk9PtM0AkPNYVxWAWibP3xoVkdZhXWvY/afO323atSju3SxqOr78VMXV5m3DzSH31r+yoEpwiqUk9QJAQaCqCkAp2nSoKEZbJxKaNjR5/taoFFVV+m9X6gfGQucw3f/9SvHPVQo39X8+k9D6qzpysc0AkBSiKgCVDE1r04a84eNitWlDiSywevvN1pmqQ0+OfBgYWVuxIayWqV0Edab5cORKWNpVslJwYdg5RcuacclimwEgO4iqABQyeM4TfdrQRr0kvsDqaOvE4NSck+JLd5XVi0i3K2Qx/7uDTRdqu0VEvzeBwQbx0+aQzTQf9h9x6nbD2pDrEcwnG20GgGxirCoAn+HD5qSuaTQ0ptvmCdwa9Q82re/dFPeiTrff75bg3P9Q68o6Kj3N3dODnQ9vkNsNRa6ukAdHgwNb9QMzFRtERB7++Q7p6vbUVnhCd1NVWfTEK08e961g9fDxXv1n2zyj3a6y7tCtiup7tZ3ELe7XvqFxeVX31Ygj1k/dlXhHry6wzcOHzdW/GY/zGACgDqqqAERElMgx2mKo0Wc+aee+4x4DMHX7/c+lqlJfVVkUevfopZmubcPBCzutqxgZM3bsCG5TtWP5wNhCFkyNV0npu736wEJaVZX6jt5qf3SOT+bbDADZo/N6vdluAwAlDL9eLnlysfi7nWuHmx83ejsjBxJMDo2VbfNUHaoeKaRz5ZRUAeQuBgAA8Kn+zbh848p2K1Lim79fErk00bDx/j3rFgVrtFN3J859k8VmAQASRVUVQJjh18vzoLA62HS2tnuOxyqXTyzsOlu5iZIqgJxGVAUQKT/S6uTQ5Jtv3Prs0sxo4K7KovqtZXt2PUxOBYBcQVQFEEV+pNUCR04FkAeIqgCiy6NZVgWHkAogbxBVAcxJS6tCYM0dw4fNosjSYwCQCkRVAPMIBFYNsVUpWjYNIKQCyDNEVQAJiwivyCKyKYD8RlQFAACAoriwKgAAABRFVAUAAICiiKoAAABQFFEVAAAAiiKqAgAAQFFEVQAAACiKqAoAAABFEVUBAACgKKIqAAAAFEVUBQAAgKKIqgAAAFAUURUAAACKIqoCAABAUURVAAAAKIqoCgAAAEURVQEAAKAooioAAAAURVQFAACAooiqAAAAUBRRFQAAAIoiqgIAAEBRRFUAAAAoiqgKAAAARRFVAQAAoCiiKgAAABRFVAUAAICiiKoAAABQFFEVAAAAiiKqAgAAQFFEVQAAACiKqAoAAABFEVUBAACgKKIqAAAAFPX/A73/T6pKvtXDAAAAAElFTkSuQmCC)\n",
        "\n"
      ],
      "metadata": {
        "id": "S_vRz3imXyxF"
      }
    },
    {
      "cell_type": "markdown",
      "source": [
        "**Pseudocódigo**\n",
        "```\n",
        "# Algoritmo esPar\n",
        "    Leer num\n",
        "    Si num>0 Entonces\n",
        "        Si num%2==0 Entonces\n",
        "            Escribir \"True\"\n",
        "        SiNo\n",
        "            Escribir 'False'\n",
        "        FinSi\n",
        "    SiNo\n",
        "        Escribir 'ERROR: num debe ser mayor a 0'\n",
        "    FinSi\n",
        "FinAlgoritmo\n",
        "```\n",
        "\n"
      ],
      "metadata": {
        "id": "d7SuJbd0gyGM"
      }
    },
    {
      "cell_type": "code",
      "source": [
        "#CODIGO EN PYTHON\n",
        "\"\"\"\n",
        "Nombre: esPar\n",
        "Entrada: num\n",
        "Salida: True o False\n",
        "Restricciones: Debe ser mayor o igual a cero\n",
        "               Debe ser entero positivo\n",
        "\"\"\"\n",
        "def esPar(num):\n",
        "    if(isinstance(num,int)):\n",
        "        if(num>=0):\n",
        "            return esPar_Aux(num)\n",
        "        else:\n",
        "            return \"ERROR: num debe ser mayor o igual a cero\"\n",
        "    else:\n",
        "        return \"ERROR: num debe ser un valor entero positivo\"\n",
        "def esPar_Aux(num):\n",
        "    if(num%2==0):\n",
        "        return True\n",
        "    else:\n",
        "        return False"
      ],
      "metadata": {
        "id": "BWO5Iu4PhBan"
      },
      "execution_count": null,
      "outputs": []
    },
    {
      "cell_type": "markdown",
      "source": [
        "## **ContarDigitosPares**\n",
        "## **Diagrama de Flujo**\n",
        "![ContarDigitosPares.png](data:image/png;base64,iVBORw0KGgoAAAANSUhEUgAAApgAAALaCAIAAAAaw7T5AAAAA3NCSVQICAjb4U/gAAAgAElEQVR4nOzdcXBT953v/a928k97WzfbpJs0huDEEsWEUlxR84yUEtdLIFaKG7jcZNnYyUBqaSG3yH0yxAybDGJKGQiTW4tukrGcxJPYXRYuF1KTyIvJOoaNNA8U1dQhmGI5sQNOSJt0UzdP888zo+ePI8uSLMmSfI6kI71fwx+WdPw7v3OO0Uff3/mdI0MoFBIAAKBPf5PvDgAAgOwR5AAA6BhBDgCAjhHkAADoGEEOAICOEeQAAOgYQQ4AgI4R5AAA6BhBDgCAjt2Q7w6UloGfV+W7CwBypPafh/PdBZQEA7dozQ0lwmu3dee7IwByYeBgo/IDcQ6tEeS5MPDzKiIcKEFKnJPl0BRBrjlSHChxAwcbyXJoh8lu2iLFAdRu62Z+DLRDkGso2xT/3L3qdUPZ9D/r85+r37msBJ8/U1D9QWrB5zcbypZbn79aIO2UMrIc2iHItZJGin/uXhUM5qg7qvj8jWOTIuI/dj1Ft4Ojn/f2fVQg2xXsO+RYtdlQttxQttxQttnxvE/TjgVHr/b2abiKXufyqW0J/7Ou2uvuS5avV984NiQi/mNvz61LabWj9bYrHybi/63S/JiqiCyHRghyTaRVi49eP3LuwzdGZ77wFeebPwxN/jA0+cORfWWa9C9LX7l/fZmIWNbfaky2SN+gqXrA9oYkXSCHep2bTRue9ZwbmnpiyLPDaVp1SKv3/b69pup1Od52/7ljLRvWGRJv1Pz71y8VEcv6u+fWpTTayce2i4ic0/iYaoAsh+oI8rzpPXjZL5MtBz/Kd0cyYNy6MjT5Q9/Wr+S7I7MLPr/Z1jkksrTt6PHQ5PnQ5PnQoNteI3LuWZPTl+/ezcXStsHz4S2aPD5ydL1Fkm6UcevLocnzvq3z57hKtdqZO/vRyLafD02eHzn6hLL5j+pk2J8ZM9ACQa6+9E6Nf/Rap4iIdF7v1bxHuRMM/kVELN/6ap77MXro0R1DIuu9gy87V0/FT6W1/c3jbTUinae12OfBYFBELN+6XYO2k5lvXL3TN/iERUQ6X3InGN3JkXxsu4iIcfVGZfPnfPogpyjKoS6CPE/6rntE7JvKRSZe68uyjWDfoHVqWpzVGQyKyOhHjlWvG8rOTL+nj37kdp6ZnjfnDPbGv90rc+sGe0VkNOiYbjDqPHff4CyT70aD1rLXDWWvm3ZMioh/x0BkYUd46z5ylL1ucH40tYozyvPB5wetZdMP0+7zbHvm5Cm/iGVfU31l3Cvzne3HQ5M766fX5XM7p0++Wp2HYtY1eshattygFLujhxyrIufar8YvU7bctGNIRPw71kVac8Qd2VFf1An75dZVe2ds11X3quWGsr29MatbbnWmPA1cufGVfUtFho6cnOpV396Y8+hJqtVg317r9CoOBcM9XG4o2xz++5m1nUy2PdV+nu5P6v2TcPNvXxLfK7X289Ve52Zryv5k0WeKcqiOIM+P3jcmpGbRdvetdhHPG9mMrgefP2PaMOE/F37o77xsWnXGWh3wnBORyUvhN+JBa3WgpXMy8lv+zsu26jPxb7ISWfiyZ7rBgMmp+py1647wKiY9GwZ7+wZNOyb8MvVwuhtp9zmJkd8PiSx9cE2ioeDKqCf79lqrnS2dkZPo4u981la9OcG6+vYaqp+d2jlDnh3rMp7C3bfXUO2MOmEv/nPHbNUzAm+6Y89GHQunKWWWG9fcaxHx//6D9LsTfH6zacOxqL+fZ02rNlurnZ5zIjJ0Sd3iPo39PNWfmftntv08+sHF2HWptJ99jrJ1ts4hf/J2su8zoCqCPC8+eq1TmTL2zQc2ZTe6/tGBHZMiZW1Ha8PT4o6Wy7lJf82ikckfhiZ/2L5aRD5ybJjwi1g2mZUnQ5O13k1lMak57S97npmQTYu8g9NL2u//Znju0upqZS2ho+WJu1Np9EXNzrMfDU/Wm+rJlM6Ji/tqpxabsG2YsB+tDU3Wtm0Skb9cGc20z8lcvfKuiBgXxpfjcXyODcf8IpZN7pGpU87eTUtFhjwb9sas692XrBuOWfaFFxvZt1Six3IrN/qino8+iRu97UER+z73yGD8+d34dYmIBPc8c0w2PeEdnO6V/X5rqnlkSlX67gfhLq3eGV7L0fXJtv3AjpgJBCNH18u5IX/NEyPRPZ+1nbS2PZ39HJ4YH9nJocnjU/unK8VxD44ecjie9UdNxFNpP191r3J6ZKn96PGR6XbWx7aTZZ8B1RHkeRB8fsQjZQ+u+YqI1N9fLjKxJ9Mrs5WR+aMrnavD886Mq6u9m0TO/WUkZi0im8w+91Qey1fq3Su9myTRGif9d5l9buPUWPRX6t0rYzI4PSO/nxQpW5wsQWsWvbL1KyJiNH5VRGSTuX31V0S+cv+3yrLqczIfXDonUnOHKeVCwedf8ojIJrfPHcnI+fXul72bROTYnuiC+9zQkqPnfVvDixm37m6rETl3Ku6KA2UYINm2G1fvbN9qNVZGP6Oc3z0249zKkP8ut8+9cepYzK93vzzbsbh9cY3IufdHUi8V0XfaI2I/Oj2BwLh6p3dTJi3ESrHt6e3n+QvvEpH1T22dXsa4eqNv0N12NOo8iIhnQ8zlZyalnq554pWt0xuiwn7u62o5J/ajL7evnm+cbmen7+h6mW4n3T4DWiPIc+/zN45NSs1t9ytvH6tvtc92ZXYClV+1pLMWKWvb9s24F+q3LbIkWGOCJdV313+LLitnzInLtM9zoZRTS9u2WWesa8bkqZontsfkqPIOnrnRq73PT5+WNpQttzqe9YtcDMaNxCbolcoq75jt70ct6e7nerfbXnPMtir23Hml1Zn6E0zNUvs+98ibG2OGK+a8n5W5e3EfGgxlyw0bjklUO1n2WUSY7wZVEeQ5N3r9yLnoS7G/uX1fmSS+oDy5ylsfrBHPhjPuvnCRGuwbtHWK1Hx1qgz9y6VzIvLVBMPLlf9ticTU7iJJlszY51fencuvZ9rnZNIpTz+4dE4SD78rw9TRv37X7WlcHn11lm3v22utXmfbMX1aWkSif44y60mBmdIahJhWefeDNeLZsDlyM5lg315bZyYtxEix7envZ2v7m8dHnnx/j0O5zUuC2XAy4/Kz0Jsvt2+NPemgxn4e+f1Q4hfipdXnhLj1OlTE95HnWvDkh34R2TFg2BHz/JGTnzszuD77K872RUeqL7dsGGiJetb+pLEA7sSiymeCuZi/8C6Rc8ErozJj1rrWkmTD6CHrhmN+WWrf99j2NVEDv6OHrNXPqrBaZcJXWh84FPOd7U8cqX62ZcO62L+fjXP4+8ni80d8r4yrd/pW7xS5GuzretSx3Cbr29p3OtNvVs39vLRt8OU0Vj3nPgNzRkWeY8oktQT8O0YymiATPPmhX8osNVOPa8q9g9Ezy766uEamZpDFGv1/L0p07V44VOuz6VtLRYZaDqa48cvti2tEJJhoXR9clKxr08R6Dz7rF7EffTnu9K2Mvu9P+ksZUC63s9+fwYB88OQpvyyN+vtZ7x08n8WsiNlkt5/nG1fv9L153nvXsZbqzelfH6/qfs506n6WfQbmjiDPrb7rymSuyKRu5Z8ymSuTC8o/OrBj0rLvu76pm7mG3qyOrT6V26kmuHNc78HL/tS3WZ2rREmcFtX6rFyOJZ3OmRcdBcPjn8ptRxOEvRIG2d7WNFFihc2cC3bV/cyxbFYSZ+ruNw9kEMO+AzuGLPt2+96MjFHvnPPoRcJtT3c/9zoPzfwgq3wgm74+Pi0q7Of6+9eLiOeZWe78ql6fgTkhyHOq942JxJO57i+XzC8o9+8Y6R1NOpHbuNVkF5HOQNStXT7vdZ6xdYpI+VOa3Gb1KwvvEiWJw2sc/cix6kz61YlqfQ7fI0U8G6K+VGPU53ZuNu141nbQJyLGrY/ZRaTTGXUbkKu9zs22ThFZ/1TGtyNVZsANtRycXp1jVXRlFvWSSHDU51i1riXxudu0KbO6qp8N3/0mw9/27+jqHVUlb1Jte1r7uW+vrfNZW+wXwAT7lA8ossSY0bFQYz+vbmpT7ua7au/0Lhq92uvcbFg1dfmZmn0G5oRz5JoYONiY6P5NH73WKdPz1aOtNrXVTLR0Xu91f7NePnKUBTxRL/qnT6iXeyer60VEvvnAJvF0TtiqJ6KbsdSULXnyu+3ha9K+2X60/OKGCX9nwNQZvVSZ/Wh1Zm/6fYOGDdMrivTHfvSHcYOx9dsWWTovx63RPvq5pFvtqdZn49aXvb/fbOsc8uxweqKnI9Ss97qVIWhr+9H1Fzcc83c6Y9e11J7V5UP1256wdD4b15p99KpUzk/4ktQ84d13yrYjzXlVEUMt1ctbYp+ybHLH3Ai9b68yv1rh37Fu6nhFBs+tD2wST+cxW3VMqWqpWbrkyd3tkZvazt5OWIptT2s/r27ybgraOo+1bDgWt2kzLhlIRb39HJ5D4D83YxdtemyOfR442MhMN6iLilx9Sf+XKhd/J56Ppowqpz26PvrRa++KpabcUhPz9Wj+c5OeDQPT48mrq32D5rZN08tYNi3yDmZzgXi6Ko2vHC2PXNpkqSlvO1o79cEiPer1ud798sjRJ+w1S6eeWGrZ5B55MyqkV+/0DbrbNkUWEMumJ7yDs160nUTlxleUrzBRmqpZ33b0eDgUKzfGrkjpycY5n4Zfatn0hHfwuM+d4eVqo77X3hVLzXrL9M4REfGfG/JsWJfRTfTCUmy7pLOf59e7Xx4ZdNuj+1Oz1H70ePylZbN1Q7X9XLnRN3ncu2991DSCpfaj0btapT4Dc2YIhUL57kMRUi4S1eymyp+7Vw203GUOueOH6IN9g6YNE5Z9tbr4gjLkyVX3qnUtd7lDM+I/2LfXtOGYZd/xQviis6JEOQ4tUJFrovafh7X8aoS/XDon0jni6Ps8ZjLO6Ocjb/xFs5WiaHxw6ZxI50uOvquxfz9XR97Q0VeIAQijItdQet9nmo1e5+u2ziSv1SwaebMQriZH4ep1Lk/+9/MEI8MaoRyHRghybWmX5cG+4IFnPrx4bnL6AtmaMvt60/at3+RdGLMK9h068Mypi+eGov5+ltrXP7Z9a8pvZ0G2SHFohyDXnHZZDkAXSHFoiiDPBY3nvgEoUEQ4coAgz5HIlx0R50ApGDjYKHw5CnKCIM+puO8uJNSBoqEkdwQRjpwhyPOMryUGigPJjXwhyAFtBQwGETHzHw2ANrghDAAAOkaQAwCgYwQ5AAA6RpADAKBjBDkAADpGkAMAoGMEOQAAOkaQAwCgYwQ5AAA6RpADAKBjBDkAADpGkAMAoGMEOQAAOkaQAwCgYwQ5AAA6RpADAKBjBDkAADpGkAPFw2DYbTDszncvAOTUDfnuAFCEAgZDimfMoZAWKyXCgdJERQ6oL0VUa53iodAuLdoHULAIckATCQObFAegOoIc0EpcbJPiALRAkAMaioQ3KQ5AI4aQNu8vQBEYePjn+e7CtB/86/8nIm/94w1xz8Q9KSK1v/rnXHYMQH4xax1IpfbAtnx3Ycq//i+J6o+h/H8pP4Qm/u/opQa2H8xxvwDkF0PrQGIDD/+8gFI8VooUpxwHSg1BDuhMshQHUJoIciCBgi3HU6Q45ThQmjhHDugSdTkABRU5AAA6xuVnQLyCHVdPgXF1oGRRkQMAoGMEORCDchyAvhDkQCbGnreWlxla+5SfHQ1lhvIyQ/kqR8fo9DL9TkN5mTX6GRER6W0tM5Svco+JSJ9DaSTcwipHv4hIsMNpLZ9+CADpYNY6kJV+p6Gpc+rBOY+r+qIM+porM2niDYe106P8epPzgS6xuTol8nDCXa9qfwEUKypyYFq64+rDz1ibOi2uoyMTk6GJyRFXjYj4T5wMZrSy7s6LrsGpX++0NXXauwZDE4NtjSLy7pWxtPvMuDpQ2ghyIHOBc0u6Jn3Nq40iImJsbm8ziwSOvTGWSSPmfa80V4qIsfIuEZHGo+11lSKV9xtrVO8vgCJGkANhGUxzM+/bXhf9uHJhVebrqzIaox5ZjBkNy4dRjgMgyIHMxWYwAOQRQQ4AgI4R5ICIBpeP+4Pxl5+pjnF1AEKQA+q781sWERkOxkxiH3t+T3ee+gOgqBHkgNrleMWaB80igR2PtvYpWR4ce95h3SFmNaejU44DUBDkgOoqnS2bRMTfvcFUXmYoLzNZd3jM+55am+9+AShGBDmggTr3SNc+u1l5UGNpPDrSs9UkInLu0nv57BeA4sPXmKLU8S0pAHSNihwAAB0jyFHSKMcB6B1BDgCAjhHkAADoGEGO0sW4OoAiQJADAKBjBDlKFOU4gOLAdeQoUQMP/zzfXcgYKQ5gJoIc0FbAYBARM//RAGiDoXUAAHSMIAcAQMcIcgAAdIwgBwBAxwhyAAB0jCAHAEDHCHIAAHSMIAcAQMcIcgAAdIwgBwBAxwhyAAB0jCAHAEDHCHIAAHSMIAcAQMcIcgAAdIwgBwBAxwhyAAB0jCAHAEDHDKFQKN99AIpNwGBI8aqZ/3QA1ENFDqgvRVST4gDURZADmkgY2KQ4ANUR5IBW4mKbFAegBYIc0FAkvElxABphsht0b2Dg7nx3oRjU1r6d7y4AyMYN+e4AoILa2pfy3QV9Gxh4LN9dAJAlhtYBANAxghwAAB0jyAEA0DGCHAAAHWOyG6CaYHB8ZGTcVL/SmO+eiHz4wbFjF351+r9ERO644+EHv7N++dfy3ScAWqAiB1TSu8tkWmN7TQoixd3Ot8IpLiLvv/+r/a+5z/85r30CoBGCHCg65469dUZE7vnBwf/96P/5348ebL1DRM7s/925fHcMgAYIckAdwStXRMSyeIE6rQUns/3VD4cOnxaRO1r/5+3lIiJSvnxl6z0i8v7hX1OUA8WHIEcxC/a+6rBuNBgWGQyLDIaNVseZYPwSZ9yOyAKLrI5Xe6OXCL5qNSwyOM4oPzus4XYc7vH4ZQyLTC2DIuJvWRNpzdGbbbfd/24yea3urLJ84jdjYyIVjd+piXqyfP4dIjLmG5/IsksAChZBjqLV69hosu31+Aennhj0e+wm667peO3dZTXZWzyRBcTv2WszbUwQwL27DKa9Hn+4HU/LGmt0lqtp0m39N1PLZ5Y2m89Zlk0DE1f/S+Rvrd+Lmtp2/sy27vdFRN7/jCAHig5BjuIUdG+0eQZFqu3ek6HQ5VDocih00muvFv9hW7guP+OwHfaLWOyekegFZNBj2xUT5RdfsNoOW9rCi420VYuI/8jpcOlufMQX9bzde3lqdZfb6zPt9CWrwdviv9HuzTbFRf587YPYJz4cemL/+ytbH3j4DhH57NqH2TULoGBx+RmK0pkDLYMi1W0jh5zTk8gX1Lcf8i5+1eRcaRQJul/wiIjd42tfGbOALLJ5Du9xb653Tp3t9g8u8U6nstG5r+3ImhZ/7xvBR6Ial5FLgyLVi01Z9jjY63/U9oFfbrS3LXlAJnt7Z4yrm+bVpz0h/sZ5tyk/fOB2DkrjA87lXzv3/4i8n2XnABQwghzFqPc/PCJi3+KckXz1zkdERGT8jSODItVt21fGL7B9p8Wz13/kdND5SPi3LTu3x9TWCxYuEfGr22G/yaZU0p95Wt72JFrE0marz7BM//OxJ986c88P/s+PuIIcKGIEOYqQMoHc/kB8SEcZv+QXkYULZ9a4xoolIn7/6IhMXRG+pCKNSnj8ysWs+qqot4y0TZpaPhO50e61bE9Y1hszSPHPrn0ocuy1X0n1wf95u4gkGHIHUCQIckBFiT4ZpMfovC90/yXHo0Mem/di292vOOdl19LX5t0u8r742nrGpPrgM0vLY16NDLkDKBpMdkMRMi5cKCKe184kX2TBYouIXLkSfzmaSHDsoohYKrM92T0HxsXtPpvXfqO/5W2T1d87s2/pKJ//tyL/Nfb+ja3RKf7huO99kTtuLE/xmwB0iSBHMar/e7uIeF5wJ83CBfc/WC0y2HIgPux7D+z1i1gevCergjjRJ4PMlNW33zfivd3i/+C1kawaKP9eRYXEZ3b44nLrAoIcKDoEOYrSyu1t1SKDLaaNDnfkJjDjve5d1qn7tBidW+wi4rFH3SVmvNex0eYRkYeecmZ6g7YFC5eI8skg3FrwjMO6MfkniVSM9RZf6B8yvnot7LYF1jtE3h/c9i8fKFeNT5w/s617xsXlAIoE58hRnIzOQ95LG22eQU+L3dMS/Ur1g+FB85Xt3ocu2g77PXZTzDTxart3dxYZGp7uHtuafWRcjOrctDV9X1vfUu1zDo6dfmvb6elnKxrvWc8JcqAIUZGjaNW3Hxrx7rRbqqeeqLbYPSOhqCvL63f7Rjxt9sgCYrHv9I4cyrIUNj7yivchS6Qpy0Nt3pPt9blOcRERuW3ps+4frLzjb8MP7/jbla0PPMtFaEBxMoRCoXz3AZiTgYG7a2tfyncv9G1g4LHa2rfz3QsA2aAiBwBAxwhyAAB0jCAHAEDHCHIAAHSMIAcAQMcIcgAAdIwgBwBAx7iOHLo3MHB3vruge1xEDugXQQ5oK2AwiIiZ/2gAtMHQOgAAOkaQAwCgYwQ5AAA6RpADAKBjBDkAADpGkAMAoGMEOQAAOkaQAwCgYwQ5AAA6RpADAKBjBDkAADpGkAMAoGMEOQAAOkaQAwCgYwQ5AAA6RpADAKBjBDkAADpGkAMAoGMEOQAAOkaQA+oLGAz57gKAUkGQA5ogywHkBkEOaIUsB5ADN8y6BG9GQNb47wNAa6mCnPcgAAAK3OwVuTkUykE/gGLCh2AAOZP0HHnknYi3JCBrfA4GoLXEQR4X3mQ5kAVSHEAOJAjyhLFNlgMZIcUB5EaCc+SRNyAlvHk/AjLF/xoAOcN15AAA6BhBDgCAjhHkAADoGEEOAICOEeQAAOgYQQ4AgI4R5AAA6BhBDgCAjhHkAADoGEEOAICOEeQAAOgYQQ4AgI4R5AAA6BhBDgCAjiX4GlMAc6R8BXCyZ/iSUwAqoiIH1JciqklxAOoiyAFNJAxsUhyA6ghyQCtxsU2KA9ACQQ5oKBLepDgAjRhCyd9flOk5vAEBc/HzqgHlh38ers1nPwAUKWatA1pRInxbd230Q+IcgLqoyAGVRUrwSIRHO9gYfpVEB6AKghxQTVwJnpqS6MQ5gDkiyAEVZBTh0YhzAHNEkAPZSz2Knj7G2wFkjSAHspF1CZ4aBTqATBHkQAbUKsFTo0AHkD6CHEiLRiV4ahToAGZFkAOzyEuERyPOAaRAkAOJ5WYUPX2MtwNIiCAH4uW9BE+NAh1ANIIcCCu0Ejw1CnQACoIcKPQSPDUKdKDEEeQoabqO8GiFFufKu4eC9xBAUwQ5SpG+RtHTVwjj7dERruA9BNAUQY7SUjQleGp5LNB53wByjCBHSSjWEjy1vBTovG8AOUaQo8iVSAmeWi4LdN43gBwjyFG0iPA4uYlzzpEDOUaQo9iU5ih6+rQebyfIgRwjyFE8irQEH5/wdVw+3fNnEZGqefdsXWS9p0yNdjUq0HnfAHKMIIfu6bAE/2T0qlTOvzmNJccnfr327Luxz931y1U/UifLRYMCnfcNIMduyHcHgOzptwQ/ueu5HfLto7tXrk4d51c6zr4rIg0rHHvKbxL59PS59p9ce/cnl6uGahaq05PI3lN2ZuHcUgZAmqjIoUv6jXDF6KFjjmffOSciS799dPf61fMTLjV++cW1l/4g8zZExfaVp44d7ZG/++mqH29SqyiPNvfxdt43gBz7m3x3AMjAz6sGlH/bumvVT/Gr7lXLDWV7e5WfnZsNZcsNZcutzkPB6WV8jrLlhlXRz4iISN9eQ9ly6/NXRaTXqTQSbsHq9ImIjB5yrFo+/bBy4/o3zz9+9Ilv1wy9s2Hd7lWbj/VdndGfT/sn/iDydz9dFF1831Q5T0T+8O8ffqrqtk9RdmxkP2uyDgCqYmgd+pDTEtznKHN6ph74O581vSsjb240ZtLEa851nk7l152O+92y4VmPRB6eb18tInLz6o3rV29c2XfozDPPvrNh3Ts16+uebPr+dHX+6eifRb5WVRdVeZ8+1/6LayIiw5Ofitw0h21MaS7j7dTiQI5RkaOgaVuCJxTcs8rpqXnCO3g+NHk+NPiERUTOnXpjNKNGjnnefWJk6tc9G5yeTe6RyfMj+9aLyMVgTPF98+qp6lyO9W9Yt3vV3v9UqvPJP47ENjp++cWfXLvrl6vuqRKRv/xxfC5bmSYKdKDwUZGjQOXtLPiQ/y53yG0NP6rc+Mq+U6YdQ0dOXnVuTXwmO5Glbe0bjSJSefsSEb+s97qtRhFZc4dlR+JfiFTnRzc827/h2Lv7jv9To4iIfPUbC5QlJn699pL8dNWP7im7ckpkOOvtywIT4oBCRpCj4OR5ItvStm3W6MdGo1FkKMNGjAsrox7V3GFK55dGfcNvnPpYRGTpXcb5Ih9MvzTpe+jsuw0rdmoywS19ykFRDtB9l3+Q174ApSXFSSuCHAWkIOaix2Zwjlwdfr7r9I5jH8vSb+9zr9xqvVlEJkUkPITe8eZpWezYUy4iCYbcc005QAcb3xLiHCgABDkKiDJmWxBxnjuf9O09uuHYxyK3bHriwW0bqyIfI8q+YRIZluEn/+O0LHYcXhQ7tS0y5J57sZeoMbUN0NbM2x7HIchRcKLjXAoy0c+9PyKS0ST2hD5R5qufE4mfr664qfJrIn/+w/C8DUNRKT7+4fCwSFWZZlPWk8nLl6ICmBVBjgIVSYvCKtBvX1wjci54ZVTqp0fgr7qfOZZZM6O+Yw7nbDeEuamu/O9+8ec/xGZ2+OLy+27LYZDn8ltQAWSKIEehK6zx9vn3r1/acm6oxbF3YfvO+kqR0avug+taZKklkwlxwwed75yTWza5N7itKW7RuuC2qqpLfxi+1P7UV6dv0fqLGReXa4gIBwofQQ59KJjxduPWx+w7nJ5zx2zVkSp8advRe49syGRm+7eeeHAw6nR4MmXWZxYPr730h//sV2sAACAASURBVJ6z7T3Tz/7dT79n1fYEOaPogI4Q5NCTghhvt7YPuhcffKmlc0hELDXrn2rfWS+Hjoj4f/+BSFrXmldt3ZjmyhYs+vGJr/76ycvvDitfY/q1u7Z+T72vPpuJEhzQHb40BTpWAAV6kaAEBwrWrFlMkKMYFMoZdB2iBAcKHEGOEkKcZ4QIB3SBIEfJYbw9NUbRAX0hyFG6KNDjUIIDekSQo9RRoFOCA7pGkANhJVigU4IDRYAgB2KUSJwT4UDRIMiBBIp1vJ1RdKD4EORAKkVToFOCA8WKIAdmp98CnRIcKHoEOZABHRXolOBAiSDIgYwVeJwT4UBJIciBLBXaeDuj6EBpIsiBucp7gU4JDpQyghxQR+4LdEpwAEKQA6rLQYFOCQ4ggiAHNKFRnBPhAOIQ5ICG1BpvZxQdQDIEOZALWRfolOAAUiPIgdxJv0CnBAeQJoIcyIMUBTolOICMEORA3sTFOREOIAsEOZBnkfF2IhxAFmbN4hty2BmgFN13+QfCB2IAmvmbfHcAKEUBg0H5lJ3iGQBIB0EO5IFSoJPcAOaOIAcAQMcIcgAAdIwgB/IjenSdK0QAZI0gBwBAxwhyAAB0jCAH8iZ6dJ1xdQDZIcgBANAxghwAAB0jyIH8Y1wdQNa41zqQT0Q4gDmiIgcAQMcIcgAAdIwgBwBAxwhyAAB0jCAHAEDHCHIAAHSMy88A9Sl3XU32DJecAVARFTmgvhRRTYoDUBdBDmgiYWCT4gBUR5ADWomLbVIcgBYIckBDkfAmxQFoxBBK/v7C1ySjAA0M3J3vLpSK2tq3890FALNnMbPWoT+1tS/luwvFb2DgsXx3AUBaGFoHAEDHCHIAAHSMIAcAQMcIcgAAdIwgBwBAxwhyAAB0jCAHAEDHCHJAW8HgZL67AKCYEeTQv+CrVsMig+OM8rPDushgWGQwbHS4x6eX6d1lMCyyRj+jPO1YZDBsdAdF5IxDaSTcwkZHr4hI0L3Laph+mHHX3P9uMnmt7qyyvIC3C0Dh4M5uKCK9uwy2w1MPBj0tay7KSZ9zQSZN/IfDdNij/Lpt1wNesbUclsjD0O76DJqadFu9LX6xtNl8zrJM+jBDYW0XgMJCRY5icfEFq+2wpc0zErocCl0eaasWEf+R08GMGvEcvth2curXD9tsh+3ek6HQyTa7iFy5kn5bwUtWg7fFf6PdO+cUL6jtAlB4CHIUC//gEu9ln3OlUUREjM59bRYRf+8bGaWUZecrzgUiYly4UETE7mmvXyCy4P7F1em3Eez1W01DfrnR3rbkAZns7b0W/y+jLhXMdgEoTAyto1hYdm6PGSBesHCJiD/DRpZUGKObXJzR8LWIiPT6TbYPRETkM0/L255Ei1jabPXpl+kFsl0AChVBjmIRm1V5U28ZaZs0tXwmcqPda9luSrSMMZPB9gLZLgCFiiAHVGZ03he6/5Lj0SGPzXux7e5XnPNIYgDa4Rw5Soj/UvxlWloxLm732bz2G/0tb5us/sxOimcud9sFoPAQ5CgNpkqLiFwci4nU4Kt7Ep7EVkdZfft9I97bLf4PXhvRbCV52C4AhYUgR2kw3vOgRcS/91HHGSXzgsFXHaa9YtF22rax3uIL/UO7dpdp52m7ABQOghwlYoHzqYdExO+xmwyLDIZFJtNej2XnUw/mu19zVazbBSBdBDlKRv3uEe9Ou0V5UG2xe0Z8j5hERAYvaTf0nQPFul0A0mMIhULJXgsYDCJiTr4AkHsDA3fX1r6U714Uv4GBx2pr3853LwDMnsVU5AAA6BhBDgCAjhHkAADoGEEOAICOEeQAAOgYQQ4AgI4R5AAA6Bjffgb9GRh4LN9dKH5cRA7oBUEOndFdwHBjJQCaYmgdAAAdI8gBANAxghwAAB0jyAEA0DGCHAAAHSPIAQDQMYIcAAAdI8gBANAxghwAAB0jyAEA0DGCHAAAHSPIAQDQMYIcAAAdI8gBANAxghwAAB0jyAEA0DGCHAAAHSPIAQDQsRvy3QGgCAUMhhTPmEOh3HYHQDGjIgfUlyKqSXEA6iLIAU0kDGxSHIDqCHJAK3GxTYoD0AJBDmgoEt6kOACNGELJ31+U6Tm8AQFZuPvhgWQvvf2r2tz1A4DOzZrFzFoH5iRZYL90oDbTXyHgAWSBihxISxaBnanHtideBQEPlLJZs5ggB2LkILAzRcADpYwgBxIrwMDOFAEPlAKCHKWuCAI7UwQ8UEwIcpSKEgzsTBHwgB4R5Cg2BLbqCHigkBHk0CsCO+8IeKAQEOQodAS27hDwQC4R5CgUBHbRI+ABLRDkyDUCG3EIeGAuCHJohcDGHBHwQDoIcswVgY0cI+CBaAUa5ErLCj4oFAgCGwWOgEdpKrhvP4uOcOQFgQ2dSvYnyrfJ5d3MpGFAN5fy8zWmHN0cILBRIgj4vDOHQgGDIWAw8N6eF3wfue4R2EBCBDxKBEGuGwQ2oAoCHkUm15PdZp4jZygmDoENFBQm2aUpEhmcIFdXwU12QwSBDegCFTwKHJPdNEdgz8HwrvIjh811J3u+v2DGa2dad9u7v+2ZWL9SeTw2/OoLp/d2f6w8qm6s27Ll+ysroheO+fVq87frW1Y+Undztn0b/1Nfx7UTPX8t/+l3dmz6UooFRESqblq7dd7qexItlkzBbvv4n1558tr54b+KiMiXyxvmbdrz9Vuyaimddc1pH2qLgEeBoCJXDYGtlUD/y/3f310X++TYf74QHU79xzY2vTMY9cRgd7+9+92Huv4p/hcjCwTeGWx6Z2+SpExp/IuhjpEOJV2SLvOnV9ZeOR95OPzpiZ98+tEvv/NohjlUaNv+cefQnl9Eb/hfJ3qu7Om5qXnItDSjhtKh0j7MuZIN+MjcdSmxai3vCPKMEdi5d7jtPzfXxUTOmRf6o6JreFfTO4Mi1Y0P7ttftUBE5JMzrUft3R8fbjr295GyVW7Z6funRyqUnz8Z7z+zo+mdwUD/mtabL++vSr8zX/Q9+bsTw19e/tP51fLXjl98mnChoY4r50WkYeFTe75+i8jHp0f2/OTT8z+5Vp1x4BXStp8e2fOLv4p8efkvTffd86VbRGT8T31PXjkx/GnHUzf9cs/XM9uy2ai3DwtEyQY8tEaQJ0VgF5C4wjS2JB3vOH1YRBofPDSdSTev3P9PHtlt737nhY6VK5tnjiHfvKBu/SHfNzZa+we7T7+6pWoq5Gb3pdWH/6/Vyo+nRxIvMj7h7RGRm5qnxpxvucfU3PBpR8+n3s55SxOOwydXONs+dOoLkS+vPbF0deRzxYKvrz688KOlV873fDq05+tq5quq+7CwEfCYI4KcwI415t5obRls9F7eXy9j7l3bWg4HRMTykOuV3c3G8DL9jkVNnmrXyKHIMyIicqbVYO+27PT5Hqno3VVuO9zovbzlyq5tLYcDloe6fLvrZLzDscPlGZTww3SZb6kOfBxVmH7y6rb+Qbml2vzxYEBEPjl94mORW3Zuia8sV26pq+7uHzwxPN78/cQtV3x/n+vdNa6Pe0998kiCwMvWx/2fToiU/3RedLDdUnmTyKcT//6njzeVp39GuaC2femepU/d+4XED8Z/6ZtVIsOidK/hub2BFJtTd7Kn6vTsy3x/gYr7ULf0G/CMq+dYroM8jweYwM5Mv2NRk2fqgf+wy3RF4pN7Nq/tsnoOK7/e5Pj7LrG7PBJ5ONG+MuUvR7lri0vsrqnCtP/M3oA81LWhsu25QREZG+4NiJjvuqdixu9VVNWb+wcD754e+/7MFxUL7r2r2vXxYPCPIioG+ehfRb783bqoqvH0yB5lEH74rx+LZBBCBbbttyQ4P/3FR8MiVV9WN1nV3IfFppADngjPiyKsyAlsFQzv2djtr3Z59zXXLxAZ77CucfkHT7wx3uzMYG5Ut+eKa+Rys3G8w7rG5bE3yUNdI7vr5NVW097ui2NjEplWPasFzfc85DpyuO0/N9dVnW57R8x1m+vkdFvUElU3J+rYzRVVIimKPxGpuHmhyODwJ+Myo9LM1hfX40bcxyf2/eTT5b/8zjef/92J4S+uj8vSDFZV8Ns+/sVHIuX3ff0WEbn5kZ5dj8z2C+kso+4+LBGFHPDQlI6DnMDWUMC/sCsUGf1e0PzKzhOmvYEjp8ec6Z9LFnPbvmajiCyoXCLil0bv7jqjiNxjtOzNuENVm123HHb1v9z6x8MBeajr+wvkk/Ar7/1xMOVvinw8+p4k7/U3Ks0igT+qGOSKL90abu9Pr6y9Kj/9zqP3fGno1NQQdEYKetu/6Hvy6oTc1KzJSWv19mFJI+CLnrZBrsp3nTn/8a2EzxPYGjK3bY45h22cvbybqWphdDxUG01z6VG4MO0Ol6R68UXfQ1fONyz85ZxyrnC3/ePOkRPDsvyXU9PIVTtH/ndRT6iyDzFTpgHv/tcfqLJeht9Vp1WQzzHC48KbzM612AwuDEphKjsPxl76fOc3qkVSFqa3VN6Z4tU/jgZEzN9QfXu/uD4u0vG7EzL/qfB1WTOGi9NXkNuuXFNe/tPvPHpPdg3MStV9iHQlfL99bPtA9NuyWqEOVWhbkWf9yevt2IeMokNEFjRv8FQmObOe+ETvJ2OzjsKOfXJFkp1mztKXbjWJDMtvnxyakPlPHY6bXx0ZLs5IwW17JMVj7mqn2jly0WAfIh3p3lj+V9m8t6syRouZ9HGOPNk5GwI+jwaDIyIZTWKfu5tXzhxYjpqeHX/+PmpS93iSFsdPvTso8tCaDG4IM7tbKr8s8teJ4Zuah6ISaPxPv53L7O5C2vbEKa4qTfYhpvFNMMVEH0GeDAGfH3curhYZHL4yLvXTldGY+4XuFL+jnZvvWXvL3sDHe18YfiT2JmXKHdCq11YtkCRhNvafO1wfi3z779U98XxL3U3lv/jrRGzehC+Mvk/V25LnY9uHnhrqSHGHeZXkbh8WOQK7FOg7yJMh4LVVcX+9uWUw0LKjdeG+/fULRMbH3C9bW8RsyXhCnBqm5oId2ShxtykVkW9vSXi3k7FPzpw684LrnUGRatfKtK9oT7dHX/9u1dWJ4at7nvrS9O1FfzHjwmg11pTbbf9i6KnfdfSI1ikukst9WBwI7FJWnEGeDAGvEuMjLfa9TZ7BbtuaSBVubvOsPWLPR5CLVO3u+vaVpncGu4+siRkVuOWhrvVRQfXxXuvuuCvfqhsfPKTiPd2mfGn1M/N/u/bqRM+VPT3Tz5b/1LRa9ZO7Odz2jztHOnpERCZ+8buf/CLuRdW/NyWH+1BPCGzMVFpBngwBn7G69pNdi19uC9/AtbrxqX3766XjiIh/9D1JceWyZv1Zf8hXtWvb6cOBqa/yNH97y8H1ye85c0t1411btlStrFA/xUVEZEH5jhNfmv66z6ovL99q0uhruwpu29WSw31YeAhspM8QSj6xfC7fRlfc32RHwANQRUkFdnHngnZm3W9U5NmgggeQkZIKbOQYQa4mAh4ocQQ2co8gzwUCHigyBDYKB0GeTwQ8UOAIbBQ+grwQEfBAjhHY0C+CXE8IeGCOCGwUH4K8GBDwQBwCG6WDIC9mBDyKHoENEOSliICH7hDYQDIEOaYR8Mg7AhvIFEGO2RHwUB2BDaiFIEf2CHjMisAGtEaQQ30EfAkisIF8IciROwR8ESCwgUJDkCP/CPgCRGADekGQo3AR8DlAYAN6R5BDfwj4LBDYQLEiyFE8CHghsIHSQ5Cj+BVlwBPYABQEOUqXLgKewAaQGkEOxMtLwBPYALJDkAPpUiXgCWwA6iLIgbnKKOAJbADqIsgBrZDZAHLgb/LdAQAAkD2CHAAAHSPIAQDQMYIcAAAdI8gBANAxghwAAB0jyAEA0DGCHAAAHSPIAQDQMYIcAAAdI8gBANAxghwAAB0jyAEA0DGCHAAAHSPIAQDQMYIcAAAdI8gBANAxghwAAB27QcW2AgZDimfMoZCK6wIAFD5yIQfUrMhTHBKOFgCUIHIhB1QeWk94YDhaAFCyyAWtqX+OPO7wcLQAoMSRC5rSZLJb5CBxtAAAQi5oSc3JbgCAWQ0M3J3vLuTJW1Yp5c0Xqa19W4tmCXIAyLXa2pfy3QXk2sDAYxq1zHXkAADoGEEOAICOEeQAAOgYQQ4AgI4R5ABQooLB8d7eM8F8dyMvVNr2Dz849i89//1/vPLEr/+sRq+yQ5ADQEnq3WUyrbG9JsZ8dyQPVNj2D/987l96/rvzrV+d/i/1+pUdghwAgESCl6yGf3P0Jnjlz8faXtt/WlY2Vrc23pHzfsXhOnIAKEXBK1dExLJ4gTqtBSeNxjJVmsqBuW/719Y/8+h65cfzZ9TpVPaoyAGgUAR7X3VYNxoMiwyGRQbDRqtjxknc4Bm3I7LAIqvj1d7oJYKvWg2LDI4zys8Oa7gdh3s8fhnDIlPLoIj4W9ZEWktYeqbVbfe/m0xeq3syy99XGtHnthcCghwACkKvY6PJttfjH5x6YtDvsZusu6YjpneX1WRv8UQWEL9nr820MUEI9e4ymPZ6/OF2PC1rrNF5pqZJt/XfTC2fWdpsPmf2Fbk+t71QEOQAkH9B90abZ1Ck2u49GQpdDoUuh0InvfZq8R+2hWvTMw7bYb+Ixe4ZiV5ABj22XTFxdvEFq+2wpS282EhbtYj4j5wOl6/GR3xRz9u9l6dWd7m9PtNOX7IavC3+G+3eOaV4IW37pNv6bwbD1D/TkF/EY4t6xnqpACf5E+QAkHdnDrQMilS3jRxqr4+cuF1Q337I27ZzpH2lUSTofsEjInaPr32lMXoBu4gc3hNddPoHl3gv+5zhxYzOfW0WEX/vG7ERNHJpUKR6sSnLHgd7/VbTkF9utLcteUAme3uvxf9LN/H0t+2FhsluAJBvvf/hERH7FueMy6HqnY+IiMj4G0cGRarbtq+MX2D7Totnr//I6aDzkfBvW3Zuj6mtFyxcIuJXt8N+k+0DERH5zNPytifRIpY2W306ZXphbXuZ0/cPzsij4CWraWiJ9x8yHqvILYIcAPJMmURtfyA+qKKMX/KLyMKFMy98NlYsEfH7R0dk6qroJRVpXB49fuViVn1V1FtG2iZNLZ+J3Gj3WrYnLG3Tm8Suv20vPAQ5AJSsROmYHqPzvtD9lxyPDnls3ottd7/inKe3G8tkv+2FhnPkAJBnxoULRcTzWooLkhcstojIlSszTzwHxy6KiKUyDyd8jYvbfTav/UZ/y9smqz/tk+Kxbeh02wsJQQ4A+Vb/93YR8bzgTpqFC+5/sFpksOVAfOD1HtjrF7E8eE9W5WWidMxMWX37fSPe2y3+D14byaoBHW97oSDIASDvVm5vqxYZbDFtdLgjN0IZ73Xvsk7dq8To3GIXEY896k4p472OjTaPiDz0lDPTm5QtWLhElHQMtxY847BuTJ6mqRjrLb5Q1jPCCnjbjYvnsF25wzlyAMg/o/OQ99JGm2fQ02L3tES/Uv1geOB4Zbv3oYu2w36P3RQzTbza7t2dRdaEp3zHtmYfGRejOjdtTV8pb7sqqMgBoCDUtx8a8e60W6qnnqi22D0joUPT12XV7/aNeNrskQXEYt/pHTmUZclofOQV70OWSFOWh9q8J6Ou5M6pUt72uTOEQqFkrwUMBhExJ18ghbn8LgAUsYGBu2trX8p3L5BrAwOP1da+ncUvzpqnVOQAAOgYQQ4AgI4R5AAA6BhBDgCAjhHkAADoGEEOAICOEeQAAOgYd3YDgFwbGHgs311ArmV3EXk6CHIAyCnt3tALHDcK0whD6wAA6BhBDgCAjhHkAADoGEEOAICOEeQAAOgYQQ4AgI4R5AAA6BhBDgCAjhHkAADoGEEOAICOEeQAAOgYQQ4AgI4R5AAA6BhBDgCAjhHkAADoGEEOAICO3ZDvDgAAoD6DYXfcM6HQrrz0RGtU5ACAkjAz2osDFTkAQCsBgyHFM+ZQSLtVR9ffxRrhCipyAIBWUkS1pikerbhTXAhyAICmEgY2Ka4ighwAoK242M59ihfrNDcFQQ4A0FwkvElx1THZDQAQ4+GBhzVp961/FBHRqPFY//qDhcoP//jWlanNWZiD9eYFQQ4AiHeg9kC+u5C9ckOH8sNEqDny5IGQbB/YnqceaYuhdQDAtIcHHi6+FBeR7QPbf1X7q3z0SHMEOQCgSCRL8eJGkAMAwnRdjqdI8SIux4UgBwAUgdKsxRUEOQCgQI0Fx/p7+8fSXr4EU1wIcgCAouDG1XtbrSZr02tSkcayE6HmZCle3OPqQpADAKBrBDkAoPDKcZGxK8MiYl5851waKfpyXAhyAED6xno7Wq0N5YbyckN5uaGhwTHjBHawv8MRWaC8wdHRH4x+taPBUF7u6Fd+brWG22l1j8UvYyi3tgREJNBijbTW2qvx5ukTQQ4ASEu/o8Fqc3X7A1NPBAKeJqu1tT+yRG9rg6nJ5YksIAGPq8nUkCCAe1vLTa5uf3ip7hZrQ3SWIxMEOQCUunTG1cfcDU2egIi50eubCE1MhCYmQr4uu1n83U3hury/1dYdEDHbu3zRC0ig2xYV9iJysa3B1m1uCy/mazOLSODIqTHlVWNzT9Tzjd6JqdVN7K/PbLtKYVxdCHIAQBr6X2gJiJhdIz376yumnqyoa+/panP52usqRMbcbd0iYu/qaa+riF7ALiLdbdEFtz9Q5Z3ocYYXq3AedFlE/CdORQ/Ci7x3KSBiNpq026giQZADQElLa5pb78luEbG3NBvjX6lzNleIiIydOhIQMbu218UvsN1lji64RcTi2hJTW1dULsmm56mVSDkuBDkAYFbKBPLGB+JDOsp7Qb+IVFXOSHoxVlaJiD/4XuSZJZUVaaxz9GKm3SxRBDkAoGAl+mSAWAQ5AJSuNC8fr1hYJSLdr/UnX+ROo0VEhkeDM14Jjg6LiMU4p+vBM1Q64+pCkAMAZle/plFEPG0dM3M6rOLeB80iAdeB+LDvP+AKiJgfvLcimxUn+mSAWAQ5AJSoTO7mVrelzSwScJkaWt2Rm8CM9btbG6bu01LhbGkUEU9T1F1ixvodDU0eEWlscVZk2DtlBlzAdWCqtWB/q7Uh+SeJaSVVjovIDfnuAABAByqcPV2XGpo8ge6Wpu6W6FfMa8NXiNXt9zYO27oDniarJ2aBRu/+FNPkkqnb7jJ7XHGtNY6MibEi88aKGRU5ACAtde09Pq+r0WKeesJstnf5Qj3T16TV7+8Z6XLZIwuI2e7qGunJ9EYuYcbmg97G6ZVZGl1eX9RV7AgzhEKhZK8FDAYRMSdfIIW5/C4AQGsF+C0pqii+cfVZ85SKHAAAHSPIAaDkUI4XE4IcAAAdI8gBANAxghwASgvj6kWGIAcAQMcIcgAoIZTjxYc7uwFAadk+sD3fXVBfyaa4EOQAUFLyGHjcKEwjDK0DAKBjBDkAADpGkAMAoGMEOQAAOkaQAwCgYwQ5AAA6RpADAKBjBDkAADpGkAMAoGMEOQAAOkaQAwCgYwQ5AAA6RpADAKBjBDkAADpGkAMAoGMEOQAAOkaQAwCgYwQ5AAA6doOKbQUMhhTPmEMhFdcFACh85EIOqFmRpzgkHC0AKEHkQg6oPLSe8MBwtACgZJELWlP/HHnc4eFoAUCJIxc0peY58ghzKBQ5CzLzBAkAoGSR4qpj1joAADqmSUUufOYCpiiDUvyPAKARKnIAAHSMIAcAQMcIcgAAdIwgBwBAxwhyAAB0jCAHAEDHCHIAAHSMIAcAQMcIcgAAdIwgBwBAxwhyAAB0jCAHAEDHCHIAAHSMIAcAQMcIcgAAdIwgBwBAxwhyAAB0jCAHAEDHCHIAAHQsgyAPGAza9QMAAGQh3SAnxQEAKEBpBTkpDgBAYbph1iWiU5xEBwCgoDDZDQAAHUtVkZtDIYmtwpVnAABAgZi9Iie8AQAoWGkNrZPlAAAUpnTPkZPlAAAUoAwmu5HlAAAUGmatAwCgYwQ5AAA6RpADAKBjBDkAADpGkAMAoGMEOQAAOkaQAwCgYwQ5AAA6RpADAKBjBDkAADpGkAMAoGMEOQAAOkaQAwCgYwQ5AAA6Zgjx5aQAABSSgMGQ4tW4bxWnIgcAoLCYk9fYM18iyAEAKDgJszzhkwQ5AACFKC62k5XpN+SkM0CpS33GCwBSSzHYTpAD2iLCAWiKIAdyIcWnaQCYC86RAwCgYwQ5AAA6RpADAKBjBDkAADpGkAMAoGMEOQAAOkaQAwCgYwQ5AAA6RpADAKBjBDkAADpGkAMAoGMEOQAAOkaQAwCgYwQ5AAA6RpADAKBjBDkAADp2Q747AADIBYNhd9wzodCuvPQE6qIiB4ASNTPaoUeGUCiU7z4AxSZgMKR41cx/OuRbJMIpyosAFTmgvhRRTYoj7yjEiwxBDmgiYWCT4sg7Urz4EOSAVuJimxRH3jGiXpQIckBDkfAmxZF3pHixKrnJbg8PPJzvLgBArv3rDxYqP/zjW1einyHUi0ApXkd+oPZAvrsAALlTbuhQfpgINUeePBCS7QPb89QjqKm0htYfHniYFAdQUhKmuIhsH9j+q9pf5aNHUFlpBTkAlJRkKY5iUkJBTjkOoKSkSHHK8WJSQkGejjFvQ3lzeYN3LN8dQeYutGZ07DjW0KP0/26pxUtHKU52y8KYt8F6PJDsVfM6X4+tIuEy5nmNa3+0pXlZRYp24pYJu97f8Xqb62x4YfMKV8sPm+tuTdWfxO2UmKrbKvLdBaCAkOKloFQq8nyNqweudbuesza82J/ZMhdaG55uiqS4iATOupqebmi9MNd1ASgRE6HmZCnOuHqRoSLPQOPjE/uXZbbM2IXWbc91B862dfywrvnWNJfpb32uOyBiXtF18Md1FSIiY/0vbms6G+h+rnVNx/66TNYFAChuJVGRp1+OV9xWJaoOz1Ys239wnVkkcOK3Y2kuM+Zt6xaRFV094RQXkYq6H/d0rRCR7rbk58bSWRcAXZv7exTlePEpiSDPL+U/XuDD99Jb/UrGBgAAEl9JREFUZuzUbwIiZtcP6+KWqfuhyywS+M2psbmtK2PXOxqay8uVEfvrHa27y8uby8ubG1qjP1IkmWjW/2J5eXNDx3UR6W9VGgm3ED5NMOZtbWiefphJr/pbdzeUN5eXN5eX727tv55wobH+FxsalGWayxtSLjbVVEPrhfitSLudWYxdaG2I9DlpO7Oua6xjd3l5c2u/RB+O8oYX+2f2O4lMjkX0fp7RH2Xi1cxjl2BC1vX+jhej2nmxQ4PtSqvPGRm70BHVVEOizqh0vGbfP0BSBHmsW41mMRtVHZce+3BYRMy33ZnWMtdPnbgmMm/tvTP7cOu9a+eJXDtxKvn/8CTr6u/YPeMNOgsXWsufdnVfUx4Euo9bM5/yfbI13EKg+7nW/gut1uPdAZl6mElPGp5u6r42NYfgWnfT0zN/vb+12dp0NhCZaBC41t309MzUea9jt7UpMh3hWqD7ubjtSrOdWYx5G6zPdQeuRc17CLeT7boutDZMHw4JnG2yZpZ5aRyLC63l0ft5Rn8qvrvWLNL964649b73YUDEvPa7FVFdTXvOxxy3a7Y+p6//xQbrc66opgKBs03W3dF/aSodr4z2jwbvUdC74g/yzKa53drc09Gj4gnmsQut247Hvqmls0x5ZaKlKyrLs1rXhZMu5f36/BzmwU20NTzXbV7X5euYmOiY8K0zy2zDAwmc7R5e55v69e6m57obH/dNdPhcK0RkeDTdEkSZQ2BufNw30TEx0TEx8bOuxnndTc91Ry0z1rG7qVvMjY/7lA5PdEz4Hm80i8R9Yggcb3JJY9fPlGV8Xcp2Hd/WcT2zdmajDLRIZAdOdPh8j7vMIt3PvTDVTkbrGm77dbescE33fIW5cXnkXEwa0jgWYyKN67p84VUo/XHF9OfW5pYVMz9c9p88G/1hdHrOR2Tbu1aYk3x6m+t2zd7nNNvxNjSdDUj0n5nS7WvdTeEAVut4ZbR/5voexbh6UWKyWwa6nyvvjn+usStq9lmSZcS87mD0f7xUy1wIJr3KLSwQvC73pr0uEZFla1zzul3XzI3L44frM3AtUBU1t67CdtD1G6vr2olT15szeE+Z5zpoq5DwKYCArOjav6xCRO69zexKuw1lDoF53cH9kQvtbq3bv6tLmpum98aFF1zXpPHxnujJgBXL9vc8LuXPdZ+8sL9u+nmzy7F/6rq+ijpbj08arMcDrtf7m39cl0k7qVVUlotca2yxTc97qFjW3POzyo7rdXUZ91lEAoHyrokfRw5oRd2PezI7umkci4pl++Nmd1Ysa+75mTQ87Yr0p255o5ztPvHbsWbb1JZdONktYv7evcrj6Dkf0b3tkvKms91t3i11kV9UY7vS6XMa+l84HhAxu34WHZkVdT/u6bqt407lIKp0vDLcP0ACRR7kBXA3N3Pj41GRk/0yc1lXXfOuibleTDrPtSXmjUlJpgwbiR1pSH26IZn4YduwujUrpPts+IFyiiHhBx0RGf5wTCJ7aUVL3AeRiu+uNR8PBCZGx6RO0m9nNnU/7mqcaGrabexyTN8PQG6dvr4ggz6LJJxFkZk0j8X1sf7fvtD2m+7A1LE2z5OAiET6s2yLa1636/gL/bbwJ9r+891RByjlnI+zrsBvTo3ZmqN6MuftSqfPs7pwslsS/G2ISJ0t/D9JpeOV6f6ZE8rxYlXkQa6uzC4/u9Ba/ly3rGiZmayplrnVaBZJWZSbjbeKfJjuulSTeLQ/98ZGJ0SkqnLGO+ydt03vufc+nG1cY0qCALu1smqqofTbSUPd/l2+LRde2NZe3iTmxu+tXfPdqETPeF0J9oD6LrQ2PNcd161A/Ke3inu/Z3Zdi9SgcePq7wWvJemtsp+vBd8TqZh+ds7blVafZ6GEdOoRLJWOV6b7B0iAINeMUqmkvqo72TITo2My87ygkmHZrqvkxI2L5r0dEamoWLa/Z9l+kbGxcKI3uhz7oxpXcV1zdr2jQZmLsK5ly3frKm6Nev5pV/SCFbaWxuNN3b/u2LKsuSJ2XD3X0u6zSgrpeKGEFfNkt3yPq1c0/6hRJOB6PcUkmxnLpJianmJCe1rr0pzKl70lpsz4SzAzbkaFFAhmdwHP9dFhiR6ByLadVCoqlu3v2TXRVd7terqhY7p9LdaVpf7XXQGRxsd79tuiElFErs+cxlG3ZZ1Z+aONHVcXkTuN8yTxTEZlP88zZnN+RYU+p6JcxpnG5NC5H6/c7R/G1YtYMQd5/i3b4poncratI8X/9vhlKu79njlhJCtvUklrnXTWpZ1bjWZRBhKiXO9oO5t48blQhtBn7J/+k1HrqlveKIkui5opcPyFuIbGfnsiMDXknn47s+p/sWNmLCjbotzAR8V1qWfmZU5jHb9OcFK44rtrzRJwvd568mzcqeVs/56173Mqy9Y0yiz/m1Q6XrnfPyhCRRvk+S7HFRXNDpd51qI8dpkKW0ujiJxtirplxFj/iw1NZ0WksSXpFNYU61LpOvIUwgMJrm1TfR673tH6tEvmmVVf1fT+8U7tn+v9HbubYt6qlY8111zW3a3918NLyfWx/hcbynfHXdLT3bQ7cvONsf7wt9FM7ecM2knpQmvTWVfT7taOqKvGxy50bDsekMhdutRal5oCrtenr+Eeu97futvqSni+WbkO7Wx394xTy9n+PWvf51TqtqwziwRcTze0eqO67W1tiNwAR6XjlZv9Qzle3DhHnoFkM1RTTYK7tbllhavpbFPr8vSXqdv/eOPwc92Bs03WmIrW3Pj4/lTTb5KtK+o68v3L5jwlOLGK5h81uuL6PM/V9b0TTRm/h85qav8cb7IejzzZ6Fo37Jr+RriKZofrxNOuwLXupqdjDpp5RUvULjC7Hl974jlXU8wJ1Oj9nGY7s1m2pWvFcNPZbtdz3a64l6YvB1BpXSoJz5qO+yOc5+pad6Ip0TcBKtehiTSuif87z/bvWfs+p1Bh6+n6sKHpbKD7eFP38ehXzGunLlZU6Xjlbv+gWBVtRV44lFurph6Ci19m2f6en3U1RpWz5nmNXT/rmXXOfOJ1LVvTOE9E5nYd+ayW7fc97mqcpzwwm1d0+XY13ymiyXnf2P1jXuHq+tn+5tuqRLnsR3Frc0+Hr2tdo3ne1G/NMzc+7ou6Wldk3tp7lzXHNDVzP6fTzuwq6n7c44s9pko7vl1RFxepsy6V3Nrc87Mu14pIh6OPaSLKcPSKNQn6umx/bFPKIZv97zljmfY5pbof9/ged0UdMrN5RZcv+mYsah2vnO0fFClDKBTKdx/UVxjj6kAJGfM2WI8H0rlEEznGuHrRoyIHkKV+b3jsJ3y+P/6uQQByoQgrcspxIBdm3HqFcrwAUY6XAipyAFlZtv/gusbwed15ja7HfaQ4kBfMWgeQpQrb/h7b/nz3Aih1xVaRM64OAArG1UtEsQU5AAAlpaiCnHIcABSU46WjqGatPzzwcL67AAAFgRQvHUUV5EABChgMImLmPxoAbRTV0DoAAKWGIAcAQMcIcgAAdIwgBwBAxwhyAAB0jCAHAEDHCHIAAHSMIAcAQMcIcgAAdIwgBwBAxwhyAAB0jCAHAEDHCHIAAHSMIAcAQMcIcgAAdIwgBwBAxwhyAAB0jCAHAEDHDKFQKN99AIpNwGBI8aqZ/3QA1ENFDqgvRVST4gDURZADmkgY2KQ4ANUR5IBW4mKbFAegBYIc0FAkvElxABphshsKyMDPq/LdBWSg9p+H890FAAQ5CoMS4bXbuvPdEaRr4GCj8gNxDuQXQY78G/h5FRGuU0qck+VAHhHkyDNSvAgMHGwky4F8YbIb8okULw61/3979w+bxt3Hcfxr6dmKb47LaGhRk4VYYgApYrD8yH+GKkKdsrCA5MF4cYXUjh2sZjEeLJkFVeoUociDbRSUASH5BiSLJUndcowEz2eemWc4/oObAxOOn3m/xBDgfL/vMeTD7+77O/b+pL8BcApBDsc8PMWNk+KSdh46aUyrpCGN1Pr5ktZ9fM2xxvP1j308ZDngFIIczrgnxetxrS84ex/x/MDGjYu3pojob2+Nh5bTSK0bD97JLNk6dqPayOXrMzsushxwBEEOB0zpjLpr+6UmIsGXTzwP3FP19k3p80V1xBCJ9ztNc6dp7lQOtQcOMlU2jj1f9voLWxfy0A9nTGQ5MGP/cboAYEjAV3nvsRM/nt0Xzd0pDJg7vtFF9ON6IrUyhd3NxLSOfbrCe392lqUBmA1m5Ji1+Wtwq59lREQkc5tzuJJpMow7EQl+vzz7oZmUA7NEkENB+fIXGtCqRkg7X0rUrX/HWw1rxfjI1rD8bVokFnWL1M4GL8PbZeTLoXZbXChhGCJSrcfXz5e0Yqpzxr5aTyWK3bITRm7wZL7VW1fO9ZV9Hkr0XOe2eezauTdpioieLAw1GdTj1ofTGqJovW6clENa96ntmgfN2bc04PEjyPGo5ctL/pt0yXpippOF4eTLXdQk4DtIPYmJpC/qEwxinBS9kZreGkX0zI13vRjyX6dLImJ+qrYqCfmv9zNm56/0zM2WvzjUwdfZuFO26Jlrb2LqPWu38dYQZjpSzuXL3mRNl/bTbhm2awbgEIIc86d04x1oWR9oKd/wWw1ozaz73/bzsRKK1IKHa5WebrWhNu/6WcZqGVv5MTrZ2fX666Qpoh1lw622uKxbSqYe8Fnjnm6ISD0eqekiwWirmKYZvoxqfanZdffb7zWJ+i7L3S1j2ysem8e+6rnqOd5YttWs166kLVP7cBhub1bbitRi2XDTDB9FReTun+q4NQNwDEGOx6tkPsvuXO22ItCz+/woINLfnW6cVNKi/fRfl4hsbrtFar+NuzLbOjOffZHYcFkveDb8l1GR0l2lbxSR6NpVqp3H4tpMvbiMyqgRTf3p2lXKs7na3bIvg+2p/G2KaD+s3vN2wPfHrktEPJ5lEZHo2umGS8S1/b02Uc0AHEOQY/6057Ldh70m9uH9HPTln+u7pwNbNC7emhL4dttKu40nsQlWpa8uB7+whbXmWzvaG2yJ39zzBUeMOGLL6Xv6Te9HOtQTN27NABxDkOPx6s+qEaq3b0q9S7FXDg41Gb2g/H6rT34KSDpSTOVbk1QjX97KiASWva0t7j6VRGT5u+HJ8eo3z6Rv7i5yz5Zja/zz8SF/Pm7NABzDOnIsLuPdZ11EkoWlZN/rb941Ersu27txJU59b/w3+5HCfs+rsZ8nOoswZVP5TgBgrjEjx8KymtRG0JOVsZq5jHefddGCgfbzgPuy3NtZtvxDQNodZP2q//sgvXP3+aFizcCCIsixqPK3VjNXs/96vNXMNc6C8vrrpBk8fH71vnNF37/ZNw+2bqdq7h8Prm2z7ig3hVvM3mtUEtviYM0AxkOQY0HlLmqjm7m23TL+gnI9WclV723k9ux6YyKSue65tUsjlyhuZUTE/esYp/Htszr7zP3j9ojVeny95+40X+JEzQAmwTVyOKBw/OpB9//Kl5citc4zvX2RO5bdsb1Mq36WkW6/eq8N71Ggtp+5zaVWNqUe167TPW/q3Qvq7kvTvykisvJjVNKZ2pa/1rubYEB79vPz09aatJXTrPtDpKZnrr2Z3q20WNbaiW22j31zzxfM3AyMGKs2xO5V8wlrLhy/Cv/yl80xADwcM3LM2lz8L28t/h7dj2adVbZ9dr1aP/sowYA7GOj7eTS9ZKYjhe5N0Db8V+W1o2h3m2DUd1meZIG4XaueP7LuztK4YMB9lA23v1jYM/uaAYxvqdlsOl0DFo71oxqP4qbcjdR6Yf/pWnPoZ9OMfNkbqQUPw1eLdBaa6Tgwe5xahwPCv/wld9dOVzEVd59KIqVKfHv5YMPVnd9XG5WLOwfLArA4mJHDMfP3e6aTyCXOtzL3vGf7h9UfB6bjgCMIcjjpcWS5kTde//75Q8nUOy8FtNhL78HuCikO4GsjyOGwx5HlC44UBxxEkMN5j6j3beEQ4YDjCHLMBSvLhThXR+H4lczJYkJgsRHkmCOdOLcQ6nPFSu4OIhyYEwQ55tpAtMNBJDcwnwhyAAAUxi1aAQBQGEEOAIDCCHIAABRGkAMAoDCCHAAAhRHkAAAojCAHAEBhBDkAAAojyAEAUBhBDgCAwghyAAAURpADAKAwghwAAIUR5AAAKIwgBwBAYQQ5AAAKI8gBAFAYQQ4AgMIIcgAAFEaQAwCgMIIcAACFEeQAACiMIAcAQGEEOQAACiPIAQBQGEEOAIDCCHIAABRGkAMAoDCCHAAAhRHkAAAojCAHAEBhBDkAAAojyAEAUNj/AbslmJ5EVbKLAAAAAElFTkSuQmCC)"
      ],
      "metadata": {
        "id": "PDG2yFUpVeBQ"
      }
    },
    {
      "cell_type": "markdown",
      "source": [
        "**Pseudocódigo**\n",
        "```\n",
        "#Algoritmo ContarDigitosPares\n",
        "\tLeer num\n",
        "\tcont <- 0\n",
        "\tMientras num>0 Hacer\n",
        "\t\tnum <- num // 10\n",
        "\t\tSi num MOD 10 MOD 2==0 Entonces\n",
        "\t\t\tcont <- cont+1\n",
        "\t\t\tEscribir cont\n",
        "\t\tFinSi\n",
        "\tFinMientras\n",
        "\tEscribir 'ERROR: num debe ser mayor a cero'\n",
        "FinAlgoritmo\n",
        "\n",
        "```\n",
        "\n"
      ],
      "metadata": {
        "id": "Im27BA9CVu9h"
      }
    },
    {
      "cell_type": "code",
      "source": [
        "#CÓDIGO EN PTYHON\n",
        "def contarDigitosPares(num):\n",
        "    if(isinstance(num,int)):\n",
        "       if(num>0):\n",
        "           return contarDigitosPares_Aux(num)\n",
        "       else:\n",
        "           return \"ERROR: El parámetro num debe ser mayor a cero\"\n",
        "    else:\n",
        "        return \"ERROR: El parámetro num debe ser entero positivo\"\n",
        "\n",
        "def contarDigitosPares_Aux(num):\n",
        "    cont=0\n",
        "    while(num>0):\n",
        "        num=num//10\n",
        "        if((num%10)%2)==0:\n",
        "            cont+=1\n",
        "    return cont\n",
        "\n",
        "\n"
      ],
      "metadata": {
        "id": "lBIf6zgnWAbP"
      },
      "execution_count": null,
      "outputs": []
    },
    {
      "cell_type": "markdown",
      "source": [
        "## **Factorial**\n",
        "\n",
        "## **Diagrama de flujo**\n",
        "![Factorial2.png](data:image/png;base64,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)"
      ],
      "metadata": {
        "id": "7LAqW0d5hVLx"
      }
    },
    {
      "cell_type": "markdown",
      "source": [
        "**Pseudocódigo**\n",
        "```\n",
        "# Algoritmo factorial\n",
        "\tfact = 1\n",
        "\tLeer num\n",
        "\tPara numero<-1 Hasta num Hacer\n",
        "\t\tfact = fact*numero\n",
        "\tFinPara\n",
        "\tEscribir fact\n",
        "FinAlgoritmo\n",
        "\n",
        "```\n",
        "\n"
      ],
      "metadata": {
        "id": "UCh_agibhgOE"
      }
    },
    {
      "cell_type": "code",
      "source": [
        "def factorialFor(num):\n",
        "    if(isinstance(num, int)):\n",
        "        if(num>0):\n",
        "            return factorialFor_Aux(num)\n",
        "        else:\n",
        "            return \"ERROR: num debe ser mayor a cero\"\n",
        "    else:\n",
        "        return \"ERROR: Num debe ser un número entero positivo\"\n",
        "\n",
        "def factorialFor_Aux(num):\n",
        "    fact=1\n",
        "    for numero in range(1,num+1):\n",
        "        fact=fact*numero\n",
        "    return fact"
      ],
      "metadata": {
        "id": "dWu2DLaShnsv"
      },
      "execution_count": null,
      "outputs": []
    },
    {
      "cell_type": "markdown",
      "source": [
        "## **Grupo2Digitos**\n",
        "\n",
        "## **Diagrama de flujo**\n",
        "\n",
        "![Grupo2digitos.png](data:image/png;base64,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)"
      ],
      "metadata": {
        "id": "qkdiLlCrkUBD"
      }
    },
    {
      "cell_type": "markdown",
      "source": [
        "**Pseudocódigo**\n",
        "```\n",
        "# Algoritmo Grupo2Digitos\n",
        "\tres = 0\n",
        "\tLeer num\n",
        "\tSi num<10 Y num>=0 Entonces\n",
        "\t\tMientras num>=10 Hacer\n",
        "\t\t\tnum = num//100\n",
        "\t\t\tres = res+1\n",
        "\t\t\tEscribir res\n",
        "\t\tFinMientras\n",
        "\tSiNo\n",
        "\t\tEscribir \"ERROR\"\n",
        "\tFinSi\n",
        "FinAlgoritmo\n",
        "\n",
        "```\n",
        "\n"
      ],
      "metadata": {
        "id": "y4R9vngZrO61"
      }
    },
    {
      "cell_type": "code",
      "source": [
        "#CÓDIGO EN PYTHON\n",
        "\n",
        "def grupo2Digitos(num):\n",
        "    resultado = 0\n",
        "    if isinstance(num, int):\n",
        "            if((num<10) and (num>=0)):\n",
        "                return 0\n",
        "            while num >=10:\n",
        "                num=num//100\n",
        "                resultado+=1\n",
        "            return resultado"
      ],
      "metadata": {
        "id": "L15Zrl3ircXg"
      },
      "execution_count": null,
      "outputs": []
    },
    {
      "cell_type": "markdown",
      "source": [
        "# **SEMANA 3**\n"
      ],
      "metadata": {
        "id": "5l9UCjYm-xof"
      }
    },
    {
      "cell_type": "markdown",
      "source": [
        "## **esPrimo**\n",
        "## **Diagrama de flujo**\n",
        "![esPrimo3.png](data:image/png;base64,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)"
      ],
      "metadata": {
        "id": "w4ee4DEfSZxY"
      }
    },
    {
      "cell_type": "markdown",
      "source": [
        "**PSEUDOCÓDIGO**\n",
        "\n",
        "\n",
        "```\n",
        "# Algoritmo esPrimo\n",
        "\tLeer num\n",
        "\tSi num>0 Entonces\n",
        "\t\tresultado = VERDADERO\n",
        "\t\tcontador = 2\n",
        "\t\tMientras contador<num Y resultado= VERDADERO Hacer\n",
        "\t\t\tSi num MOD contador>0 Entonces\n",
        "\t\t\t\tcontador = contador+1\n",
        "\t\t\tSiNo\n",
        "\t\t\t\tresultado = Falso\n",
        "\t\t\tFinSi\n",
        "\t\tFinMientras\n",
        "\t\tEscribir resultado\n",
        "\tSiNo\n",
        "\t\tEscribir \"ERROR: El valor debe ser mayor a cero\"\n",
        "\tFinSi\n",
        "FinAlgoritmo\n",
        "\n",
        "```\n",
        "\n"
      ],
      "metadata": {
        "id": "oEXHmC72A7sK"
      }
    },
    {
      "cell_type": "code",
      "source": [
        "\n",
        "#CÓDIGO EN PYTON\n",
        "def esPrimo(num):\n",
        "    if(isinstance(num, int)):\n",
        "        if(num>0):\n",
        "            return esPrimo_Aux(num)\n",
        "        else:\n",
        "            return \"Debe ser mayor a cero\"\n",
        "    else:\n",
        "        return \"Debe ser un valor entero\"\n",
        "\n",
        "def esPrimo_Aux(num):\n",
        "    resultado= True\n",
        "    contador= 2\n",
        "    if(num>1):\n",
        "        while(contador<num and resultado==True):\n",
        "            if(num%contador>0):\n",
        "                contador+=1\n",
        "            else:\n",
        "                resultado= False\n",
        "        return resultado\n",
        "\n"
      ],
      "metadata": {
        "id": "syC5D1vpDyYU"
      },
      "execution_count": null,
      "outputs": []
    },
    {
      "cell_type": "markdown",
      "source": [
        "## **Divisores Numero**\n",
        "\n",
        "## **Diagrama de flujo**\n",
        "![Divisores.png](data:image/png;base64,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)"
      ],
      "metadata": {
        "id": "zzAWbdWwrtic"
      }
    },
    {
      "cell_type": "markdown",
      "source": [
        "**Pseudocódigo**\n",
        "```\n",
        "# Algoritmo divisores\n",
        "\tdivisor = 1\n",
        "\tLeer num\n",
        "\tMientras divisor<=num Hacer\n",
        "\t\tSi num MOD divisor==0 Entonces\n",
        "\t\t\tEscribir divisor\n",
        "\t\tFinSi\n",
        "\t\tEscribir divisor=divisor+1\n",
        "\tFinMientras\n",
        "FinAlgoritmo\n",
        "\n",
        "```\n",
        "\n"
      ],
      "metadata": {
        "id": "b8eQHqmVtI-e"
      }
    },
    {
      "cell_type": "code",
      "source": [
        "def divisoresNumero(num):\n",
        "    if(isinstance(num, int)):\n",
        "        if((num>0)):\n",
        "            return divisoresNumero_Aux(num)\n",
        "        else:\n",
        "            return \"ERROR: num debe ser mayor a cero\"\n",
        "    else:\n",
        "        return \"ERROR: num debe ser tipo entero positivo\"\n",
        "\n",
        "def divisoresNumero_Aux(num):\n",
        "    divisor=1\n",
        "    while(divisor<=num):\n",
        "        if(num%divisor==0):\n",
        "            print(divisor, end= \" \")\n",
        "        divisor+=1"
      ],
      "metadata": {
        "id": "LqYdkenbtRO-"
      },
      "execution_count": null,
      "outputs": []
    },
    {
      "cell_type": "markdown",
      "source": [
        "### SEMANA 4\n"
      ],
      "metadata": {
        "id": "ovFVneUcYpDS"
      }
    },
    {
      "cell_type": "markdown",
      "source": [
        "### **ContarDigitos**"
      ],
      "metadata": {
        "id": "hDsiAzUNYyf7"
      }
    },
    {
      "cell_type": "code",
      "source": [
        "def contarDigitos(num):\n",
        "    if(isinstance(num, int)):\n",
        "        if(num>0):\n",
        "            return contarDigitos_Aux(num)\n",
        "        else:\n",
        "            return \"ERROR: El parámetro num debe ser mayor a cero\"\n",
        "    else:\n",
        "        return \"ERROR: El parámetro num debe ser de tipo entero\"\n",
        "\n",
        "def contarDigitos_Aux(num):\n",
        "    res=0\n",
        "    while(num>0):\n",
        "        digito=num%10\n",
        "        num=num//10\n",
        "        res+=1\n",
        "        #print(digito)\n",
        "        #print(num)\n",
        "        #print(res)\n",
        "        #print(\"========\")\n",
        "    return res"
      ],
      "metadata": {
        "id": "IcUZ7ju2Y7eW"
      },
      "execution_count": null,
      "outputs": []
    },
    {
      "cell_type": "markdown",
      "source": [
        "### **ContarDigitosPares**"
      ],
      "metadata": {
        "id": "jYusm7WQZD_M"
      }
    },
    {
      "cell_type": "code",
      "source": [
        "def contarDigitosPares(num):\n",
        "    if(isinstance(num, int)):\n",
        "        if(num>0):\n",
        "            return contarDigitosPares_Aux(num)\n",
        "        else:\n",
        "            return \"ERROR: El parámetro num debe ser mayor a cero\"\n",
        "    else:\n",
        "        return \"ERROR: El parámetro num debe ser de tipo entero\"\n",
        "\n",
        "def contarDigitosPares_Aux(num):\n",
        "    res=0\n",
        "    while(num>0):\n",
        "        digito=num%10\n",
        "        num=num//10\n",
        "        if(digito%2==0):\n",
        "            res+=1\n",
        "    return res"
      ],
      "metadata": {
        "id": "xndn3bTVZIt0"
      },
      "execution_count": null,
      "outputs": []
    },
    {
      "cell_type": "markdown",
      "source": [
        "### **ContarDigitosImpares**"
      ],
      "metadata": {
        "id": "wIwOcKbnZOe-"
      }
    },
    {
      "cell_type": "code",
      "source": [
        "\n",
        "def contarDigitosImpares(num):\n",
        "    if(isinstance(num, int)):\n",
        "        if(num>0):\n",
        "            return contarDigitosImpares_Aux(num)\n",
        "        else:\n",
        "            return \"ERROR: El parámetro num debe ser mayor a cero\"\n",
        "    else:\n",
        "        return \"ERROR: El parámetro num debe ser de tipo entero\"\n",
        "\n",
        "def contarDigitosImpares_Aux(num):\n",
        "    res=0\n",
        "    while(num>0):\n",
        "        digito=num%10\n",
        "        num=num//10\n",
        "        if(digito%2!=0):\n",
        "            res+=1\n",
        "    return res"
      ],
      "metadata": {
        "id": "SoMu8HupZTns"
      },
      "execution_count": null,
      "outputs": []
    },
    {
      "cell_type": "markdown",
      "source": [
        "### **ContarGrupo2**"
      ],
      "metadata": {
        "id": "0C9dawP8ZaHn"
      }
    },
    {
      "cell_type": "code",
      "source": [
        "def contarGrupo2(num):\n",
        "    if(isinstance(num, int)):\n",
        "        if(num>0):\n",
        "            return contarGrupo2_Aux(num)\n",
        "        else:\n",
        "            return \"ERROR: El parámetro num debe ser mayor a cero\"\n",
        "    else:\n",
        "        return \"ERROR: El parámetro num debe ser de tipo entero\"\n",
        "\n",
        "def contarGrupo2_Aux(num):\n",
        "    res=0\n",
        "    while(num>9):\n",
        "        digito=num%100\n",
        "        num=num//100\n",
        "        res+=1\n",
        "    return res"
      ],
      "metadata": {
        "id": "4o0i12ZxZeIb"
      },
      "execution_count": null,
      "outputs": []
    },
    {
      "cell_type": "markdown",
      "source": [
        "### **SEMANA 5**"
      ],
      "metadata": {
        "id": "5LdwIi0mdW4h"
      }
    },
    {
      "cell_type": "markdown",
      "source": [
        "### **TotalDigitosDivisibles**"
      ],
      "metadata": {
        "id": "W2dyMs3FdbZ1"
      }
    },
    {
      "cell_type": "code",
      "source": [
        "def totalNumerosDivisibles(num, divisor):\n",
        "  if(isinstance(num, int) and isinstance(divisor, int):\n",
        "    if(divisor>0):\n",
        "      cont=0\n",
        "     while(num>0):\n",
        "       div=num % 10\n",
        "       if divi%divisor==0:\n",
        "          cont+=1\n",
        "        num=num//10\n",
        "     return cont"
      ],
      "metadata": {
        "id": "yyy_0gIij0s9"
      },
      "execution_count": null,
      "outputs": []
    },
    {
      "cell_type": "markdown",
      "source": [
        "### **TotalNumerosPrimos**"
      ],
      "metadata": {
        "id": "lPUpUq85dqrr"
      }
    },
    {
      "cell_type": "code",
      "source": [
        "def totalNumerosPrimos(num):\n",
        "    if(isinstance(num, int)):\n",
        "        if(num>0):\n",
        "            return totalNumerosPrimos_Aux(num)\n",
        "        else:\n",
        "            return \"ERROR: num debe ser mayor a cero\"\n",
        "    else:\n",
        "        return \"ERROR: num debe ser tipo entero\"\n",
        "def totalNumerosPrimos_Aux(num):\n",
        "    cont=0\n",
        "    div=1\n",
        "    while(num>0):\n",
        "        cont+= 1\n",
        "        div+=1\n",
        "    return cont"
      ],
      "metadata": {
        "id": "GpCOooI_kvfK"
      },
      "execution_count": null,
      "outputs": []
    },
    {
      "cell_type": "markdown",
      "source": [
        "### **Sumatoria**\n"
      ],
      "metadata": {
        "id": "oULKN0dtlt1g"
      }
    },
    {
      "cell_type": "code",
      "source": [
        "def sumatoria(i,n):\n",
        "    res=0\n",
        "    for elemento in range(i, n+1):\n",
        "        res+= elemento\n",
        "    return res"
      ],
      "metadata": {
        "id": "8BG_gG_Ll0Iq"
      },
      "execution_count": null,
      "outputs": []
    },
    {
      "cell_type": "markdown",
      "source": [
        "### **MultiWHILE**\n"
      ],
      "metadata": {
        "id": "mHUt6eqWneG7"
      }
    },
    {
      "cell_type": "code",
      "source": [
        "def multiWhile(lista):\n",
        "    if(isinstance(lista, list)):\n",
        "        if lista != []:\n",
        "            return multiWhile_Aux(lista)\n",
        "        else:\n",
        "            return \"ERROR: Lista no puede ser vacio\"\n",
        "    else:\n",
        "        return \"ERROR: lista debe ser tipo list\"\n",
        "\n",
        "def multiWhile_Aux(lista)\n",
        "        res=1\n",
        "        while(lista != []):\n",
        "            num= lista[0]\n",
        "            res= num * res\n",
        "            lista = lista[1:]\n",
        "        return lista\n"
      ],
      "metadata": {
        "id": "TqIIhJaInh8b"
      },
      "execution_count": null,
      "outputs": []
    },
    {
      "cell_type": "markdown",
      "source": [
        "### **MultiFor**"
      ],
      "metadata": {
        "id": "jCAs44Pfntk9"
      }
    },
    {
      "cell_type": "code",
      "source": [
        "def multiFor(lista):\n",
        "      if(isinstance(lista, list)):\n",
        "        if lista != []:\n",
        "            return multiWhile_For(lista)\n",
        "        else:\n",
        "            return \"ERROR: Lista no puede ser vacio\"\n",
        "    else:\n",
        "        return \"ERROR: lista debe ser tipo list\"\n",
        "\n",
        "def multiWhile_For(lista):\n",
        "    res=1\n",
        "    for i in lista:\n",
        "        res=res*i\n",
        "    return res"
      ],
      "metadata": {
        "id": "9iKLILJ2nvUa"
      },
      "execution_count": null,
      "outputs": []
    },
    {
      "cell_type": "markdown",
      "source": [
        "### **SEMANA 6**\n",
        "### **(NO HAY EJERCICIOS)**"
      ],
      "metadata": {
        "id": "Sj87YTuvn71X"
      }
    },
    {
      "cell_type": "markdown",
      "source": [
        "### **SepararParesImpares**"
      ],
      "metadata": {
        "id": "0bDoQ1U2bR7P"
      }
    },
    {
      "cell_type": "code",
      "source": [
        "\"\"\"\n",
        "Nombre: separarParesImpares\n",
        "Entrada: Una lista\n",
        "Salidas: Concatenación de listas de números pares e impares\n",
        "Restricciones: Lista debe ser tipo list\n",
        "\"\"\"\n",
        "def separarParesImpares(lista):\n",
        "    if(isinstance(lista, list)):\n",
        "        return separarParesImpares_Aux(lista)\n",
        "    else:\n",
        "        return \"ERROR: Lista debe ser type list\"\n",
        "\n",
        "def separarParesImpares_Aux(lista):\n",
        "    pares=[]\n",
        "    impares=[]\n",
        "    for num in lista:\n",
        "        if((num % 2==0)):\n",
        "            pares+= [num]\n",
        "        else:\n",
        "            impares+=[num]\n",
        "    return pares,impares"
      ],
      "metadata": {
        "id": "NnlezCjYbb2H"
      },
      "execution_count": null,
      "outputs": []
    },
    {
      "cell_type": "markdown",
      "source": [
        "### **EliminarElemento**"
      ],
      "metadata": {
        "id": "G9HH6usgbdpC"
      }
    },
    {
      "cell_type": "code",
      "source": [
        "\n",
        "\"\"\"\n",
        "Nombre: EliminarElemento\n",
        "Entradas: Una lista y un elemento\n",
        "Salida: Una lista sin la primera aparición del elemento\n",
        "Restricciones: Lista debe ser diferente a vacio y tipo lIST\n",
        "               Elemento debe ser mayor igual a cero y tipo INT \n",
        "\"\"\"\n",
        "def eliminarElemento(lista, elemento):\n",
        "    if(isinstance(lista,list) and isinstance(elemento, int)):\n",
        "        if((lista!=[]) and (elemento>=0)):\n",
        "           return eliminarElemento_Aux(lista, elemento)\n",
        "        else:\n",
        "            return \"ERROR: El parámetro LISTA no debe ser vacio y elemento debe ser mayor igual a cero\"\n",
        "    else:\n",
        "        return \"ERROR: El parámetro LISTA debe ser type LIST y elemento debe ser type INT\"\n",
        "\n",
        "def eliminarElemento_Aux(lista, elemento):\n",
        "    win= False\n",
        "    TempList=[]\n",
        "    digito=elemento\n",
        "\n",
        "    for num in lista:\n",
        "        if(win!= True):\n",
        "            if(digito!= num):\n",
        "                TempList+= [num]\n",
        "            else:\n",
        "                win=True\n",
        "        else:\n",
        "            TempList+= [num]\n",
        "    return TempList"
      ],
      "metadata": {
        "id": "DdlN5CwGbkVD"
      },
      "execution_count": null,
      "outputs": []
    },
    {
      "cell_type": "markdown",
      "source": [
        "### **EliminarElementos**"
      ],
      "metadata": {
        "id": "nxep5Qbcbl34"
      }
    },
    {
      "cell_type": "code",
      "source": [
        "\n",
        "\"\"\"\n",
        "Nombre: EliminarElementos\n",
        "Entradas: Una lista y un elemento\n",
        "Salida: Una lista sin el elemento indicado\n",
        "Restricciones: Lista debe ser diferente a vacio y tipo lIST\n",
        "               Elemento debe ser mayor igual a cero y tipo INT \n",
        "\"\"\"\n",
        "def eliminarElementos(lista, elemento):\n",
        "    if(isinstance(lista,list) and isinstance(elemento, int)):\n",
        "        if((lista!=[]) and (elemento>=0)):\n",
        "           return eliminarElementos_Aux(lista, elemento)\n",
        "        else:\n",
        "            return \"ERROR: El parámetro LISTA no debe ser vacio y elemento debe ser mayor igual a cero\"\n",
        "    else:\n",
        "        return \"ERROR: El parámetro LISTA debe ser type LIST y elemento debe ser type INT\"\n",
        "def eliminarElementos_Aux(lista, elemento):\n",
        "    TempList=[]\n",
        "    win=False\n",
        "    digito=elemento\n",
        "\n",
        "    for num in lista:\n",
        "        if(digito!=num):\n",
        "            TempList+=[num]\n",
        "        else:\n",
        "            win = True\n",
        "    return TempList"
      ],
      "metadata": {
        "id": "wDNNEaSqbo6-"
      },
      "execution_count": null,
      "outputs": []
    },
    {
      "cell_type": "markdown",
      "source": [
        "### **Ascendente FOR**"
      ],
      "metadata": {
        "id": "zESBK8qabvGD"
      }
    },
    {
      "cell_type": "code",
      "source": [
        "\n",
        "\"\"\"\n",
        "Nombre: AscendenteFor\n",
        "Entradas: Una lista\n",
        "Salida: Una lista ascendente\n",
        "Restricciones: Los digitos de la lista tienen que estar conformados por números enteros\n",
        "\"\"\"\n",
        "#ASCENDENTE FOR\n",
        "\n",
        "def largoLista(lista):\n",
        "    largo=0\n",
        "    for elemento in lista:\n",
        "        largo+= 1\n",
        "    return largo\n",
        "\n",
        "def ascendenteFor(lista):\n",
        "    for num in range(1,largoLista(lista)): \n",
        "        for elemento in range(largoLista(lista) - num): \n",
        "            if(lista[elemento] > lista [elemento + 1]):\n",
        "                TempList = lista[elemento]\n",
        "                lista[elemento] = lista[elemento + 1]\n",
        "                lista[elemento + 1] = TempList\n",
        "    return lista"
      ],
      "metadata": {
        "id": "eCzLS-4lb8Ru"
      },
      "execution_count": null,
      "outputs": []
    },
    {
      "cell_type": "markdown",
      "source": [
        "### **Ascendente WHILE**"
      ],
      "metadata": {
        "id": "MmlUyQbKb-gB"
      }
    },
    {
      "cell_type": "code",
      "source": [
        "\n",
        "\"\"\"\n",
        "Nombre: AscendenteWhile\n",
        "Entradas: Una lista\n",
        "Salida: Una lista ascendente\n",
        "Restricciones: Los digitos de la lista tienen que estar conformados por números enteros\n",
        "\"\"\"\n",
        "def largoLista(lista):\n",
        "    largo=0\n",
        "    for elemento in lista:\n",
        "        largo+= 1\n",
        "    return largo\n",
        "\n",
        "def ascendenteWhile(lista):\n",
        "    recorrido= largoLista(lista)-1\n",
        "    while(recorrido>0):\n",
        "        elemento=0\n",
        "        while(elemento<recorrido):\n",
        "            if(lista[elemento] > lista[elemento+1]):\n",
        "                TempList = lista[elemento]\n",
        "                lista[elemento]= lista[elemento+1]\n",
        "                lista[elemento+1] = TempList\n",
        "            elemento+= 1\n",
        "        recorrido-= 1\n",
        "    return lista\n"
      ],
      "metadata": {
        "id": "sPMYPSJ9cLeR"
      },
      "execution_count": null,
      "outputs": []
    },
    {
      "cell_type": "markdown",
      "source": [
        "### **SEMANA 8**"
      ],
      "metadata": {
        "id": "QUT8jubwAkrr"
      }
    },
    {
      "cell_type": "markdown",
      "source": [
        "### **ValidarVector**"
      ],
      "metadata": {
        "id": "P1CdwkOuAv75"
      }
    },
    {
      "cell_type": "code",
      "source": [
        "def validarVector(vector):\n",
        "    if(isinstance(vector, list)):\n",
        "        if(vector!=[]):\n",
        "            return validarVector_Aux(lista)\n",
        "        else:\n",
        "            return \"ERROR: El parámetro no debe ser vacio\"\n",
        "    else:\n",
        "        return \"ERROR: El parámetro debe ser type lIST y type INT\"\n",
        "def validarVector(vector):\n",
        "    res=True\n",
        "    indice=0\n",
        "    largo=largoLista(vector)\n",
        "    while(indice!=largo):\n",
        "        if(not isinstance(vector[indice], int)):\n",
        "            res= False\n",
        "            break\n",
        "        indice+=1\n",
        "    return res"
      ],
      "metadata": {
        "id": "uRpKzm-qA0e-"
      },
      "execution_count": null,
      "outputs": []
    },
    {
      "cell_type": "markdown",
      "source": [
        "### **SumaVectoresWhile**"
      ],
      "metadata": {
        "id": "7HgBHrcTA9IC"
      }
    },
    {
      "cell_type": "code",
      "source": [
        "def largoLista_Aux(lista):\n",
        "    largo=0\n",
        "    for numero in lista:\n",
        "        largo+=1\n",
        "    return largo\n",
        "\n",
        "def validarVectoresEnterosListas(vec1,vec2):\n",
        "    if(validarVector(vec1) and validarVector(vec2)):\n",
        "        largoVector1= largoLista(vec1)\n",
        "        largoVector2= largoLista(vec2)\n",
        "\n",
        "        if(largoVector1 == largoVector2):\n",
        "            return True\n",
        "        else:\n",
        "            return False\n",
        "    else:\n",
        "        return False\n",
        "\n",
        "def sumaVecWhile(vec1,vec2):\n",
        "    if(validarVectoresEnterosListas(vec1,vec2)):\n",
        "        if((vec1!=[]) and (vec2!=[])):\n",
        "            return sumaVecWhile_Aux(vec1,vec2)\n",
        "        else:\n",
        "            return \"ERROR: Los parámetros NO deben ser vacios\"\n",
        "    else:\n",
        "        return \"ERROR: Los parámetros deben ser tipo list y enteros\"\n",
        "\n",
        "def sumaVecWhile_Aux(vec1,vec2):\n",
        "    res=[]\n",
        "    indice=0\n",
        "    largo=largoLista(vec1)\n",
        "    while(indice!=largo):\n",
        "        res+= [vec1[indice] + vec2[indice]]\n",
        "        indice+= 1\n",
        "    return res"
      ],
      "metadata": {
        "id": "26w9qYMSBCLh"
      },
      "execution_count": null,
      "outputs": []
    },
    {
      "cell_type": "markdown",
      "source": [
        "### **SumaVectoresFor**"
      ],
      "metadata": {
        "id": "xHyfPbwuENhY"
      }
    },
    {
      "cell_type": "code",
      "source": [
        "def sumaVecFor(vec1,vec2):\n",
        "    if(validarVectoresEnterosListas(vec1,vec2)):\n",
        "        if((vec1!=[]) and (vec2!=[])):\n",
        "            return sumaVecFor_Aux(vec1,vec2)\n",
        "        else:\n",
        "            return \"ERROR: Los parámetros NO deben ser vacios\"\n",
        "    else:\n",
        "        return \"ERROR: Los parámetros deben ser tipo list y enteros\"\n",
        "    \n",
        "def sumaVecFor_Aux(vec1, vec2):\n",
        "    res=[]\n",
        "    largo=largoLista(vec1)\n",
        "    for indice in range(largo):\n",
        "        res+=[vec1[indice]+vec2[indice]]\n",
        "    return res\n",
        "\n"
      ],
      "metadata": {
        "id": "Qnbm3t-cC_ql"
      },
      "execution_count": null,
      "outputs": []
    },
    {
      "cell_type": "markdown",
      "source": [
        "### ***ProductoEscalarWhile***"
      ],
      "metadata": {
        "id": "l6pDkLl1BUPA"
      }
    },
    {
      "cell_type": "code",
      "source": [
        "def ProductoEscalarWhile(vec1,vec2):\n",
        "    if(validarVectoresEnterosListas(vec1,vec2)):\n",
        "        if((vec1!=[]) and (vec2!=[])):\n",
        "            return ProductoEscalarWhile_Aux(vec1,vec2)\n",
        "        else:\n",
        "            return \"ERROR: Los parámetros NO deben ser vacios\"\n",
        "    else:\n",
        "        return \"ERROR: Los parámetros deben ser tipo list y enteros\"\n",
        "def ProductoEscalarWhile_Aux(vec1,vec2):\n",
        "  largo= largoLista(vec1)\n",
        "  indice=0\n",
        "  res=0\n",
        "  while(indice!= largo):\n",
        "    res+= vec1[indice]* vec2[indice]\n",
        "    indice+=1\n",
        "  return res\n",
        "\n"
      ],
      "metadata": {
        "id": "IX60RZ4NBo6d"
      },
      "execution_count": null,
      "outputs": []
    },
    {
      "cell_type": "markdown",
      "source": [
        "### **ProductoEscalarFor**"
      ],
      "metadata": {
        "id": "PqlTUiNQElzu"
      }
    },
    {
      "cell_type": "code",
      "source": [
        "def ProductoEscalarFor(vec1,vec2):\n",
        "    if(validarVectoresEnterosListas(vec1,vec2)):\n",
        "        if((vec1!=[]) and (vec2!=[])):\n",
        "            return ProductoEscalarFor_Aux(vec1,vec2)\n",
        "        else:\n",
        "            return \"ERROR: Los parámetros NO deben ser vacios\"\n",
        "    else:\n",
        "        return \"ERROR: Los parámetros deben ser tipo list y enteros\"\n",
        "def ProductoEscalarFor_Aux(vec1,vec2):\n",
        "    res=0\n",
        "    largo=largoLista(vector1)\n",
        "    for indice in range(largo):\n",
        "        res+= vector1[indice]* vector2[indice]\n",
        "    return res"
      ],
      "metadata": {
        "id": "sm13iqdHEpFP"
      },
      "execution_count": null,
      "outputs": []
    },
    {
      "cell_type": "markdown",
      "source": [
        "### **Vector X Escalar While**"
      ],
      "metadata": {
        "id": "rlQxqrfOOXLj"
      }
    },
    {
      "cell_type": "code",
      "source": [
        "def vectorXescalarWhile(vector,multi):\n",
        "    if(isinstance(vector, list) and (isinstance(multi, int))):\n",
        "        if(vector!=[]):\n",
        "                return vectorXescalarWhile_Aux(vector,multi)\n",
        "        else:\n",
        "            return \"ERROR: El parámetro Vector NO debe ser vacio\"\n",
        "    else:\n",
        "        return \"ERROR: El parámetro Vector debe ser tipo list y multi un número entero\"\n",
        "\n",
        "def vectorXescalarWhile_Aux(vector,multi):\n",
        "    res=[]\n",
        "    indice=0\n",
        "    while(indice!=vector):\n",
        "        res+=[indice*multi]\n",
        "        indice+=1\n",
        "    return res\n",
        "    \n"
      ],
      "metadata": {
        "id": "P1oz6_PYObqm"
      },
      "execution_count": null,
      "outputs": []
    },
    {
      "cell_type": "markdown",
      "source": [
        "### **Vector X Escalar For**"
      ],
      "metadata": {
        "id": "Ixuz0HDGOIK-"
      }
    },
    {
      "cell_type": "code",
      "source": [
        "\n",
        "def vectorXescalar(vector,multi):\n",
        "    if(isinstance(vector, list) and (isinstance(multi, int))):\n",
        "        if(vector!=[]):\n",
        "                return vectorXescalar_Aux(vector,multi)\n",
        "        else:\n",
        "            return \"ERROR: El parámetro Vector NO debe ser vacio\"\n",
        "    else:\n",
        "        return \"ERROR: El parámetro Vector debe ser tipo list y multi un número entero\"\n",
        "\n",
        "def vectorXescalar_Aux(vector,multi):\n",
        "    res=[]\n",
        "    for elemento in vector:\n",
        "        res+=[elemento*multi]\n",
        "    return res\n"
      ],
      "metadata": {
        "id": "iwrF0WfpOLaX"
      },
      "execution_count": null,
      "outputs": []
    },
    {
      "cell_type": "markdown",
      "source": [],
      "metadata": {
        "id": "E6B0qOZFBwe1"
      }
    }
  ]
}